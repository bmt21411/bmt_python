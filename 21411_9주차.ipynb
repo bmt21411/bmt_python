{
  "nbformat": 4,
  "nbformat_minor": 0,
  "metadata": {
    "colab": {
      "name": "21411_9주차.ipynb",
      "provenance": [],
      "collapsed_sections": [],
      "authorship_tag": "ABX9TyPxzODaqCx5rhn3lPfPmpp5",
      "include_colab_link": true
    },
    "kernelspec": {
      "name": "python3",
      "display_name": "Python 3"
    },
    "language_info": {
      "name": "python"
    }
  },
  "cells": [
    {
      "cell_type": "markdown",
      "metadata": {
        "id": "view-in-github",
        "colab_type": "text"
      },
      "source": [
        "<a href=\"https://colab.research.google.com/github/bmt21411/bmt_python/blob/main/21411_9%EC%A3%BC%EC%B0%A8.ipynb\" target=\"_parent\"><img src=\"https://colab.research.google.com/assets/colab-badge.svg\" alt=\"Open In Colab\"/></a>"
      ]
    },
    {
      "cell_type": "code",
      "metadata": {
        "id": "M-s3rDnrdTEu"
      },
      "source": [
        "import pandas as pd\n",
        "import numpy as np\n",
        "import matplotlib.pyplot as plt"
      ],
      "execution_count": 1,
      "outputs": []
    },
    {
      "cell_type": "code",
      "metadata": {
        "id": "CG6OD0gDftIJ"
      },
      "source": [
        "s = pd.Series([1, 2, 5, np.nan, 6, 8])"
      ],
      "execution_count": 50,
      "outputs": []
    },
    {
      "cell_type": "code",
      "metadata": {
        "colab": {
          "base_uri": "https://localhost:8080/"
        },
        "id": "nDSKqTbXgKCH",
        "outputId": "2b07d338-2d66-423b-9f00-7f178e4ecc34"
      },
      "source": [
        "s"
      ],
      "execution_count": 51,
      "outputs": [
        {
          "output_type": "execute_result",
          "data": {
            "text/plain": [
              "0    1.0\n",
              "1    2.0\n",
              "2    5.0\n",
              "3    NaN\n",
              "4    6.0\n",
              "5    8.0\n",
              "dtype: float64"
            ]
          },
          "metadata": {
            "tags": []
          },
          "execution_count": 51
        }
      ]
    },
    {
      "cell_type": "code",
      "metadata": {
        "colab": {
          "base_uri": "https://localhost:8080/"
        },
        "id": "8e-GMSRRgpiF",
        "outputId": "1bc4e692-25bf-40d0-8692-6437b78e3f6f"
      },
      "source": [
        "type(s)"
      ],
      "execution_count": 52,
      "outputs": [
        {
          "output_type": "execute_result",
          "data": {
            "text/plain": [
              "pandas.core.series.Series"
            ]
          },
          "metadata": {
            "tags": []
          },
          "execution_count": 52
        }
      ]
    },
    {
      "cell_type": "code",
      "metadata": {
        "id": "iHE7OJfphEog"
      },
      "source": [
        "dates = pd.date_range('20210430', periods=6)"
      ],
      "execution_count": 53,
      "outputs": []
    },
    {
      "cell_type": "code",
      "metadata": {
        "colab": {
          "base_uri": "https://localhost:8080/"
        },
        "id": "xq4az3JOhGjn",
        "outputId": "3348750a-bffa-44f1-d102-c4ed7afb374c"
      },
      "source": [
        "dates"
      ],
      "execution_count": 54,
      "outputs": [
        {
          "output_type": "execute_result",
          "data": {
            "text/plain": [
              "DatetimeIndex(['2021-04-30', '2021-05-01', '2021-05-02', '2021-05-03',\n",
              "               '2021-05-04', '2021-05-05'],\n",
              "              dtype='datetime64[ns]', freq='D')"
            ]
          },
          "metadata": {
            "tags": []
          },
          "execution_count": 54
        }
      ]
    },
    {
      "cell_type": "code",
      "metadata": {
        "id": "ef-bWKlfhK66"
      },
      "source": [
        "df = pd.DataFrame(np.random.randn(6,4), index=dates, columns=list('ABCD'))"
      ],
      "execution_count": 55,
      "outputs": []
    },
    {
      "cell_type": "code",
      "metadata": {
        "colab": {
          "base_uri": "https://localhost:8080/",
          "height": 225
        },
        "id": "yAPc0gnZhvV1",
        "outputId": "f9702e0e-8cc7-4492-e59b-acb996b59825"
      },
      "source": [
        "df"
      ],
      "execution_count": 56,
      "outputs": [
        {
          "output_type": "execute_result",
          "data": {
            "text/html": [
              "<div>\n",
              "<style scoped>\n",
              "    .dataframe tbody tr th:only-of-type {\n",
              "        vertical-align: middle;\n",
              "    }\n",
              "\n",
              "    .dataframe tbody tr th {\n",
              "        vertical-align: top;\n",
              "    }\n",
              "\n",
              "    .dataframe thead th {\n",
              "        text-align: right;\n",
              "    }\n",
              "</style>\n",
              "<table border=\"1\" class=\"dataframe\">\n",
              "  <thead>\n",
              "    <tr style=\"text-align: right;\">\n",
              "      <th></th>\n",
              "      <th>A</th>\n",
              "      <th>B</th>\n",
              "      <th>C</th>\n",
              "      <th>D</th>\n",
              "    </tr>\n",
              "  </thead>\n",
              "  <tbody>\n",
              "    <tr>\n",
              "      <th>2021-04-30</th>\n",
              "      <td>0.388076</td>\n",
              "      <td>-0.608399</td>\n",
              "      <td>-0.198925</td>\n",
              "      <td>-0.444986</td>\n",
              "    </tr>\n",
              "    <tr>\n",
              "      <th>2021-05-01</th>\n",
              "      <td>2.275823</td>\n",
              "      <td>0.423238</td>\n",
              "      <td>0.037652</td>\n",
              "      <td>1.444644</td>\n",
              "    </tr>\n",
              "    <tr>\n",
              "      <th>2021-05-02</th>\n",
              "      <td>-0.231695</td>\n",
              "      <td>-0.239672</td>\n",
              "      <td>-0.341289</td>\n",
              "      <td>1.210317</td>\n",
              "    </tr>\n",
              "    <tr>\n",
              "      <th>2021-05-03</th>\n",
              "      <td>-0.458230</td>\n",
              "      <td>1.318869</td>\n",
              "      <td>-0.782895</td>\n",
              "      <td>-1.187362</td>\n",
              "    </tr>\n",
              "    <tr>\n",
              "      <th>2021-05-04</th>\n",
              "      <td>0.116776</td>\n",
              "      <td>-1.025247</td>\n",
              "      <td>-1.447914</td>\n",
              "      <td>0.862095</td>\n",
              "    </tr>\n",
              "    <tr>\n",
              "      <th>2021-05-05</th>\n",
              "      <td>0.860534</td>\n",
              "      <td>0.268884</td>\n",
              "      <td>2.170151</td>\n",
              "      <td>-0.197698</td>\n",
              "    </tr>\n",
              "  </tbody>\n",
              "</table>\n",
              "</div>"
            ],
            "text/plain": [
              "                   A         B         C         D\n",
              "2021-04-30  0.388076 -0.608399 -0.198925 -0.444986\n",
              "2021-05-01  2.275823  0.423238  0.037652  1.444644\n",
              "2021-05-02 -0.231695 -0.239672 -0.341289  1.210317\n",
              "2021-05-03 -0.458230  1.318869 -0.782895 -1.187362\n",
              "2021-05-04  0.116776 -1.025247 -1.447914  0.862095\n",
              "2021-05-05  0.860534  0.268884  2.170151 -0.197698"
            ]
          },
          "metadata": {
            "tags": []
          },
          "execution_count": 56
        }
      ]
    },
    {
      "cell_type": "code",
      "metadata": {
        "id": "sSEs9e3Zjnga"
      },
      "source": [
        "df2 = pd.DataFrame(\n",
        "    {\n",
        "        'A': 1.,\n",
        "        'B': pd.Timestamp('20210430'),\n",
        "        'C': pd.Series(1, index=list(range(4)), dtype='float32'),\n",
        "        'D': np.array([3] * 4, dtype='int32'),\n",
        "        'E': pd.Categorical([\"test\", \"train\", \"test\", \"train\"]),\n",
        "        'F': 'foo'\n",
        "     }\n",
        ")"
      ],
      "execution_count": 57,
      "outputs": []
    },
    {
      "cell_type": "code",
      "metadata": {
        "colab": {
          "base_uri": "https://localhost:8080/",
          "height": 166
        },
        "id": "wNbHaaoaj36i",
        "outputId": "0c23c0da-bc49-48bd-ab47-7350e4b38ddd"
      },
      "source": [
        "df2"
      ],
      "execution_count": 58,
      "outputs": [
        {
          "output_type": "execute_result",
          "data": {
            "text/html": [
              "<div>\n",
              "<style scoped>\n",
              "    .dataframe tbody tr th:only-of-type {\n",
              "        vertical-align: middle;\n",
              "    }\n",
              "\n",
              "    .dataframe tbody tr th {\n",
              "        vertical-align: top;\n",
              "    }\n",
              "\n",
              "    .dataframe thead th {\n",
              "        text-align: right;\n",
              "    }\n",
              "</style>\n",
              "<table border=\"1\" class=\"dataframe\">\n",
              "  <thead>\n",
              "    <tr style=\"text-align: right;\">\n",
              "      <th></th>\n",
              "      <th>A</th>\n",
              "      <th>B</th>\n",
              "      <th>C</th>\n",
              "      <th>D</th>\n",
              "      <th>E</th>\n",
              "      <th>F</th>\n",
              "    </tr>\n",
              "  </thead>\n",
              "  <tbody>\n",
              "    <tr>\n",
              "      <th>0</th>\n",
              "      <td>1.0</td>\n",
              "      <td>2021-04-30</td>\n",
              "      <td>1.0</td>\n",
              "      <td>3</td>\n",
              "      <td>test</td>\n",
              "      <td>foo</td>\n",
              "    </tr>\n",
              "    <tr>\n",
              "      <th>1</th>\n",
              "      <td>1.0</td>\n",
              "      <td>2021-04-30</td>\n",
              "      <td>1.0</td>\n",
              "      <td>3</td>\n",
              "      <td>train</td>\n",
              "      <td>foo</td>\n",
              "    </tr>\n",
              "    <tr>\n",
              "      <th>2</th>\n",
              "      <td>1.0</td>\n",
              "      <td>2021-04-30</td>\n",
              "      <td>1.0</td>\n",
              "      <td>3</td>\n",
              "      <td>test</td>\n",
              "      <td>foo</td>\n",
              "    </tr>\n",
              "    <tr>\n",
              "      <th>3</th>\n",
              "      <td>1.0</td>\n",
              "      <td>2021-04-30</td>\n",
              "      <td>1.0</td>\n",
              "      <td>3</td>\n",
              "      <td>train</td>\n",
              "      <td>foo</td>\n",
              "    </tr>\n",
              "  </tbody>\n",
              "</table>\n",
              "</div>"
            ],
            "text/plain": [
              "     A          B    C  D      E    F\n",
              "0  1.0 2021-04-30  1.0  3   test  foo\n",
              "1  1.0 2021-04-30  1.0  3  train  foo\n",
              "2  1.0 2021-04-30  1.0  3   test  foo\n",
              "3  1.0 2021-04-30  1.0  3  train  foo"
            ]
          },
          "metadata": {
            "tags": []
          },
          "execution_count": 58
        }
      ]
    },
    {
      "cell_type": "code",
      "metadata": {
        "colab": {
          "base_uri": "https://localhost:8080/"
        },
        "id": "QJqvXR2vk6Ud",
        "outputId": "8f8afe4d-63bd-418b-9130-a9579eb64baa"
      },
      "source": [
        "type(df2)"
      ],
      "execution_count": 59,
      "outputs": [
        {
          "output_type": "execute_result",
          "data": {
            "text/plain": [
              "pandas.core.frame.DataFrame"
            ]
          },
          "metadata": {
            "tags": []
          },
          "execution_count": 59
        }
      ]
    },
    {
      "cell_type": "code",
      "metadata": {
        "colab": {
          "base_uri": "https://localhost:8080/"
        },
        "id": "Kzrbk9QRlJ2F",
        "outputId": "e4b2f714-9377-4e9e-be4e-5ee8ad08b584"
      },
      "source": [
        "df2.dtypes"
      ],
      "execution_count": 60,
      "outputs": [
        {
          "output_type": "execute_result",
          "data": {
            "text/plain": [
              "A           float64\n",
              "B    datetime64[ns]\n",
              "C           float32\n",
              "D             int32\n",
              "E          category\n",
              "F            object\n",
              "dtype: object"
            ]
          },
          "metadata": {
            "tags": []
          },
          "execution_count": 60
        }
      ]
    },
    {
      "cell_type": "code",
      "metadata": {
        "colab": {
          "base_uri": "https://localhost:8080/",
          "height": 225
        },
        "id": "NSlu3oWilMAV",
        "outputId": "e22ea02d-6f09-47de-9c74-e65ca5fe7d10"
      },
      "source": [
        "df"
      ],
      "execution_count": 61,
      "outputs": [
        {
          "output_type": "execute_result",
          "data": {
            "text/html": [
              "<div>\n",
              "<style scoped>\n",
              "    .dataframe tbody tr th:only-of-type {\n",
              "        vertical-align: middle;\n",
              "    }\n",
              "\n",
              "    .dataframe tbody tr th {\n",
              "        vertical-align: top;\n",
              "    }\n",
              "\n",
              "    .dataframe thead th {\n",
              "        text-align: right;\n",
              "    }\n",
              "</style>\n",
              "<table border=\"1\" class=\"dataframe\">\n",
              "  <thead>\n",
              "    <tr style=\"text-align: right;\">\n",
              "      <th></th>\n",
              "      <th>A</th>\n",
              "      <th>B</th>\n",
              "      <th>C</th>\n",
              "      <th>D</th>\n",
              "    </tr>\n",
              "  </thead>\n",
              "  <tbody>\n",
              "    <tr>\n",
              "      <th>2021-04-30</th>\n",
              "      <td>0.388076</td>\n",
              "      <td>-0.608399</td>\n",
              "      <td>-0.198925</td>\n",
              "      <td>-0.444986</td>\n",
              "    </tr>\n",
              "    <tr>\n",
              "      <th>2021-05-01</th>\n",
              "      <td>2.275823</td>\n",
              "      <td>0.423238</td>\n",
              "      <td>0.037652</td>\n",
              "      <td>1.444644</td>\n",
              "    </tr>\n",
              "    <tr>\n",
              "      <th>2021-05-02</th>\n",
              "      <td>-0.231695</td>\n",
              "      <td>-0.239672</td>\n",
              "      <td>-0.341289</td>\n",
              "      <td>1.210317</td>\n",
              "    </tr>\n",
              "    <tr>\n",
              "      <th>2021-05-03</th>\n",
              "      <td>-0.458230</td>\n",
              "      <td>1.318869</td>\n",
              "      <td>-0.782895</td>\n",
              "      <td>-1.187362</td>\n",
              "    </tr>\n",
              "    <tr>\n",
              "      <th>2021-05-04</th>\n",
              "      <td>0.116776</td>\n",
              "      <td>-1.025247</td>\n",
              "      <td>-1.447914</td>\n",
              "      <td>0.862095</td>\n",
              "    </tr>\n",
              "    <tr>\n",
              "      <th>2021-05-05</th>\n",
              "      <td>0.860534</td>\n",
              "      <td>0.268884</td>\n",
              "      <td>2.170151</td>\n",
              "      <td>-0.197698</td>\n",
              "    </tr>\n",
              "  </tbody>\n",
              "</table>\n",
              "</div>"
            ],
            "text/plain": [
              "                   A         B         C         D\n",
              "2021-04-30  0.388076 -0.608399 -0.198925 -0.444986\n",
              "2021-05-01  2.275823  0.423238  0.037652  1.444644\n",
              "2021-05-02 -0.231695 -0.239672 -0.341289  1.210317\n",
              "2021-05-03 -0.458230  1.318869 -0.782895 -1.187362\n",
              "2021-05-04  0.116776 -1.025247 -1.447914  0.862095\n",
              "2021-05-05  0.860534  0.268884  2.170151 -0.197698"
            ]
          },
          "metadata": {
            "tags": []
          },
          "execution_count": 61
        }
      ]
    },
    {
      "cell_type": "code",
      "metadata": {
        "colab": {
          "base_uri": "https://localhost:8080/",
          "height": 195
        },
        "id": "697v-qsPmCCn",
        "outputId": "37941da8-a4f9-4964-9592-ea74bca42518"
      },
      "source": [
        "df.head()"
      ],
      "execution_count": 62,
      "outputs": [
        {
          "output_type": "execute_result",
          "data": {
            "text/html": [
              "<div>\n",
              "<style scoped>\n",
              "    .dataframe tbody tr th:only-of-type {\n",
              "        vertical-align: middle;\n",
              "    }\n",
              "\n",
              "    .dataframe tbody tr th {\n",
              "        vertical-align: top;\n",
              "    }\n",
              "\n",
              "    .dataframe thead th {\n",
              "        text-align: right;\n",
              "    }\n",
              "</style>\n",
              "<table border=\"1\" class=\"dataframe\">\n",
              "  <thead>\n",
              "    <tr style=\"text-align: right;\">\n",
              "      <th></th>\n",
              "      <th>A</th>\n",
              "      <th>B</th>\n",
              "      <th>C</th>\n",
              "      <th>D</th>\n",
              "    </tr>\n",
              "  </thead>\n",
              "  <tbody>\n",
              "    <tr>\n",
              "      <th>2021-04-30</th>\n",
              "      <td>0.388076</td>\n",
              "      <td>-0.608399</td>\n",
              "      <td>-0.198925</td>\n",
              "      <td>-0.444986</td>\n",
              "    </tr>\n",
              "    <tr>\n",
              "      <th>2021-05-01</th>\n",
              "      <td>2.275823</td>\n",
              "      <td>0.423238</td>\n",
              "      <td>0.037652</td>\n",
              "      <td>1.444644</td>\n",
              "    </tr>\n",
              "    <tr>\n",
              "      <th>2021-05-02</th>\n",
              "      <td>-0.231695</td>\n",
              "      <td>-0.239672</td>\n",
              "      <td>-0.341289</td>\n",
              "      <td>1.210317</td>\n",
              "    </tr>\n",
              "    <tr>\n",
              "      <th>2021-05-03</th>\n",
              "      <td>-0.458230</td>\n",
              "      <td>1.318869</td>\n",
              "      <td>-0.782895</td>\n",
              "      <td>-1.187362</td>\n",
              "    </tr>\n",
              "    <tr>\n",
              "      <th>2021-05-04</th>\n",
              "      <td>0.116776</td>\n",
              "      <td>-1.025247</td>\n",
              "      <td>-1.447914</td>\n",
              "      <td>0.862095</td>\n",
              "    </tr>\n",
              "  </tbody>\n",
              "</table>\n",
              "</div>"
            ],
            "text/plain": [
              "                   A         B         C         D\n",
              "2021-04-30  0.388076 -0.608399 -0.198925 -0.444986\n",
              "2021-05-01  2.275823  0.423238  0.037652  1.444644\n",
              "2021-05-02 -0.231695 -0.239672 -0.341289  1.210317\n",
              "2021-05-03 -0.458230  1.318869 -0.782895 -1.187362\n",
              "2021-05-04  0.116776 -1.025247 -1.447914  0.862095"
            ]
          },
          "metadata": {
            "tags": []
          },
          "execution_count": 62
        }
      ]
    },
    {
      "cell_type": "code",
      "metadata": {
        "colab": {
          "base_uri": "https://localhost:8080/",
          "height": 195
        },
        "id": "60Jb0TtXmhWT",
        "outputId": "faaff06f-2482-45a3-fcbe-86301b4c53dd"
      },
      "source": [
        "df.tail()"
      ],
      "execution_count": 63,
      "outputs": [
        {
          "output_type": "execute_result",
          "data": {
            "text/html": [
              "<div>\n",
              "<style scoped>\n",
              "    .dataframe tbody tr th:only-of-type {\n",
              "        vertical-align: middle;\n",
              "    }\n",
              "\n",
              "    .dataframe tbody tr th {\n",
              "        vertical-align: top;\n",
              "    }\n",
              "\n",
              "    .dataframe thead th {\n",
              "        text-align: right;\n",
              "    }\n",
              "</style>\n",
              "<table border=\"1\" class=\"dataframe\">\n",
              "  <thead>\n",
              "    <tr style=\"text-align: right;\">\n",
              "      <th></th>\n",
              "      <th>A</th>\n",
              "      <th>B</th>\n",
              "      <th>C</th>\n",
              "      <th>D</th>\n",
              "    </tr>\n",
              "  </thead>\n",
              "  <tbody>\n",
              "    <tr>\n",
              "      <th>2021-05-01</th>\n",
              "      <td>2.275823</td>\n",
              "      <td>0.423238</td>\n",
              "      <td>0.037652</td>\n",
              "      <td>1.444644</td>\n",
              "    </tr>\n",
              "    <tr>\n",
              "      <th>2021-05-02</th>\n",
              "      <td>-0.231695</td>\n",
              "      <td>-0.239672</td>\n",
              "      <td>-0.341289</td>\n",
              "      <td>1.210317</td>\n",
              "    </tr>\n",
              "    <tr>\n",
              "      <th>2021-05-03</th>\n",
              "      <td>-0.458230</td>\n",
              "      <td>1.318869</td>\n",
              "      <td>-0.782895</td>\n",
              "      <td>-1.187362</td>\n",
              "    </tr>\n",
              "    <tr>\n",
              "      <th>2021-05-04</th>\n",
              "      <td>0.116776</td>\n",
              "      <td>-1.025247</td>\n",
              "      <td>-1.447914</td>\n",
              "      <td>0.862095</td>\n",
              "    </tr>\n",
              "    <tr>\n",
              "      <th>2021-05-05</th>\n",
              "      <td>0.860534</td>\n",
              "      <td>0.268884</td>\n",
              "      <td>2.170151</td>\n",
              "      <td>-0.197698</td>\n",
              "    </tr>\n",
              "  </tbody>\n",
              "</table>\n",
              "</div>"
            ],
            "text/plain": [
              "                   A         B         C         D\n",
              "2021-05-01  2.275823  0.423238  0.037652  1.444644\n",
              "2021-05-02 -0.231695 -0.239672 -0.341289  1.210317\n",
              "2021-05-03 -0.458230  1.318869 -0.782895 -1.187362\n",
              "2021-05-04  0.116776 -1.025247 -1.447914  0.862095\n",
              "2021-05-05  0.860534  0.268884  2.170151 -0.197698"
            ]
          },
          "metadata": {
            "tags": []
          },
          "execution_count": 63
        }
      ]
    },
    {
      "cell_type": "code",
      "metadata": {
        "colab": {
          "base_uri": "https://localhost:8080/",
          "height": 77
        },
        "id": "7OJJbmk9mEJ4",
        "outputId": "41c873ed-d4dd-440c-a40b-dd883ffc5dbf"
      },
      "source": [
        "df.head(1)"
      ],
      "execution_count": 64,
      "outputs": [
        {
          "output_type": "execute_result",
          "data": {
            "text/html": [
              "<div>\n",
              "<style scoped>\n",
              "    .dataframe tbody tr th:only-of-type {\n",
              "        vertical-align: middle;\n",
              "    }\n",
              "\n",
              "    .dataframe tbody tr th {\n",
              "        vertical-align: top;\n",
              "    }\n",
              "\n",
              "    .dataframe thead th {\n",
              "        text-align: right;\n",
              "    }\n",
              "</style>\n",
              "<table border=\"1\" class=\"dataframe\">\n",
              "  <thead>\n",
              "    <tr style=\"text-align: right;\">\n",
              "      <th></th>\n",
              "      <th>A</th>\n",
              "      <th>B</th>\n",
              "      <th>C</th>\n",
              "      <th>D</th>\n",
              "    </tr>\n",
              "  </thead>\n",
              "  <tbody>\n",
              "    <tr>\n",
              "      <th>2021-04-30</th>\n",
              "      <td>0.388076</td>\n",
              "      <td>-0.608399</td>\n",
              "      <td>-0.198925</td>\n",
              "      <td>-0.444986</td>\n",
              "    </tr>\n",
              "  </tbody>\n",
              "</table>\n",
              "</div>"
            ],
            "text/plain": [
              "                   A         B         C         D\n",
              "2021-04-30  0.388076 -0.608399 -0.198925 -0.444986"
            ]
          },
          "metadata": {
            "tags": []
          },
          "execution_count": 64
        }
      ]
    },
    {
      "cell_type": "code",
      "metadata": {
        "colab": {
          "base_uri": "https://localhost:8080/",
          "height": 106
        },
        "id": "_QJaZgbsmVoJ",
        "outputId": "1ab2af82-d82f-48d7-93d1-5e6c97f38e67"
      },
      "source": [
        "df.tail(2)"
      ],
      "execution_count": 65,
      "outputs": [
        {
          "output_type": "execute_result",
          "data": {
            "text/html": [
              "<div>\n",
              "<style scoped>\n",
              "    .dataframe tbody tr th:only-of-type {\n",
              "        vertical-align: middle;\n",
              "    }\n",
              "\n",
              "    .dataframe tbody tr th {\n",
              "        vertical-align: top;\n",
              "    }\n",
              "\n",
              "    .dataframe thead th {\n",
              "        text-align: right;\n",
              "    }\n",
              "</style>\n",
              "<table border=\"1\" class=\"dataframe\">\n",
              "  <thead>\n",
              "    <tr style=\"text-align: right;\">\n",
              "      <th></th>\n",
              "      <th>A</th>\n",
              "      <th>B</th>\n",
              "      <th>C</th>\n",
              "      <th>D</th>\n",
              "    </tr>\n",
              "  </thead>\n",
              "  <tbody>\n",
              "    <tr>\n",
              "      <th>2021-05-04</th>\n",
              "      <td>0.116776</td>\n",
              "      <td>-1.025247</td>\n",
              "      <td>-1.447914</td>\n",
              "      <td>0.862095</td>\n",
              "    </tr>\n",
              "    <tr>\n",
              "      <th>2021-05-05</th>\n",
              "      <td>0.860534</td>\n",
              "      <td>0.268884</td>\n",
              "      <td>2.170151</td>\n",
              "      <td>-0.197698</td>\n",
              "    </tr>\n",
              "  </tbody>\n",
              "</table>\n",
              "</div>"
            ],
            "text/plain": [
              "                   A         B         C         D\n",
              "2021-05-04  0.116776 -1.025247 -1.447914  0.862095\n",
              "2021-05-05  0.860534  0.268884  2.170151 -0.197698"
            ]
          },
          "metadata": {
            "tags": []
          },
          "execution_count": 65
        }
      ]
    },
    {
      "cell_type": "code",
      "metadata": {
        "colab": {
          "base_uri": "https://localhost:8080/",
          "height": 225
        },
        "id": "Vvj-q6QGma9T",
        "outputId": "b5cfbb07-3451-4f77-c5f3-fab293c8b7da"
      },
      "source": [
        "df"
      ],
      "execution_count": 66,
      "outputs": [
        {
          "output_type": "execute_result",
          "data": {
            "text/html": [
              "<div>\n",
              "<style scoped>\n",
              "    .dataframe tbody tr th:only-of-type {\n",
              "        vertical-align: middle;\n",
              "    }\n",
              "\n",
              "    .dataframe tbody tr th {\n",
              "        vertical-align: top;\n",
              "    }\n",
              "\n",
              "    .dataframe thead th {\n",
              "        text-align: right;\n",
              "    }\n",
              "</style>\n",
              "<table border=\"1\" class=\"dataframe\">\n",
              "  <thead>\n",
              "    <tr style=\"text-align: right;\">\n",
              "      <th></th>\n",
              "      <th>A</th>\n",
              "      <th>B</th>\n",
              "      <th>C</th>\n",
              "      <th>D</th>\n",
              "    </tr>\n",
              "  </thead>\n",
              "  <tbody>\n",
              "    <tr>\n",
              "      <th>2021-04-30</th>\n",
              "      <td>0.388076</td>\n",
              "      <td>-0.608399</td>\n",
              "      <td>-0.198925</td>\n",
              "      <td>-0.444986</td>\n",
              "    </tr>\n",
              "    <tr>\n",
              "      <th>2021-05-01</th>\n",
              "      <td>2.275823</td>\n",
              "      <td>0.423238</td>\n",
              "      <td>0.037652</td>\n",
              "      <td>1.444644</td>\n",
              "    </tr>\n",
              "    <tr>\n",
              "      <th>2021-05-02</th>\n",
              "      <td>-0.231695</td>\n",
              "      <td>-0.239672</td>\n",
              "      <td>-0.341289</td>\n",
              "      <td>1.210317</td>\n",
              "    </tr>\n",
              "    <tr>\n",
              "      <th>2021-05-03</th>\n",
              "      <td>-0.458230</td>\n",
              "      <td>1.318869</td>\n",
              "      <td>-0.782895</td>\n",
              "      <td>-1.187362</td>\n",
              "    </tr>\n",
              "    <tr>\n",
              "      <th>2021-05-04</th>\n",
              "      <td>0.116776</td>\n",
              "      <td>-1.025247</td>\n",
              "      <td>-1.447914</td>\n",
              "      <td>0.862095</td>\n",
              "    </tr>\n",
              "    <tr>\n",
              "      <th>2021-05-05</th>\n",
              "      <td>0.860534</td>\n",
              "      <td>0.268884</td>\n",
              "      <td>2.170151</td>\n",
              "      <td>-0.197698</td>\n",
              "    </tr>\n",
              "  </tbody>\n",
              "</table>\n",
              "</div>"
            ],
            "text/plain": [
              "                   A         B         C         D\n",
              "2021-04-30  0.388076 -0.608399 -0.198925 -0.444986\n",
              "2021-05-01  2.275823  0.423238  0.037652  1.444644\n",
              "2021-05-02 -0.231695 -0.239672 -0.341289  1.210317\n",
              "2021-05-03 -0.458230  1.318869 -0.782895 -1.187362\n",
              "2021-05-04  0.116776 -1.025247 -1.447914  0.862095\n",
              "2021-05-05  0.860534  0.268884  2.170151 -0.197698"
            ]
          },
          "metadata": {
            "tags": []
          },
          "execution_count": 66
        }
      ]
    },
    {
      "cell_type": "code",
      "metadata": {
        "colab": {
          "base_uri": "https://localhost:8080/"
        },
        "id": "Qf6I0vSmmd2j",
        "outputId": "c8e2d1a7-38d9-4af0-a6b5-ff4b86842aa7"
      },
      "source": [
        "df.index"
      ],
      "execution_count": 67,
      "outputs": [
        {
          "output_type": "execute_result",
          "data": {
            "text/plain": [
              "DatetimeIndex(['2021-04-30', '2021-05-01', '2021-05-02', '2021-05-03',\n",
              "               '2021-05-04', '2021-05-05'],\n",
              "              dtype='datetime64[ns]', freq='D')"
            ]
          },
          "metadata": {
            "tags": []
          },
          "execution_count": 67
        }
      ]
    },
    {
      "cell_type": "code",
      "metadata": {
        "colab": {
          "base_uri": "https://localhost:8080/"
        },
        "id": "0LktmptJmkxh",
        "outputId": "ede43a3b-51b0-42a2-a7e1-4a3fd8964fde"
      },
      "source": [
        "df.columns"
      ],
      "execution_count": 68,
      "outputs": [
        {
          "output_type": "execute_result",
          "data": {
            "text/plain": [
              "Index(['A', 'B', 'C', 'D'], dtype='object')"
            ]
          },
          "metadata": {
            "tags": []
          },
          "execution_count": 68
        }
      ]
    },
    {
      "cell_type": "code",
      "metadata": {
        "colab": {
          "base_uri": "https://localhost:8080/"
        },
        "id": "hk-DaLSkmoaW",
        "outputId": "ad86b526-528b-418c-f427-d05f63c85efb"
      },
      "source": [
        "df.values"
      ],
      "execution_count": 69,
      "outputs": [
        {
          "output_type": "execute_result",
          "data": {
            "text/plain": [
              "array([[ 0.38807601, -0.60839911, -0.19892516, -0.44498552],\n",
              "       [ 2.27582267,  0.42323786,  0.03765203,  1.44464356],\n",
              "       [-0.23169505, -0.23967238, -0.34128946,  1.21031714],\n",
              "       [-0.45822989,  1.31886921, -0.78289508, -1.18736168],\n",
              "       [ 0.11677618, -1.02524688, -1.44791398,  0.86209476],\n",
              "       [ 0.86053401,  0.2688843 ,  2.17015129, -0.19769811]])"
            ]
          },
          "metadata": {
            "tags": []
          },
          "execution_count": 69
        }
      ]
    },
    {
      "cell_type": "code",
      "metadata": {
        "colab": {
          "base_uri": "https://localhost:8080/",
          "height": 225
        },
        "id": "__GjVKTUms3G",
        "outputId": "97d4a6ba-862c-4ee5-a5ef-8be7b5194115"
      },
      "source": [
        "df"
      ],
      "execution_count": 70,
      "outputs": [
        {
          "output_type": "execute_result",
          "data": {
            "text/html": [
              "<div>\n",
              "<style scoped>\n",
              "    .dataframe tbody tr th:only-of-type {\n",
              "        vertical-align: middle;\n",
              "    }\n",
              "\n",
              "    .dataframe tbody tr th {\n",
              "        vertical-align: top;\n",
              "    }\n",
              "\n",
              "    .dataframe thead th {\n",
              "        text-align: right;\n",
              "    }\n",
              "</style>\n",
              "<table border=\"1\" class=\"dataframe\">\n",
              "  <thead>\n",
              "    <tr style=\"text-align: right;\">\n",
              "      <th></th>\n",
              "      <th>A</th>\n",
              "      <th>B</th>\n",
              "      <th>C</th>\n",
              "      <th>D</th>\n",
              "    </tr>\n",
              "  </thead>\n",
              "  <tbody>\n",
              "    <tr>\n",
              "      <th>2021-04-30</th>\n",
              "      <td>0.388076</td>\n",
              "      <td>-0.608399</td>\n",
              "      <td>-0.198925</td>\n",
              "      <td>-0.444986</td>\n",
              "    </tr>\n",
              "    <tr>\n",
              "      <th>2021-05-01</th>\n",
              "      <td>2.275823</td>\n",
              "      <td>0.423238</td>\n",
              "      <td>0.037652</td>\n",
              "      <td>1.444644</td>\n",
              "    </tr>\n",
              "    <tr>\n",
              "      <th>2021-05-02</th>\n",
              "      <td>-0.231695</td>\n",
              "      <td>-0.239672</td>\n",
              "      <td>-0.341289</td>\n",
              "      <td>1.210317</td>\n",
              "    </tr>\n",
              "    <tr>\n",
              "      <th>2021-05-03</th>\n",
              "      <td>-0.458230</td>\n",
              "      <td>1.318869</td>\n",
              "      <td>-0.782895</td>\n",
              "      <td>-1.187362</td>\n",
              "    </tr>\n",
              "    <tr>\n",
              "      <th>2021-05-04</th>\n",
              "      <td>0.116776</td>\n",
              "      <td>-1.025247</td>\n",
              "      <td>-1.447914</td>\n",
              "      <td>0.862095</td>\n",
              "    </tr>\n",
              "    <tr>\n",
              "      <th>2021-05-05</th>\n",
              "      <td>0.860534</td>\n",
              "      <td>0.268884</td>\n",
              "      <td>2.170151</td>\n",
              "      <td>-0.197698</td>\n",
              "    </tr>\n",
              "  </tbody>\n",
              "</table>\n",
              "</div>"
            ],
            "text/plain": [
              "                   A         B         C         D\n",
              "2021-04-30  0.388076 -0.608399 -0.198925 -0.444986\n",
              "2021-05-01  2.275823  0.423238  0.037652  1.444644\n",
              "2021-05-02 -0.231695 -0.239672 -0.341289  1.210317\n",
              "2021-05-03 -0.458230  1.318869 -0.782895 -1.187362\n",
              "2021-05-04  0.116776 -1.025247 -1.447914  0.862095\n",
              "2021-05-05  0.860534  0.268884  2.170151 -0.197698"
            ]
          },
          "metadata": {
            "tags": []
          },
          "execution_count": 70
        }
      ]
    },
    {
      "cell_type": "code",
      "metadata": {
        "colab": {
          "base_uri": "https://localhost:8080/",
          "height": 166
        },
        "id": "BHimTnJvmwVn",
        "outputId": "f5c292dc-b63a-48b2-9c35-5071bf0c121b"
      },
      "source": [
        "df.T"
      ],
      "execution_count": 71,
      "outputs": [
        {
          "output_type": "execute_result",
          "data": {
            "text/html": [
              "<div>\n",
              "<style scoped>\n",
              "    .dataframe tbody tr th:only-of-type {\n",
              "        vertical-align: middle;\n",
              "    }\n",
              "\n",
              "    .dataframe tbody tr th {\n",
              "        vertical-align: top;\n",
              "    }\n",
              "\n",
              "    .dataframe thead th {\n",
              "        text-align: right;\n",
              "    }\n",
              "</style>\n",
              "<table border=\"1\" class=\"dataframe\">\n",
              "  <thead>\n",
              "    <tr style=\"text-align: right;\">\n",
              "      <th></th>\n",
              "      <th>2021-04-30</th>\n",
              "      <th>2021-05-01</th>\n",
              "      <th>2021-05-02</th>\n",
              "      <th>2021-05-03</th>\n",
              "      <th>2021-05-04</th>\n",
              "      <th>2021-05-05</th>\n",
              "    </tr>\n",
              "  </thead>\n",
              "  <tbody>\n",
              "    <tr>\n",
              "      <th>A</th>\n",
              "      <td>0.388076</td>\n",
              "      <td>2.275823</td>\n",
              "      <td>-0.231695</td>\n",
              "      <td>-0.458230</td>\n",
              "      <td>0.116776</td>\n",
              "      <td>0.860534</td>\n",
              "    </tr>\n",
              "    <tr>\n",
              "      <th>B</th>\n",
              "      <td>-0.608399</td>\n",
              "      <td>0.423238</td>\n",
              "      <td>-0.239672</td>\n",
              "      <td>1.318869</td>\n",
              "      <td>-1.025247</td>\n",
              "      <td>0.268884</td>\n",
              "    </tr>\n",
              "    <tr>\n",
              "      <th>C</th>\n",
              "      <td>-0.198925</td>\n",
              "      <td>0.037652</td>\n",
              "      <td>-0.341289</td>\n",
              "      <td>-0.782895</td>\n",
              "      <td>-1.447914</td>\n",
              "      <td>2.170151</td>\n",
              "    </tr>\n",
              "    <tr>\n",
              "      <th>D</th>\n",
              "      <td>-0.444986</td>\n",
              "      <td>1.444644</td>\n",
              "      <td>1.210317</td>\n",
              "      <td>-1.187362</td>\n",
              "      <td>0.862095</td>\n",
              "      <td>-0.197698</td>\n",
              "    </tr>\n",
              "  </tbody>\n",
              "</table>\n",
              "</div>"
            ],
            "text/plain": [
              "   2021-04-30  2021-05-01  2021-05-02  2021-05-03  2021-05-04  2021-05-05\n",
              "A    0.388076    2.275823   -0.231695   -0.458230    0.116776    0.860534\n",
              "B   -0.608399    0.423238   -0.239672    1.318869   -1.025247    0.268884\n",
              "C   -0.198925    0.037652   -0.341289   -0.782895   -1.447914    2.170151\n",
              "D   -0.444986    1.444644    1.210317   -1.187362    0.862095   -0.197698"
            ]
          },
          "metadata": {
            "tags": []
          },
          "execution_count": 71
        }
      ]
    },
    {
      "cell_type": "code",
      "metadata": {
        "colab": {
          "base_uri": "https://localhost:8080/",
          "height": 225
        },
        "id": "auicumVGm_Ps",
        "outputId": "27f23ce6-a609-4645-aa42-05682a5769a8"
      },
      "source": [
        "df"
      ],
      "execution_count": 72,
      "outputs": [
        {
          "output_type": "execute_result",
          "data": {
            "text/html": [
              "<div>\n",
              "<style scoped>\n",
              "    .dataframe tbody tr th:only-of-type {\n",
              "        vertical-align: middle;\n",
              "    }\n",
              "\n",
              "    .dataframe tbody tr th {\n",
              "        vertical-align: top;\n",
              "    }\n",
              "\n",
              "    .dataframe thead th {\n",
              "        text-align: right;\n",
              "    }\n",
              "</style>\n",
              "<table border=\"1\" class=\"dataframe\">\n",
              "  <thead>\n",
              "    <tr style=\"text-align: right;\">\n",
              "      <th></th>\n",
              "      <th>A</th>\n",
              "      <th>B</th>\n",
              "      <th>C</th>\n",
              "      <th>D</th>\n",
              "    </tr>\n",
              "  </thead>\n",
              "  <tbody>\n",
              "    <tr>\n",
              "      <th>2021-04-30</th>\n",
              "      <td>0.388076</td>\n",
              "      <td>-0.608399</td>\n",
              "      <td>-0.198925</td>\n",
              "      <td>-0.444986</td>\n",
              "    </tr>\n",
              "    <tr>\n",
              "      <th>2021-05-01</th>\n",
              "      <td>2.275823</td>\n",
              "      <td>0.423238</td>\n",
              "      <td>0.037652</td>\n",
              "      <td>1.444644</td>\n",
              "    </tr>\n",
              "    <tr>\n",
              "      <th>2021-05-02</th>\n",
              "      <td>-0.231695</td>\n",
              "      <td>-0.239672</td>\n",
              "      <td>-0.341289</td>\n",
              "      <td>1.210317</td>\n",
              "    </tr>\n",
              "    <tr>\n",
              "      <th>2021-05-03</th>\n",
              "      <td>-0.458230</td>\n",
              "      <td>1.318869</td>\n",
              "      <td>-0.782895</td>\n",
              "      <td>-1.187362</td>\n",
              "    </tr>\n",
              "    <tr>\n",
              "      <th>2021-05-04</th>\n",
              "      <td>0.116776</td>\n",
              "      <td>-1.025247</td>\n",
              "      <td>-1.447914</td>\n",
              "      <td>0.862095</td>\n",
              "    </tr>\n",
              "    <tr>\n",
              "      <th>2021-05-05</th>\n",
              "      <td>0.860534</td>\n",
              "      <td>0.268884</td>\n",
              "      <td>2.170151</td>\n",
              "      <td>-0.197698</td>\n",
              "    </tr>\n",
              "  </tbody>\n",
              "</table>\n",
              "</div>"
            ],
            "text/plain": [
              "                   A         B         C         D\n",
              "2021-04-30  0.388076 -0.608399 -0.198925 -0.444986\n",
              "2021-05-01  2.275823  0.423238  0.037652  1.444644\n",
              "2021-05-02 -0.231695 -0.239672 -0.341289  1.210317\n",
              "2021-05-03 -0.458230  1.318869 -0.782895 -1.187362\n",
              "2021-05-04  0.116776 -1.025247 -1.447914  0.862095\n",
              "2021-05-05  0.860534  0.268884  2.170151 -0.197698"
            ]
          },
          "metadata": {
            "tags": []
          },
          "execution_count": 72
        }
      ]
    },
    {
      "cell_type": "code",
      "metadata": {
        "colab": {
          "base_uri": "https://localhost:8080/",
          "height": 225
        },
        "id": "mPKRqYLdo5gZ",
        "outputId": "72e0b1de-a189-451c-c96f-0016524cde72"
      },
      "source": [
        "df.sort_index(axis=0, ascending=True)"
      ],
      "execution_count": 73,
      "outputs": [
        {
          "output_type": "execute_result",
          "data": {
            "text/html": [
              "<div>\n",
              "<style scoped>\n",
              "    .dataframe tbody tr th:only-of-type {\n",
              "        vertical-align: middle;\n",
              "    }\n",
              "\n",
              "    .dataframe tbody tr th {\n",
              "        vertical-align: top;\n",
              "    }\n",
              "\n",
              "    .dataframe thead th {\n",
              "        text-align: right;\n",
              "    }\n",
              "</style>\n",
              "<table border=\"1\" class=\"dataframe\">\n",
              "  <thead>\n",
              "    <tr style=\"text-align: right;\">\n",
              "      <th></th>\n",
              "      <th>A</th>\n",
              "      <th>B</th>\n",
              "      <th>C</th>\n",
              "      <th>D</th>\n",
              "    </tr>\n",
              "  </thead>\n",
              "  <tbody>\n",
              "    <tr>\n",
              "      <th>2021-04-30</th>\n",
              "      <td>0.388076</td>\n",
              "      <td>-0.608399</td>\n",
              "      <td>-0.198925</td>\n",
              "      <td>-0.444986</td>\n",
              "    </tr>\n",
              "    <tr>\n",
              "      <th>2021-05-01</th>\n",
              "      <td>2.275823</td>\n",
              "      <td>0.423238</td>\n",
              "      <td>0.037652</td>\n",
              "      <td>1.444644</td>\n",
              "    </tr>\n",
              "    <tr>\n",
              "      <th>2021-05-02</th>\n",
              "      <td>-0.231695</td>\n",
              "      <td>-0.239672</td>\n",
              "      <td>-0.341289</td>\n",
              "      <td>1.210317</td>\n",
              "    </tr>\n",
              "    <tr>\n",
              "      <th>2021-05-03</th>\n",
              "      <td>-0.458230</td>\n",
              "      <td>1.318869</td>\n",
              "      <td>-0.782895</td>\n",
              "      <td>-1.187362</td>\n",
              "    </tr>\n",
              "    <tr>\n",
              "      <th>2021-05-04</th>\n",
              "      <td>0.116776</td>\n",
              "      <td>-1.025247</td>\n",
              "      <td>-1.447914</td>\n",
              "      <td>0.862095</td>\n",
              "    </tr>\n",
              "    <tr>\n",
              "      <th>2021-05-05</th>\n",
              "      <td>0.860534</td>\n",
              "      <td>0.268884</td>\n",
              "      <td>2.170151</td>\n",
              "      <td>-0.197698</td>\n",
              "    </tr>\n",
              "  </tbody>\n",
              "</table>\n",
              "</div>"
            ],
            "text/plain": [
              "                   A         B         C         D\n",
              "2021-04-30  0.388076 -0.608399 -0.198925 -0.444986\n",
              "2021-05-01  2.275823  0.423238  0.037652  1.444644\n",
              "2021-05-02 -0.231695 -0.239672 -0.341289  1.210317\n",
              "2021-05-03 -0.458230  1.318869 -0.782895 -1.187362\n",
              "2021-05-04  0.116776 -1.025247 -1.447914  0.862095\n",
              "2021-05-05  0.860534  0.268884  2.170151 -0.197698"
            ]
          },
          "metadata": {
            "tags": []
          },
          "execution_count": 73
        }
      ]
    },
    {
      "cell_type": "code",
      "metadata": {
        "colab": {
          "base_uri": "https://localhost:8080/",
          "height": 225
        },
        "id": "vq8p4s-oo9c8",
        "outputId": "b8d4d7eb-4aa0-417a-80fc-4c2bc3f57bcc"
      },
      "source": [
        "df.sort_index(axis=0, ascending=False)"
      ],
      "execution_count": 75,
      "outputs": [
        {
          "output_type": "execute_result",
          "data": {
            "text/html": [
              "<div>\n",
              "<style scoped>\n",
              "    .dataframe tbody tr th:only-of-type {\n",
              "        vertical-align: middle;\n",
              "    }\n",
              "\n",
              "    .dataframe tbody tr th {\n",
              "        vertical-align: top;\n",
              "    }\n",
              "\n",
              "    .dataframe thead th {\n",
              "        text-align: right;\n",
              "    }\n",
              "</style>\n",
              "<table border=\"1\" class=\"dataframe\">\n",
              "  <thead>\n",
              "    <tr style=\"text-align: right;\">\n",
              "      <th></th>\n",
              "      <th>A</th>\n",
              "      <th>B</th>\n",
              "      <th>C</th>\n",
              "      <th>D</th>\n",
              "    </tr>\n",
              "  </thead>\n",
              "  <tbody>\n",
              "    <tr>\n",
              "      <th>2021-05-05</th>\n",
              "      <td>0.860534</td>\n",
              "      <td>0.268884</td>\n",
              "      <td>2.170151</td>\n",
              "      <td>-0.197698</td>\n",
              "    </tr>\n",
              "    <tr>\n",
              "      <th>2021-05-04</th>\n",
              "      <td>0.116776</td>\n",
              "      <td>-1.025247</td>\n",
              "      <td>-1.447914</td>\n",
              "      <td>0.862095</td>\n",
              "    </tr>\n",
              "    <tr>\n",
              "      <th>2021-05-03</th>\n",
              "      <td>-0.458230</td>\n",
              "      <td>1.318869</td>\n",
              "      <td>-0.782895</td>\n",
              "      <td>-1.187362</td>\n",
              "    </tr>\n",
              "    <tr>\n",
              "      <th>2021-05-02</th>\n",
              "      <td>-0.231695</td>\n",
              "      <td>-0.239672</td>\n",
              "      <td>-0.341289</td>\n",
              "      <td>1.210317</td>\n",
              "    </tr>\n",
              "    <tr>\n",
              "      <th>2021-05-01</th>\n",
              "      <td>2.275823</td>\n",
              "      <td>0.423238</td>\n",
              "      <td>0.037652</td>\n",
              "      <td>1.444644</td>\n",
              "    </tr>\n",
              "    <tr>\n",
              "      <th>2021-04-30</th>\n",
              "      <td>0.388076</td>\n",
              "      <td>-0.608399</td>\n",
              "      <td>-0.198925</td>\n",
              "      <td>-0.444986</td>\n",
              "    </tr>\n",
              "  </tbody>\n",
              "</table>\n",
              "</div>"
            ],
            "text/plain": [
              "                   A         B         C         D\n",
              "2021-05-05  0.860534  0.268884  2.170151 -0.197698\n",
              "2021-05-04  0.116776 -1.025247 -1.447914  0.862095\n",
              "2021-05-03 -0.458230  1.318869 -0.782895 -1.187362\n",
              "2021-05-02 -0.231695 -0.239672 -0.341289  1.210317\n",
              "2021-05-01  2.275823  0.423238  0.037652  1.444644\n",
              "2021-04-30  0.388076 -0.608399 -0.198925 -0.444986"
            ]
          },
          "metadata": {
            "tags": []
          },
          "execution_count": 75
        }
      ]
    },
    {
      "cell_type": "code",
      "metadata": {
        "colab": {
          "base_uri": "https://localhost:8080/",
          "height": 225
        },
        "id": "vNJKi_HipolV",
        "outputId": "09e32942-a1c7-483f-a385-a5c8ce708076"
      },
      "source": [
        "df"
      ],
      "execution_count": 76,
      "outputs": [
        {
          "output_type": "execute_result",
          "data": {
            "text/html": [
              "<div>\n",
              "<style scoped>\n",
              "    .dataframe tbody tr th:only-of-type {\n",
              "        vertical-align: middle;\n",
              "    }\n",
              "\n",
              "    .dataframe tbody tr th {\n",
              "        vertical-align: top;\n",
              "    }\n",
              "\n",
              "    .dataframe thead th {\n",
              "        text-align: right;\n",
              "    }\n",
              "</style>\n",
              "<table border=\"1\" class=\"dataframe\">\n",
              "  <thead>\n",
              "    <tr style=\"text-align: right;\">\n",
              "      <th></th>\n",
              "      <th>A</th>\n",
              "      <th>B</th>\n",
              "      <th>C</th>\n",
              "      <th>D</th>\n",
              "    </tr>\n",
              "  </thead>\n",
              "  <tbody>\n",
              "    <tr>\n",
              "      <th>2021-04-30</th>\n",
              "      <td>0.388076</td>\n",
              "      <td>-0.608399</td>\n",
              "      <td>-0.198925</td>\n",
              "      <td>-0.444986</td>\n",
              "    </tr>\n",
              "    <tr>\n",
              "      <th>2021-05-01</th>\n",
              "      <td>2.275823</td>\n",
              "      <td>0.423238</td>\n",
              "      <td>0.037652</td>\n",
              "      <td>1.444644</td>\n",
              "    </tr>\n",
              "    <tr>\n",
              "      <th>2021-05-02</th>\n",
              "      <td>-0.231695</td>\n",
              "      <td>-0.239672</td>\n",
              "      <td>-0.341289</td>\n",
              "      <td>1.210317</td>\n",
              "    </tr>\n",
              "    <tr>\n",
              "      <th>2021-05-03</th>\n",
              "      <td>-0.458230</td>\n",
              "      <td>1.318869</td>\n",
              "      <td>-0.782895</td>\n",
              "      <td>-1.187362</td>\n",
              "    </tr>\n",
              "    <tr>\n",
              "      <th>2021-05-04</th>\n",
              "      <td>0.116776</td>\n",
              "      <td>-1.025247</td>\n",
              "      <td>-1.447914</td>\n",
              "      <td>0.862095</td>\n",
              "    </tr>\n",
              "    <tr>\n",
              "      <th>2021-05-05</th>\n",
              "      <td>0.860534</td>\n",
              "      <td>0.268884</td>\n",
              "      <td>2.170151</td>\n",
              "      <td>-0.197698</td>\n",
              "    </tr>\n",
              "  </tbody>\n",
              "</table>\n",
              "</div>"
            ],
            "text/plain": [
              "                   A         B         C         D\n",
              "2021-04-30  0.388076 -0.608399 -0.198925 -0.444986\n",
              "2021-05-01  2.275823  0.423238  0.037652  1.444644\n",
              "2021-05-02 -0.231695 -0.239672 -0.341289  1.210317\n",
              "2021-05-03 -0.458230  1.318869 -0.782895 -1.187362\n",
              "2021-05-04  0.116776 -1.025247 -1.447914  0.862095\n",
              "2021-05-05  0.860534  0.268884  2.170151 -0.197698"
            ]
          },
          "metadata": {
            "tags": []
          },
          "execution_count": 76
        }
      ]
    },
    {
      "cell_type": "code",
      "metadata": {
        "colab": {
          "base_uri": "https://localhost:8080/",
          "height": 225
        },
        "id": "DS4Fj6biqCfM",
        "outputId": "01debcdb-5ad0-48a5-e2cb-c00ba7381078"
      },
      "source": [
        "df.sort_values(by='B')"
      ],
      "execution_count": 77,
      "outputs": [
        {
          "output_type": "execute_result",
          "data": {
            "text/html": [
              "<div>\n",
              "<style scoped>\n",
              "    .dataframe tbody tr th:only-of-type {\n",
              "        vertical-align: middle;\n",
              "    }\n",
              "\n",
              "    .dataframe tbody tr th {\n",
              "        vertical-align: top;\n",
              "    }\n",
              "\n",
              "    .dataframe thead th {\n",
              "        text-align: right;\n",
              "    }\n",
              "</style>\n",
              "<table border=\"1\" class=\"dataframe\">\n",
              "  <thead>\n",
              "    <tr style=\"text-align: right;\">\n",
              "      <th></th>\n",
              "      <th>A</th>\n",
              "      <th>B</th>\n",
              "      <th>C</th>\n",
              "      <th>D</th>\n",
              "    </tr>\n",
              "  </thead>\n",
              "  <tbody>\n",
              "    <tr>\n",
              "      <th>2021-05-04</th>\n",
              "      <td>0.116776</td>\n",
              "      <td>-1.025247</td>\n",
              "      <td>-1.447914</td>\n",
              "      <td>0.862095</td>\n",
              "    </tr>\n",
              "    <tr>\n",
              "      <th>2021-04-30</th>\n",
              "      <td>0.388076</td>\n",
              "      <td>-0.608399</td>\n",
              "      <td>-0.198925</td>\n",
              "      <td>-0.444986</td>\n",
              "    </tr>\n",
              "    <tr>\n",
              "      <th>2021-05-02</th>\n",
              "      <td>-0.231695</td>\n",
              "      <td>-0.239672</td>\n",
              "      <td>-0.341289</td>\n",
              "      <td>1.210317</td>\n",
              "    </tr>\n",
              "    <tr>\n",
              "      <th>2021-05-05</th>\n",
              "      <td>0.860534</td>\n",
              "      <td>0.268884</td>\n",
              "      <td>2.170151</td>\n",
              "      <td>-0.197698</td>\n",
              "    </tr>\n",
              "    <tr>\n",
              "      <th>2021-05-01</th>\n",
              "      <td>2.275823</td>\n",
              "      <td>0.423238</td>\n",
              "      <td>0.037652</td>\n",
              "      <td>1.444644</td>\n",
              "    </tr>\n",
              "    <tr>\n",
              "      <th>2021-05-03</th>\n",
              "      <td>-0.458230</td>\n",
              "      <td>1.318869</td>\n",
              "      <td>-0.782895</td>\n",
              "      <td>-1.187362</td>\n",
              "    </tr>\n",
              "  </tbody>\n",
              "</table>\n",
              "</div>"
            ],
            "text/plain": [
              "                   A         B         C         D\n",
              "2021-05-04  0.116776 -1.025247 -1.447914  0.862095\n",
              "2021-04-30  0.388076 -0.608399 -0.198925 -0.444986\n",
              "2021-05-02 -0.231695 -0.239672 -0.341289  1.210317\n",
              "2021-05-05  0.860534  0.268884  2.170151 -0.197698\n",
              "2021-05-01  2.275823  0.423238  0.037652  1.444644\n",
              "2021-05-03 -0.458230  1.318869 -0.782895 -1.187362"
            ]
          },
          "metadata": {
            "tags": []
          },
          "execution_count": 77
        }
      ]
    },
    {
      "cell_type": "code",
      "metadata": {
        "colab": {
          "base_uri": "https://localhost:8080/",
          "height": 225
        },
        "id": "CEef3VwZqNVT",
        "outputId": "03829270-0972-43d4-8b73-24a0d782fbda"
      },
      "source": [
        "df"
      ],
      "execution_count": 78,
      "outputs": [
        {
          "output_type": "execute_result",
          "data": {
            "text/html": [
              "<div>\n",
              "<style scoped>\n",
              "    .dataframe tbody tr th:only-of-type {\n",
              "        vertical-align: middle;\n",
              "    }\n",
              "\n",
              "    .dataframe tbody tr th {\n",
              "        vertical-align: top;\n",
              "    }\n",
              "\n",
              "    .dataframe thead th {\n",
              "        text-align: right;\n",
              "    }\n",
              "</style>\n",
              "<table border=\"1\" class=\"dataframe\">\n",
              "  <thead>\n",
              "    <tr style=\"text-align: right;\">\n",
              "      <th></th>\n",
              "      <th>A</th>\n",
              "      <th>B</th>\n",
              "      <th>C</th>\n",
              "      <th>D</th>\n",
              "    </tr>\n",
              "  </thead>\n",
              "  <tbody>\n",
              "    <tr>\n",
              "      <th>2021-04-30</th>\n",
              "      <td>0.388076</td>\n",
              "      <td>-0.608399</td>\n",
              "      <td>-0.198925</td>\n",
              "      <td>-0.444986</td>\n",
              "    </tr>\n",
              "    <tr>\n",
              "      <th>2021-05-01</th>\n",
              "      <td>2.275823</td>\n",
              "      <td>0.423238</td>\n",
              "      <td>0.037652</td>\n",
              "      <td>1.444644</td>\n",
              "    </tr>\n",
              "    <tr>\n",
              "      <th>2021-05-02</th>\n",
              "      <td>-0.231695</td>\n",
              "      <td>-0.239672</td>\n",
              "      <td>-0.341289</td>\n",
              "      <td>1.210317</td>\n",
              "    </tr>\n",
              "    <tr>\n",
              "      <th>2021-05-03</th>\n",
              "      <td>-0.458230</td>\n",
              "      <td>1.318869</td>\n",
              "      <td>-0.782895</td>\n",
              "      <td>-1.187362</td>\n",
              "    </tr>\n",
              "    <tr>\n",
              "      <th>2021-05-04</th>\n",
              "      <td>0.116776</td>\n",
              "      <td>-1.025247</td>\n",
              "      <td>-1.447914</td>\n",
              "      <td>0.862095</td>\n",
              "    </tr>\n",
              "    <tr>\n",
              "      <th>2021-05-05</th>\n",
              "      <td>0.860534</td>\n",
              "      <td>0.268884</td>\n",
              "      <td>2.170151</td>\n",
              "      <td>-0.197698</td>\n",
              "    </tr>\n",
              "  </tbody>\n",
              "</table>\n",
              "</div>"
            ],
            "text/plain": [
              "                   A         B         C         D\n",
              "2021-04-30  0.388076 -0.608399 -0.198925 -0.444986\n",
              "2021-05-01  2.275823  0.423238  0.037652  1.444644\n",
              "2021-05-02 -0.231695 -0.239672 -0.341289  1.210317\n",
              "2021-05-03 -0.458230  1.318869 -0.782895 -1.187362\n",
              "2021-05-04  0.116776 -1.025247 -1.447914  0.862095\n",
              "2021-05-05  0.860534  0.268884  2.170151 -0.197698"
            ]
          },
          "metadata": {
            "tags": []
          },
          "execution_count": 78
        }
      ]
    },
    {
      "cell_type": "code",
      "metadata": {
        "colab": {
          "base_uri": "https://localhost:8080/"
        },
        "id": "UYYVrDIiqfY5",
        "outputId": "a83d0006-afb6-465c-c1b1-17a11e6385e6"
      },
      "source": [
        "df['A']"
      ],
      "execution_count": 79,
      "outputs": [
        {
          "output_type": "execute_result",
          "data": {
            "text/plain": [
              "2021-04-30    0.388076\n",
              "2021-05-01    2.275823\n",
              "2021-05-02   -0.231695\n",
              "2021-05-03   -0.458230\n",
              "2021-05-04    0.116776\n",
              "2021-05-05    0.860534\n",
              "Freq: D, Name: A, dtype: float64"
            ]
          },
          "metadata": {
            "tags": []
          },
          "execution_count": 79
        }
      ]
    },
    {
      "cell_type": "code",
      "metadata": {
        "colab": {
          "base_uri": "https://localhost:8080/"
        },
        "id": "h5alENINqzBr",
        "outputId": "9090a272-bc54-41df-a492-c8945b91df05"
      },
      "source": [
        "df['B']"
      ],
      "execution_count": 80,
      "outputs": [
        {
          "output_type": "execute_result",
          "data": {
            "text/plain": [
              "2021-04-30   -0.608399\n",
              "2021-05-01    0.423238\n",
              "2021-05-02   -0.239672\n",
              "2021-05-03    1.318869\n",
              "2021-05-04   -1.025247\n",
              "2021-05-05    0.268884\n",
              "Freq: D, Name: B, dtype: float64"
            ]
          },
          "metadata": {
            "tags": []
          },
          "execution_count": 80
        }
      ]
    },
    {
      "cell_type": "code",
      "metadata": {
        "colab": {
          "base_uri": "https://localhost:8080/"
        },
        "id": "6yaeObiEq3jB",
        "outputId": "f0ea1567-f03f-42d6-cead-422c2dffb1b8"
      },
      "source": [
        "df['C']"
      ],
      "execution_count": 81,
      "outputs": [
        {
          "output_type": "execute_result",
          "data": {
            "text/plain": [
              "2021-04-30   -0.198925\n",
              "2021-05-01    0.037652\n",
              "2021-05-02   -0.341289\n",
              "2021-05-03   -0.782895\n",
              "2021-05-04   -1.447914\n",
              "2021-05-05    2.170151\n",
              "Freq: D, Name: C, dtype: float64"
            ]
          },
          "metadata": {
            "tags": []
          },
          "execution_count": 81
        }
      ]
    },
    {
      "cell_type": "code",
      "metadata": {
        "colab": {
          "base_uri": "https://localhost:8080/",
          "height": 225
        },
        "id": "cD4mBq3orMRK",
        "outputId": "1c492b11-7fa7-4a2f-fe80-3d9f8786c314"
      },
      "source": [
        "df[['A','C']]"
      ],
      "execution_count": 82,
      "outputs": [
        {
          "output_type": "execute_result",
          "data": {
            "text/html": [
              "<div>\n",
              "<style scoped>\n",
              "    .dataframe tbody tr th:only-of-type {\n",
              "        vertical-align: middle;\n",
              "    }\n",
              "\n",
              "    .dataframe tbody tr th {\n",
              "        vertical-align: top;\n",
              "    }\n",
              "\n",
              "    .dataframe thead th {\n",
              "        text-align: right;\n",
              "    }\n",
              "</style>\n",
              "<table border=\"1\" class=\"dataframe\">\n",
              "  <thead>\n",
              "    <tr style=\"text-align: right;\">\n",
              "      <th></th>\n",
              "      <th>A</th>\n",
              "      <th>C</th>\n",
              "    </tr>\n",
              "  </thead>\n",
              "  <tbody>\n",
              "    <tr>\n",
              "      <th>2021-04-30</th>\n",
              "      <td>0.388076</td>\n",
              "      <td>-0.198925</td>\n",
              "    </tr>\n",
              "    <tr>\n",
              "      <th>2021-05-01</th>\n",
              "      <td>2.275823</td>\n",
              "      <td>0.037652</td>\n",
              "    </tr>\n",
              "    <tr>\n",
              "      <th>2021-05-02</th>\n",
              "      <td>-0.231695</td>\n",
              "      <td>-0.341289</td>\n",
              "    </tr>\n",
              "    <tr>\n",
              "      <th>2021-05-03</th>\n",
              "      <td>-0.458230</td>\n",
              "      <td>-0.782895</td>\n",
              "    </tr>\n",
              "    <tr>\n",
              "      <th>2021-05-04</th>\n",
              "      <td>0.116776</td>\n",
              "      <td>-1.447914</td>\n",
              "    </tr>\n",
              "    <tr>\n",
              "      <th>2021-05-05</th>\n",
              "      <td>0.860534</td>\n",
              "      <td>2.170151</td>\n",
              "    </tr>\n",
              "  </tbody>\n",
              "</table>\n",
              "</div>"
            ],
            "text/plain": [
              "                   A         C\n",
              "2021-04-30  0.388076 -0.198925\n",
              "2021-05-01  2.275823  0.037652\n",
              "2021-05-02 -0.231695 -0.341289\n",
              "2021-05-03 -0.458230 -0.782895\n",
              "2021-05-04  0.116776 -1.447914\n",
              "2021-05-05  0.860534  2.170151"
            ]
          },
          "metadata": {
            "tags": []
          },
          "execution_count": 82
        }
      ]
    },
    {
      "cell_type": "code",
      "metadata": {
        "colab": {
          "base_uri": "https://localhost:8080/",
          "height": 225
        },
        "id": "T-2j5-z4rRBw",
        "outputId": "bdf06f4c-d30e-4f16-b9a0-687cd42928dd"
      },
      "source": [
        "df"
      ],
      "execution_count": 83,
      "outputs": [
        {
          "output_type": "execute_result",
          "data": {
            "text/html": [
              "<div>\n",
              "<style scoped>\n",
              "    .dataframe tbody tr th:only-of-type {\n",
              "        vertical-align: middle;\n",
              "    }\n",
              "\n",
              "    .dataframe tbody tr th {\n",
              "        vertical-align: top;\n",
              "    }\n",
              "\n",
              "    .dataframe thead th {\n",
              "        text-align: right;\n",
              "    }\n",
              "</style>\n",
              "<table border=\"1\" class=\"dataframe\">\n",
              "  <thead>\n",
              "    <tr style=\"text-align: right;\">\n",
              "      <th></th>\n",
              "      <th>A</th>\n",
              "      <th>B</th>\n",
              "      <th>C</th>\n",
              "      <th>D</th>\n",
              "    </tr>\n",
              "  </thead>\n",
              "  <tbody>\n",
              "    <tr>\n",
              "      <th>2021-04-30</th>\n",
              "      <td>0.388076</td>\n",
              "      <td>-0.608399</td>\n",
              "      <td>-0.198925</td>\n",
              "      <td>-0.444986</td>\n",
              "    </tr>\n",
              "    <tr>\n",
              "      <th>2021-05-01</th>\n",
              "      <td>2.275823</td>\n",
              "      <td>0.423238</td>\n",
              "      <td>0.037652</td>\n",
              "      <td>1.444644</td>\n",
              "    </tr>\n",
              "    <tr>\n",
              "      <th>2021-05-02</th>\n",
              "      <td>-0.231695</td>\n",
              "      <td>-0.239672</td>\n",
              "      <td>-0.341289</td>\n",
              "      <td>1.210317</td>\n",
              "    </tr>\n",
              "    <tr>\n",
              "      <th>2021-05-03</th>\n",
              "      <td>-0.458230</td>\n",
              "      <td>1.318869</td>\n",
              "      <td>-0.782895</td>\n",
              "      <td>-1.187362</td>\n",
              "    </tr>\n",
              "    <tr>\n",
              "      <th>2021-05-04</th>\n",
              "      <td>0.116776</td>\n",
              "      <td>-1.025247</td>\n",
              "      <td>-1.447914</td>\n",
              "      <td>0.862095</td>\n",
              "    </tr>\n",
              "    <tr>\n",
              "      <th>2021-05-05</th>\n",
              "      <td>0.860534</td>\n",
              "      <td>0.268884</td>\n",
              "      <td>2.170151</td>\n",
              "      <td>-0.197698</td>\n",
              "    </tr>\n",
              "  </tbody>\n",
              "</table>\n",
              "</div>"
            ],
            "text/plain": [
              "                   A         B         C         D\n",
              "2021-04-30  0.388076 -0.608399 -0.198925 -0.444986\n",
              "2021-05-01  2.275823  0.423238  0.037652  1.444644\n",
              "2021-05-02 -0.231695 -0.239672 -0.341289  1.210317\n",
              "2021-05-03 -0.458230  1.318869 -0.782895 -1.187362\n",
              "2021-05-04  0.116776 -1.025247 -1.447914  0.862095\n",
              "2021-05-05  0.860534  0.268884  2.170151 -0.197698"
            ]
          },
          "metadata": {
            "tags": []
          },
          "execution_count": 83
        }
      ]
    },
    {
      "cell_type": "code",
      "metadata": {
        "colab": {
          "base_uri": "https://localhost:8080/",
          "height": 77
        },
        "id": "O5bYxi8xrf4J",
        "outputId": "240242f8-0cf0-4b2a-af62-eda856567b79"
      },
      "source": [
        "df[0:1]"
      ],
      "execution_count": 84,
      "outputs": [
        {
          "output_type": "execute_result",
          "data": {
            "text/html": [
              "<div>\n",
              "<style scoped>\n",
              "    .dataframe tbody tr th:only-of-type {\n",
              "        vertical-align: middle;\n",
              "    }\n",
              "\n",
              "    .dataframe tbody tr th {\n",
              "        vertical-align: top;\n",
              "    }\n",
              "\n",
              "    .dataframe thead th {\n",
              "        text-align: right;\n",
              "    }\n",
              "</style>\n",
              "<table border=\"1\" class=\"dataframe\">\n",
              "  <thead>\n",
              "    <tr style=\"text-align: right;\">\n",
              "      <th></th>\n",
              "      <th>A</th>\n",
              "      <th>B</th>\n",
              "      <th>C</th>\n",
              "      <th>D</th>\n",
              "    </tr>\n",
              "  </thead>\n",
              "  <tbody>\n",
              "    <tr>\n",
              "      <th>2021-04-30</th>\n",
              "      <td>0.388076</td>\n",
              "      <td>-0.608399</td>\n",
              "      <td>-0.198925</td>\n",
              "      <td>-0.444986</td>\n",
              "    </tr>\n",
              "  </tbody>\n",
              "</table>\n",
              "</div>"
            ],
            "text/plain": [
              "                   A         B         C         D\n",
              "2021-04-30  0.388076 -0.608399 -0.198925 -0.444986"
            ]
          },
          "metadata": {
            "tags": []
          },
          "execution_count": 84
        }
      ]
    },
    {
      "cell_type": "code",
      "metadata": {
        "colab": {
          "base_uri": "https://localhost:8080/",
          "height": 106
        },
        "id": "M7HSMMUtrxai",
        "outputId": "698057a6-2672-4e35-b1a2-8ef1e10e1148"
      },
      "source": [
        "df['20210430':'20210501']"
      ],
      "execution_count": 85,
      "outputs": [
        {
          "output_type": "execute_result",
          "data": {
            "text/html": [
              "<div>\n",
              "<style scoped>\n",
              "    .dataframe tbody tr th:only-of-type {\n",
              "        vertical-align: middle;\n",
              "    }\n",
              "\n",
              "    .dataframe tbody tr th {\n",
              "        vertical-align: top;\n",
              "    }\n",
              "\n",
              "    .dataframe thead th {\n",
              "        text-align: right;\n",
              "    }\n",
              "</style>\n",
              "<table border=\"1\" class=\"dataframe\">\n",
              "  <thead>\n",
              "    <tr style=\"text-align: right;\">\n",
              "      <th></th>\n",
              "      <th>A</th>\n",
              "      <th>B</th>\n",
              "      <th>C</th>\n",
              "      <th>D</th>\n",
              "    </tr>\n",
              "  </thead>\n",
              "  <tbody>\n",
              "    <tr>\n",
              "      <th>2021-04-30</th>\n",
              "      <td>0.388076</td>\n",
              "      <td>-0.608399</td>\n",
              "      <td>-0.198925</td>\n",
              "      <td>-0.444986</td>\n",
              "    </tr>\n",
              "    <tr>\n",
              "      <th>2021-05-01</th>\n",
              "      <td>2.275823</td>\n",
              "      <td>0.423238</td>\n",
              "      <td>0.037652</td>\n",
              "      <td>1.444644</td>\n",
              "    </tr>\n",
              "  </tbody>\n",
              "</table>\n",
              "</div>"
            ],
            "text/plain": [
              "                   A         B         C         D\n",
              "2021-04-30  0.388076 -0.608399 -0.198925 -0.444986\n",
              "2021-05-01  2.275823  0.423238  0.037652  1.444644"
            ]
          },
          "metadata": {
            "tags": []
          },
          "execution_count": 85
        }
      ]
    },
    {
      "cell_type": "code",
      "metadata": {
        "colab": {
          "base_uri": "https://localhost:8080/",
          "height": 225
        },
        "id": "GKZyB9u_sE26",
        "outputId": "25791d21-631e-4816-ca9a-a65d7f22939f"
      },
      "source": [
        "df"
      ],
      "execution_count": 86,
      "outputs": [
        {
          "output_type": "execute_result",
          "data": {
            "text/html": [
              "<div>\n",
              "<style scoped>\n",
              "    .dataframe tbody tr th:only-of-type {\n",
              "        vertical-align: middle;\n",
              "    }\n",
              "\n",
              "    .dataframe tbody tr th {\n",
              "        vertical-align: top;\n",
              "    }\n",
              "\n",
              "    .dataframe thead th {\n",
              "        text-align: right;\n",
              "    }\n",
              "</style>\n",
              "<table border=\"1\" class=\"dataframe\">\n",
              "  <thead>\n",
              "    <tr style=\"text-align: right;\">\n",
              "      <th></th>\n",
              "      <th>A</th>\n",
              "      <th>B</th>\n",
              "      <th>C</th>\n",
              "      <th>D</th>\n",
              "    </tr>\n",
              "  </thead>\n",
              "  <tbody>\n",
              "    <tr>\n",
              "      <th>2021-04-30</th>\n",
              "      <td>0.388076</td>\n",
              "      <td>-0.608399</td>\n",
              "      <td>-0.198925</td>\n",
              "      <td>-0.444986</td>\n",
              "    </tr>\n",
              "    <tr>\n",
              "      <th>2021-05-01</th>\n",
              "      <td>2.275823</td>\n",
              "      <td>0.423238</td>\n",
              "      <td>0.037652</td>\n",
              "      <td>1.444644</td>\n",
              "    </tr>\n",
              "    <tr>\n",
              "      <th>2021-05-02</th>\n",
              "      <td>-0.231695</td>\n",
              "      <td>-0.239672</td>\n",
              "      <td>-0.341289</td>\n",
              "      <td>1.210317</td>\n",
              "    </tr>\n",
              "    <tr>\n",
              "      <th>2021-05-03</th>\n",
              "      <td>-0.458230</td>\n",
              "      <td>1.318869</td>\n",
              "      <td>-0.782895</td>\n",
              "      <td>-1.187362</td>\n",
              "    </tr>\n",
              "    <tr>\n",
              "      <th>2021-05-04</th>\n",
              "      <td>0.116776</td>\n",
              "      <td>-1.025247</td>\n",
              "      <td>-1.447914</td>\n",
              "      <td>0.862095</td>\n",
              "    </tr>\n",
              "    <tr>\n",
              "      <th>2021-05-05</th>\n",
              "      <td>0.860534</td>\n",
              "      <td>0.268884</td>\n",
              "      <td>2.170151</td>\n",
              "      <td>-0.197698</td>\n",
              "    </tr>\n",
              "  </tbody>\n",
              "</table>\n",
              "</div>"
            ],
            "text/plain": [
              "                   A         B         C         D\n",
              "2021-04-30  0.388076 -0.608399 -0.198925 -0.444986\n",
              "2021-05-01  2.275823  0.423238  0.037652  1.444644\n",
              "2021-05-02 -0.231695 -0.239672 -0.341289  1.210317\n",
              "2021-05-03 -0.458230  1.318869 -0.782895 -1.187362\n",
              "2021-05-04  0.116776 -1.025247 -1.447914  0.862095\n",
              "2021-05-05  0.860534  0.268884  2.170151 -0.197698"
            ]
          },
          "metadata": {
            "tags": []
          },
          "execution_count": 86
        }
      ]
    },
    {
      "cell_type": "code",
      "metadata": {
        "colab": {
          "base_uri": "https://localhost:8080/"
        },
        "id": "sABAYSsKshvQ",
        "outputId": "9503f215-ea72-4e54-8cd7-07781796daed"
      },
      "source": [
        "df.loc['20210430']"
      ],
      "execution_count": 88,
      "outputs": [
        {
          "output_type": "execute_result",
          "data": {
            "text/plain": [
              "A    0.388076\n",
              "B   -0.608399\n",
              "C   -0.198925\n",
              "D   -0.444986\n",
              "Name: 2021-04-30 00:00:00, dtype: float64"
            ]
          },
          "metadata": {
            "tags": []
          },
          "execution_count": 88
        }
      ]
    },
    {
      "cell_type": "code",
      "metadata": {
        "colab": {
          "base_uri": "https://localhost:8080/"
        },
        "id": "0jU8r06_sl8W",
        "outputId": "7329e622-a82c-4c48-cdd1-4c7ca30c107e"
      },
      "source": [
        "df['A']"
      ],
      "execution_count": 89,
      "outputs": [
        {
          "output_type": "execute_result",
          "data": {
            "text/plain": [
              "2021-04-30    0.388076\n",
              "2021-05-01    2.275823\n",
              "2021-05-02   -0.231695\n",
              "2021-05-03   -0.458230\n",
              "2021-05-04    0.116776\n",
              "2021-05-05    0.860534\n",
              "Freq: D, Name: A, dtype: float64"
            ]
          },
          "metadata": {
            "tags": []
          },
          "execution_count": 89
        }
      ]
    },
    {
      "cell_type": "code",
      "metadata": {
        "colab": {
          "base_uri": "https://localhost:8080/"
        },
        "id": "0hgb4WkytAvx",
        "outputId": "c89ab872-91bb-4d4e-b8a3-f3a9ac20705e"
      },
      "source": [
        "df.loc[:,'A']"
      ],
      "execution_count": 92,
      "outputs": [
        {
          "output_type": "execute_result",
          "data": {
            "text/plain": [
              "2021-04-30    0.388076\n",
              "2021-05-01    2.275823\n",
              "2021-05-02   -0.231695\n",
              "2021-05-03   -0.458230\n",
              "2021-05-04    0.116776\n",
              "2021-05-05    0.860534\n",
              "Freq: D, Name: A, dtype: float64"
            ]
          },
          "metadata": {
            "tags": []
          },
          "execution_count": 92
        }
      ]
    },
    {
      "cell_type": "code",
      "metadata": {
        "colab": {
          "base_uri": "https://localhost:8080/"
        },
        "id": "DGcB4mnrta1Z",
        "outputId": "6b227f93-e5f4-4b0c-f35f-9500f3c8dc3b"
      },
      "source": [
        "df.loc['20210430':'20210503','A']"
      ],
      "execution_count": 94,
      "outputs": [
        {
          "output_type": "execute_result",
          "data": {
            "text/plain": [
              "2021-04-30    0.388076\n",
              "2021-05-01    2.275823\n",
              "2021-05-02   -0.231695\n",
              "2021-05-03   -0.458230\n",
              "Freq: D, Name: A, dtype: float64"
            ]
          },
          "metadata": {
            "tags": []
          },
          "execution_count": 94
        }
      ]
    },
    {
      "cell_type": "code",
      "metadata": {
        "colab": {
          "base_uri": "https://localhost:8080/",
          "height": 166
        },
        "id": "NUCd2snXtjJ8",
        "outputId": "2108fe25-8a45-4a81-c1c1-9a609b83770c"
      },
      "source": [
        "df.loc['20210430':'20210503',['A','C','D']]"
      ],
      "execution_count": 96,
      "outputs": [
        {
          "output_type": "execute_result",
          "data": {
            "text/html": [
              "<div>\n",
              "<style scoped>\n",
              "    .dataframe tbody tr th:only-of-type {\n",
              "        vertical-align: middle;\n",
              "    }\n",
              "\n",
              "    .dataframe tbody tr th {\n",
              "        vertical-align: top;\n",
              "    }\n",
              "\n",
              "    .dataframe thead th {\n",
              "        text-align: right;\n",
              "    }\n",
              "</style>\n",
              "<table border=\"1\" class=\"dataframe\">\n",
              "  <thead>\n",
              "    <tr style=\"text-align: right;\">\n",
              "      <th></th>\n",
              "      <th>A</th>\n",
              "      <th>C</th>\n",
              "      <th>D</th>\n",
              "    </tr>\n",
              "  </thead>\n",
              "  <tbody>\n",
              "    <tr>\n",
              "      <th>2021-04-30</th>\n",
              "      <td>0.388076</td>\n",
              "      <td>-0.198925</td>\n",
              "      <td>-0.444986</td>\n",
              "    </tr>\n",
              "    <tr>\n",
              "      <th>2021-05-01</th>\n",
              "      <td>2.275823</td>\n",
              "      <td>0.037652</td>\n",
              "      <td>1.444644</td>\n",
              "    </tr>\n",
              "    <tr>\n",
              "      <th>2021-05-02</th>\n",
              "      <td>-0.231695</td>\n",
              "      <td>-0.341289</td>\n",
              "      <td>1.210317</td>\n",
              "    </tr>\n",
              "    <tr>\n",
              "      <th>2021-05-03</th>\n",
              "      <td>-0.458230</td>\n",
              "      <td>-0.782895</td>\n",
              "      <td>-1.187362</td>\n",
              "    </tr>\n",
              "  </tbody>\n",
              "</table>\n",
              "</div>"
            ],
            "text/plain": [
              "                   A         C         D\n",
              "2021-04-30  0.388076 -0.198925 -0.444986\n",
              "2021-05-01  2.275823  0.037652  1.444644\n",
              "2021-05-02 -0.231695 -0.341289  1.210317\n",
              "2021-05-03 -0.458230 -0.782895 -1.187362"
            ]
          },
          "metadata": {
            "tags": []
          },
          "execution_count": 96
        }
      ]
    },
    {
      "cell_type": "code",
      "metadata": {
        "colab": {
          "base_uri": "https://localhost:8080/"
        },
        "id": "Qy84a_3LtuUT",
        "outputId": "b34bfe48-c5e4-4448-cf91-31d03eaae8ab"
      },
      "source": [
        "df.at[dates[0],'A']"
      ],
      "execution_count": 98,
      "outputs": [
        {
          "output_type": "execute_result",
          "data": {
            "text/plain": [
              "0.38807601234042666"
            ]
          },
          "metadata": {
            "tags": []
          },
          "execution_count": 98
        }
      ]
    },
    {
      "cell_type": "code",
      "metadata": {
        "colab": {
          "base_uri": "https://localhost:8080/",
          "height": 225
        },
        "id": "1JZIF-AjuIUd",
        "outputId": "d84b6863-29c7-4316-902e-fd59640c5225"
      },
      "source": [
        "df"
      ],
      "execution_count": 100,
      "outputs": [
        {
          "output_type": "execute_result",
          "data": {
            "text/html": [
              "<div>\n",
              "<style scoped>\n",
              "    .dataframe tbody tr th:only-of-type {\n",
              "        vertical-align: middle;\n",
              "    }\n",
              "\n",
              "    .dataframe tbody tr th {\n",
              "        vertical-align: top;\n",
              "    }\n",
              "\n",
              "    .dataframe thead th {\n",
              "        text-align: right;\n",
              "    }\n",
              "</style>\n",
              "<table border=\"1\" class=\"dataframe\">\n",
              "  <thead>\n",
              "    <tr style=\"text-align: right;\">\n",
              "      <th></th>\n",
              "      <th>A</th>\n",
              "      <th>B</th>\n",
              "      <th>C</th>\n",
              "      <th>D</th>\n",
              "    </tr>\n",
              "  </thead>\n",
              "  <tbody>\n",
              "    <tr>\n",
              "      <th>2021-04-30</th>\n",
              "      <td>0.388076</td>\n",
              "      <td>-0.608399</td>\n",
              "      <td>-0.198925</td>\n",
              "      <td>-0.444986</td>\n",
              "    </tr>\n",
              "    <tr>\n",
              "      <th>2021-05-01</th>\n",
              "      <td>2.275823</td>\n",
              "      <td>0.423238</td>\n",
              "      <td>0.037652</td>\n",
              "      <td>1.444644</td>\n",
              "    </tr>\n",
              "    <tr>\n",
              "      <th>2021-05-02</th>\n",
              "      <td>-0.231695</td>\n",
              "      <td>-0.239672</td>\n",
              "      <td>-0.341289</td>\n",
              "      <td>1.210317</td>\n",
              "    </tr>\n",
              "    <tr>\n",
              "      <th>2021-05-03</th>\n",
              "      <td>-0.458230</td>\n",
              "      <td>1.318869</td>\n",
              "      <td>-0.782895</td>\n",
              "      <td>-1.187362</td>\n",
              "    </tr>\n",
              "    <tr>\n",
              "      <th>2021-05-04</th>\n",
              "      <td>0.116776</td>\n",
              "      <td>-1.025247</td>\n",
              "      <td>-1.447914</td>\n",
              "      <td>0.862095</td>\n",
              "    </tr>\n",
              "    <tr>\n",
              "      <th>2021-05-05</th>\n",
              "      <td>0.860534</td>\n",
              "      <td>0.268884</td>\n",
              "      <td>2.170151</td>\n",
              "      <td>-0.197698</td>\n",
              "    </tr>\n",
              "  </tbody>\n",
              "</table>\n",
              "</div>"
            ],
            "text/plain": [
              "                   A         B         C         D\n",
              "2021-04-30  0.388076 -0.608399 -0.198925 -0.444986\n",
              "2021-05-01  2.275823  0.423238  0.037652  1.444644\n",
              "2021-05-02 -0.231695 -0.239672 -0.341289  1.210317\n",
              "2021-05-03 -0.458230  1.318869 -0.782895 -1.187362\n",
              "2021-05-04  0.116776 -1.025247 -1.447914  0.862095\n",
              "2021-05-05  0.860534  0.268884  2.170151 -0.197698"
            ]
          },
          "metadata": {
            "tags": []
          },
          "execution_count": 100
        }
      ]
    },
    {
      "cell_type": "code",
      "metadata": {
        "colab": {
          "base_uri": "https://localhost:8080/",
          "height": 136
        },
        "id": "z1ZAeQo4t83Q",
        "outputId": "a116755b-5225-41d5-c6fd-9c3c9c5bbed1"
      },
      "source": [
        "df.iloc[0:3,0:4]"
      ],
      "execution_count": 106,
      "outputs": [
        {
          "output_type": "execute_result",
          "data": {
            "text/html": [
              "<div>\n",
              "<style scoped>\n",
              "    .dataframe tbody tr th:only-of-type {\n",
              "        vertical-align: middle;\n",
              "    }\n",
              "\n",
              "    .dataframe tbody tr th {\n",
              "        vertical-align: top;\n",
              "    }\n",
              "\n",
              "    .dataframe thead th {\n",
              "        text-align: right;\n",
              "    }\n",
              "</style>\n",
              "<table border=\"1\" class=\"dataframe\">\n",
              "  <thead>\n",
              "    <tr style=\"text-align: right;\">\n",
              "      <th></th>\n",
              "      <th>A</th>\n",
              "      <th>B</th>\n",
              "      <th>C</th>\n",
              "      <th>D</th>\n",
              "    </tr>\n",
              "  </thead>\n",
              "  <tbody>\n",
              "    <tr>\n",
              "      <th>2021-04-30</th>\n",
              "      <td>0.388076</td>\n",
              "      <td>-0.608399</td>\n",
              "      <td>-0.198925</td>\n",
              "      <td>-0.444986</td>\n",
              "    </tr>\n",
              "    <tr>\n",
              "      <th>2021-05-01</th>\n",
              "      <td>2.275823</td>\n",
              "      <td>0.423238</td>\n",
              "      <td>0.037652</td>\n",
              "      <td>1.444644</td>\n",
              "    </tr>\n",
              "    <tr>\n",
              "      <th>2021-05-02</th>\n",
              "      <td>-0.231695</td>\n",
              "      <td>-0.239672</td>\n",
              "      <td>-0.341289</td>\n",
              "      <td>1.210317</td>\n",
              "    </tr>\n",
              "  </tbody>\n",
              "</table>\n",
              "</div>"
            ],
            "text/plain": [
              "                   A         B         C         D\n",
              "2021-04-30  0.388076 -0.608399 -0.198925 -0.444986\n",
              "2021-05-01  2.275823  0.423238  0.037652  1.444644\n",
              "2021-05-02 -0.231695 -0.239672 -0.341289  1.210317"
            ]
          },
          "metadata": {
            "tags": []
          },
          "execution_count": 106
        }
      ]
    },
    {
      "cell_type": "code",
      "metadata": {
        "colab": {
          "base_uri": "https://localhost:8080/"
        },
        "id": "s5lrHVXkuHbJ",
        "outputId": "3f3825d9-94e1-4aba-8cf3-0752a48d801c"
      },
      "source": [
        "df.loc[dates[3]]"
      ],
      "execution_count": 104,
      "outputs": [
        {
          "output_type": "execute_result",
          "data": {
            "text/plain": [
              "A   -0.458230\n",
              "B    1.318869\n",
              "C   -0.782895\n",
              "D   -1.187362\n",
              "Name: 2021-05-03 00:00:00, dtype: float64"
            ]
          },
          "metadata": {
            "tags": []
          },
          "execution_count": 104
        }
      ]
    },
    {
      "cell_type": "code",
      "metadata": {
        "colab": {
          "base_uri": "https://localhost:8080/",
          "height": 225
        },
        "id": "kJH3uYO2uNte",
        "outputId": "8d354a3b-cd90-427d-b5fa-22f4ac0206b0"
      },
      "source": [
        "df"
      ],
      "execution_count": 107,
      "outputs": [
        {
          "output_type": "execute_result",
          "data": {
            "text/html": [
              "<div>\n",
              "<style scoped>\n",
              "    .dataframe tbody tr th:only-of-type {\n",
              "        vertical-align: middle;\n",
              "    }\n",
              "\n",
              "    .dataframe tbody tr th {\n",
              "        vertical-align: top;\n",
              "    }\n",
              "\n",
              "    .dataframe thead th {\n",
              "        text-align: right;\n",
              "    }\n",
              "</style>\n",
              "<table border=\"1\" class=\"dataframe\">\n",
              "  <thead>\n",
              "    <tr style=\"text-align: right;\">\n",
              "      <th></th>\n",
              "      <th>A</th>\n",
              "      <th>B</th>\n",
              "      <th>C</th>\n",
              "      <th>D</th>\n",
              "    </tr>\n",
              "  </thead>\n",
              "  <tbody>\n",
              "    <tr>\n",
              "      <th>2021-04-30</th>\n",
              "      <td>0.388076</td>\n",
              "      <td>-0.608399</td>\n",
              "      <td>-0.198925</td>\n",
              "      <td>-0.444986</td>\n",
              "    </tr>\n",
              "    <tr>\n",
              "      <th>2021-05-01</th>\n",
              "      <td>2.275823</td>\n",
              "      <td>0.423238</td>\n",
              "      <td>0.037652</td>\n",
              "      <td>1.444644</td>\n",
              "    </tr>\n",
              "    <tr>\n",
              "      <th>2021-05-02</th>\n",
              "      <td>-0.231695</td>\n",
              "      <td>-0.239672</td>\n",
              "      <td>-0.341289</td>\n",
              "      <td>1.210317</td>\n",
              "    </tr>\n",
              "    <tr>\n",
              "      <th>2021-05-03</th>\n",
              "      <td>-0.458230</td>\n",
              "      <td>1.318869</td>\n",
              "      <td>-0.782895</td>\n",
              "      <td>-1.187362</td>\n",
              "    </tr>\n",
              "    <tr>\n",
              "      <th>2021-05-04</th>\n",
              "      <td>0.116776</td>\n",
              "      <td>-1.025247</td>\n",
              "      <td>-1.447914</td>\n",
              "      <td>0.862095</td>\n",
              "    </tr>\n",
              "    <tr>\n",
              "      <th>2021-05-05</th>\n",
              "      <td>0.860534</td>\n",
              "      <td>0.268884</td>\n",
              "      <td>2.170151</td>\n",
              "      <td>-0.197698</td>\n",
              "    </tr>\n",
              "  </tbody>\n",
              "</table>\n",
              "</div>"
            ],
            "text/plain": [
              "                   A         B         C         D\n",
              "2021-04-30  0.388076 -0.608399 -0.198925 -0.444986\n",
              "2021-05-01  2.275823  0.423238  0.037652  1.444644\n",
              "2021-05-02 -0.231695 -0.239672 -0.341289  1.210317\n",
              "2021-05-03 -0.458230  1.318869 -0.782895 -1.187362\n",
              "2021-05-04  0.116776 -1.025247 -1.447914  0.862095\n",
              "2021-05-05  0.860534  0.268884  2.170151 -0.197698"
            ]
          },
          "metadata": {
            "tags": []
          },
          "execution_count": 107
        }
      ]
    },
    {
      "cell_type": "code",
      "metadata": {
        "colab": {
          "base_uri": "https://localhost:8080/"
        },
        "id": "LEXDJe4pvZ8H",
        "outputId": "26c3dde1-f788-4819-cc39-9c21dcf6b42e"
      },
      "source": [
        "df.A"
      ],
      "execution_count": 108,
      "outputs": [
        {
          "output_type": "execute_result",
          "data": {
            "text/plain": [
              "2021-04-30    0.388076\n",
              "2021-05-01    2.275823\n",
              "2021-05-02   -0.231695\n",
              "2021-05-03   -0.458230\n",
              "2021-05-04    0.116776\n",
              "2021-05-05    0.860534\n",
              "Freq: D, Name: A, dtype: float64"
            ]
          },
          "metadata": {
            "tags": []
          },
          "execution_count": 108
        }
      ]
    },
    {
      "cell_type": "code",
      "metadata": {
        "colab": {
          "base_uri": "https://localhost:8080/"
        },
        "id": "4ykPibCwvqP7",
        "outputId": "9c8ea68c-7faa-440d-c63a-dcdad9fd99d9"
      },
      "source": [
        "df.A>0"
      ],
      "execution_count": 109,
      "outputs": [
        {
          "output_type": "execute_result",
          "data": {
            "text/plain": [
              "2021-04-30     True\n",
              "2021-05-01     True\n",
              "2021-05-02    False\n",
              "2021-05-03    False\n",
              "2021-05-04     True\n",
              "2021-05-05     True\n",
              "Freq: D, Name: A, dtype: bool"
            ]
          },
          "metadata": {
            "tags": []
          },
          "execution_count": 109
        }
      ]
    },
    {
      "cell_type": "code",
      "metadata": {
        "colab": {
          "base_uri": "https://localhost:8080/",
          "height": 166
        },
        "id": "asmJHiRgvrO7",
        "outputId": "94d61b06-1590-4027-d03b-75beeb0bed92"
      },
      "source": [
        "df[df.A>0]"
      ],
      "execution_count": 110,
      "outputs": [
        {
          "output_type": "execute_result",
          "data": {
            "text/html": [
              "<div>\n",
              "<style scoped>\n",
              "    .dataframe tbody tr th:only-of-type {\n",
              "        vertical-align: middle;\n",
              "    }\n",
              "\n",
              "    .dataframe tbody tr th {\n",
              "        vertical-align: top;\n",
              "    }\n",
              "\n",
              "    .dataframe thead th {\n",
              "        text-align: right;\n",
              "    }\n",
              "</style>\n",
              "<table border=\"1\" class=\"dataframe\">\n",
              "  <thead>\n",
              "    <tr style=\"text-align: right;\">\n",
              "      <th></th>\n",
              "      <th>A</th>\n",
              "      <th>B</th>\n",
              "      <th>C</th>\n",
              "      <th>D</th>\n",
              "    </tr>\n",
              "  </thead>\n",
              "  <tbody>\n",
              "    <tr>\n",
              "      <th>2021-04-30</th>\n",
              "      <td>0.388076</td>\n",
              "      <td>-0.608399</td>\n",
              "      <td>-0.198925</td>\n",
              "      <td>-0.444986</td>\n",
              "    </tr>\n",
              "    <tr>\n",
              "      <th>2021-05-01</th>\n",
              "      <td>2.275823</td>\n",
              "      <td>0.423238</td>\n",
              "      <td>0.037652</td>\n",
              "      <td>1.444644</td>\n",
              "    </tr>\n",
              "    <tr>\n",
              "      <th>2021-05-04</th>\n",
              "      <td>0.116776</td>\n",
              "      <td>-1.025247</td>\n",
              "      <td>-1.447914</td>\n",
              "      <td>0.862095</td>\n",
              "    </tr>\n",
              "    <tr>\n",
              "      <th>2021-05-05</th>\n",
              "      <td>0.860534</td>\n",
              "      <td>0.268884</td>\n",
              "      <td>2.170151</td>\n",
              "      <td>-0.197698</td>\n",
              "    </tr>\n",
              "  </tbody>\n",
              "</table>\n",
              "</div>"
            ],
            "text/plain": [
              "                   A         B         C         D\n",
              "2021-04-30  0.388076 -0.608399 -0.198925 -0.444986\n",
              "2021-05-01  2.275823  0.423238  0.037652  1.444644\n",
              "2021-05-04  0.116776 -1.025247 -1.447914  0.862095\n",
              "2021-05-05  0.860534  0.268884  2.170151 -0.197698"
            ]
          },
          "metadata": {
            "tags": []
          },
          "execution_count": 110
        }
      ]
    },
    {
      "cell_type": "code",
      "metadata": {
        "id": "-LGPrXzbv5XL"
      },
      "source": [
        ""
      ],
      "execution_count": null,
      "outputs": []
    }
  ]
}