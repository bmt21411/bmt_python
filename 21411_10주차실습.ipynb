{
  "nbformat": 4,
  "nbformat_minor": 0,
  "metadata": {
    "colab": {
      "name": "21411_10주차실습.ipynb",
      "provenance": [],
      "collapsed_sections": [],
      "authorship_tag": "ABX9TyNDs+OZFLC3OZMb3HePGHfV",
      "include_colab_link": true
    },
    "kernelspec": {
      "name": "python3",
      "display_name": "Python 3"
    },
    "language_info": {
      "name": "python"
    }
  },
  "cells": [
    {
      "cell_type": "markdown",
      "metadata": {
        "id": "view-in-github",
        "colab_type": "text"
      },
      "source": [
        "<a href=\"https://colab.research.google.com/github/bmt21411/bmt_python/blob/main/21411_10%EC%A3%BC%EC%B0%A8%EC%8B%A4%EC%8A%B5.ipynb\" target=\"_parent\"><img src=\"https://colab.research.google.com/assets/colab-badge.svg\" alt=\"Open In Colab\"/></a>"
      ]
    },
    {
      "cell_type": "code",
      "metadata": {
        "id": "xizttaJDeHuV"
      },
      "source": [
        "import pandas as pd\n",
        "import numpy as np\n",
        "import matplotlib.pyplot as plt"
      ],
      "execution_count": 2,
      "outputs": []
    },
    {
      "cell_type": "code",
      "metadata": {
        "id": "his82K8Zigy0"
      },
      "source": [
        "row = pd.date_range('20210507' , periods=6)\n",
        "col = list('ABCD')\n",
        "df=pd.DataFrame(np.random.randn(6,4), index=row, columns=col)"
      ],
      "execution_count": 10,
      "outputs": []
    },
    {
      "cell_type": "code",
      "metadata": {
        "colab": {
          "base_uri": "https://localhost:8080/",
          "height": 233
        },
        "id": "G1mrka_RjTXE",
        "outputId": "3bcb26b9-ee73-4980-af7b-5bbf80620710"
      },
      "source": [
        "df"
      ],
      "execution_count": 11,
      "outputs": [
        {
          "output_type": "execute_result",
          "data": {
            "text/html": [
              "<div>\n",
              "<style scoped>\n",
              "    .dataframe tbody tr th:only-of-type {\n",
              "        vertical-align: middle;\n",
              "    }\n",
              "\n",
              "    .dataframe tbody tr th {\n",
              "        vertical-align: top;\n",
              "    }\n",
              "\n",
              "    .dataframe thead th {\n",
              "        text-align: right;\n",
              "    }\n",
              "</style>\n",
              "<table border=\"1\" class=\"dataframe\">\n",
              "  <thead>\n",
              "    <tr style=\"text-align: right;\">\n",
              "      <th></th>\n",
              "      <th>A</th>\n",
              "      <th>B</th>\n",
              "      <th>C</th>\n",
              "      <th>D</th>\n",
              "    </tr>\n",
              "  </thead>\n",
              "  <tbody>\n",
              "    <tr>\n",
              "      <th>2021-05-07</th>\n",
              "      <td>-1.380078</td>\n",
              "      <td>-1.387744</td>\n",
              "      <td>0.017087</td>\n",
              "      <td>0.243960</td>\n",
              "    </tr>\n",
              "    <tr>\n",
              "      <th>2021-05-08</th>\n",
              "      <td>-1.677953</td>\n",
              "      <td>-1.115377</td>\n",
              "      <td>0.497799</td>\n",
              "      <td>2.265493</td>\n",
              "    </tr>\n",
              "    <tr>\n",
              "      <th>2021-05-09</th>\n",
              "      <td>0.342399</td>\n",
              "      <td>2.569590</td>\n",
              "      <td>0.574165</td>\n",
              "      <td>0.350223</td>\n",
              "    </tr>\n",
              "    <tr>\n",
              "      <th>2021-05-10</th>\n",
              "      <td>-0.583187</td>\n",
              "      <td>0.162252</td>\n",
              "      <td>-0.241163</td>\n",
              "      <td>-1.238576</td>\n",
              "    </tr>\n",
              "    <tr>\n",
              "      <th>2021-05-11</th>\n",
              "      <td>-1.200548</td>\n",
              "      <td>0.100165</td>\n",
              "      <td>-0.136948</td>\n",
              "      <td>0.898597</td>\n",
              "    </tr>\n",
              "    <tr>\n",
              "      <th>2021-05-12</th>\n",
              "      <td>-0.729848</td>\n",
              "      <td>-0.172444</td>\n",
              "      <td>-0.314325</td>\n",
              "      <td>1.790685</td>\n",
              "    </tr>\n",
              "  </tbody>\n",
              "</table>\n",
              "</div>"
            ],
            "text/plain": [
              "                   A         B         C         D\n",
              "2021-05-07 -1.380078 -1.387744  0.017087  0.243960\n",
              "2021-05-08 -1.677953 -1.115377  0.497799  2.265493\n",
              "2021-05-09  0.342399  2.569590  0.574165  0.350223\n",
              "2021-05-10 -0.583187  0.162252 -0.241163 -1.238576\n",
              "2021-05-11 -1.200548  0.100165 -0.136948  0.898597\n",
              "2021-05-12 -0.729848 -0.172444 -0.314325  1.790685"
            ]
          },
          "metadata": {
            "tags": []
          },
          "execution_count": 11
        }
      ]
    },
    {
      "cell_type": "code",
      "metadata": {
        "id": "EOue8sQgjUGz"
      },
      "source": [
        "s1 = pd.Series([1, 2, 3, 4, 5, 6], index=pd.date_range('20210507', periods=6))"
      ],
      "execution_count": 12,
      "outputs": []
    },
    {
      "cell_type": "code",
      "metadata": {
        "id": "_6JilPdxl98K"
      },
      "source": [
        "df['F'] = s1"
      ],
      "execution_count": 13,
      "outputs": []
    },
    {
      "cell_type": "code",
      "metadata": {
        "colab": {
          "base_uri": "https://localhost:8080/",
          "height": 233
        },
        "id": "3iOf5TBjmIHz",
        "outputId": "b6de6d6d-24a3-42c9-9f13-f73f352f8a5c"
      },
      "source": [
        "df"
      ],
      "execution_count": 14,
      "outputs": [
        {
          "output_type": "execute_result",
          "data": {
            "text/html": [
              "<div>\n",
              "<style scoped>\n",
              "    .dataframe tbody tr th:only-of-type {\n",
              "        vertical-align: middle;\n",
              "    }\n",
              "\n",
              "    .dataframe tbody tr th {\n",
              "        vertical-align: top;\n",
              "    }\n",
              "\n",
              "    .dataframe thead th {\n",
              "        text-align: right;\n",
              "    }\n",
              "</style>\n",
              "<table border=\"1\" class=\"dataframe\">\n",
              "  <thead>\n",
              "    <tr style=\"text-align: right;\">\n",
              "      <th></th>\n",
              "      <th>A</th>\n",
              "      <th>B</th>\n",
              "      <th>C</th>\n",
              "      <th>D</th>\n",
              "      <th>F</th>\n",
              "    </tr>\n",
              "  </thead>\n",
              "  <tbody>\n",
              "    <tr>\n",
              "      <th>2021-05-07</th>\n",
              "      <td>-1.380078</td>\n",
              "      <td>-1.387744</td>\n",
              "      <td>0.017087</td>\n",
              "      <td>0.243960</td>\n",
              "      <td>NaN</td>\n",
              "    </tr>\n",
              "    <tr>\n",
              "      <th>2021-05-08</th>\n",
              "      <td>-1.677953</td>\n",
              "      <td>-1.115377</td>\n",
              "      <td>0.497799</td>\n",
              "      <td>2.265493</td>\n",
              "      <td>NaN</td>\n",
              "    </tr>\n",
              "    <tr>\n",
              "      <th>2021-05-09</th>\n",
              "      <td>0.342399</td>\n",
              "      <td>2.569590</td>\n",
              "      <td>0.574165</td>\n",
              "      <td>0.350223</td>\n",
              "      <td>NaN</td>\n",
              "    </tr>\n",
              "    <tr>\n",
              "      <th>2021-05-10</th>\n",
              "      <td>-0.583187</td>\n",
              "      <td>0.162252</td>\n",
              "      <td>-0.241163</td>\n",
              "      <td>-1.238576</td>\n",
              "      <td>NaN</td>\n",
              "    </tr>\n",
              "    <tr>\n",
              "      <th>2021-05-11</th>\n",
              "      <td>-1.200548</td>\n",
              "      <td>0.100165</td>\n",
              "      <td>-0.136948</td>\n",
              "      <td>0.898597</td>\n",
              "      <td>NaN</td>\n",
              "    </tr>\n",
              "    <tr>\n",
              "      <th>2021-05-12</th>\n",
              "      <td>-0.729848</td>\n",
              "      <td>-0.172444</td>\n",
              "      <td>-0.314325</td>\n",
              "      <td>1.790685</td>\n",
              "      <td>NaN</td>\n",
              "    </tr>\n",
              "  </tbody>\n",
              "</table>\n",
              "</div>"
            ],
            "text/plain": [
              "                   A         B         C         D   F\n",
              "2021-05-07 -1.380078 -1.387744  0.017087  0.243960 NaN\n",
              "2021-05-08 -1.677953 -1.115377  0.497799  2.265493 NaN\n",
              "2021-05-09  0.342399  2.569590  0.574165  0.350223 NaN\n",
              "2021-05-10 -0.583187  0.162252 -0.241163 -1.238576 NaN\n",
              "2021-05-11 -1.200548  0.100165 -0.136948  0.898597 NaN\n",
              "2021-05-12 -0.729848 -0.172444 -0.314325  1.790685 NaN"
            ]
          },
          "metadata": {
            "tags": []
          },
          "execution_count": 14
        }
      ]
    },
    {
      "cell_type": "code",
      "metadata": {
        "colab": {
          "base_uri": "https://localhost:8080/",
          "height": 233
        },
        "id": "YozSi2VrmMhD",
        "outputId": "05adfc19-3b8b-4cb1-b655-c6b3c4e1c459"
      },
      "source": [
        "df>0"
      ],
      "execution_count": 15,
      "outputs": [
        {
          "output_type": "execute_result",
          "data": {
            "text/html": [
              "<div>\n",
              "<style scoped>\n",
              "    .dataframe tbody tr th:only-of-type {\n",
              "        vertical-align: middle;\n",
              "    }\n",
              "\n",
              "    .dataframe tbody tr th {\n",
              "        vertical-align: top;\n",
              "    }\n",
              "\n",
              "    .dataframe thead th {\n",
              "        text-align: right;\n",
              "    }\n",
              "</style>\n",
              "<table border=\"1\" class=\"dataframe\">\n",
              "  <thead>\n",
              "    <tr style=\"text-align: right;\">\n",
              "      <th></th>\n",
              "      <th>A</th>\n",
              "      <th>B</th>\n",
              "      <th>C</th>\n",
              "      <th>D</th>\n",
              "      <th>F</th>\n",
              "    </tr>\n",
              "  </thead>\n",
              "  <tbody>\n",
              "    <tr>\n",
              "      <th>2021-05-07</th>\n",
              "      <td>False</td>\n",
              "      <td>False</td>\n",
              "      <td>True</td>\n",
              "      <td>True</td>\n",
              "      <td>False</td>\n",
              "    </tr>\n",
              "    <tr>\n",
              "      <th>2021-05-08</th>\n",
              "      <td>False</td>\n",
              "      <td>False</td>\n",
              "      <td>True</td>\n",
              "      <td>True</td>\n",
              "      <td>False</td>\n",
              "    </tr>\n",
              "    <tr>\n",
              "      <th>2021-05-09</th>\n",
              "      <td>True</td>\n",
              "      <td>True</td>\n",
              "      <td>True</td>\n",
              "      <td>True</td>\n",
              "      <td>False</td>\n",
              "    </tr>\n",
              "    <tr>\n",
              "      <th>2021-05-10</th>\n",
              "      <td>False</td>\n",
              "      <td>True</td>\n",
              "      <td>False</td>\n",
              "      <td>False</td>\n",
              "      <td>False</td>\n",
              "    </tr>\n",
              "    <tr>\n",
              "      <th>2021-05-11</th>\n",
              "      <td>False</td>\n",
              "      <td>True</td>\n",
              "      <td>False</td>\n",
              "      <td>True</td>\n",
              "      <td>False</td>\n",
              "    </tr>\n",
              "    <tr>\n",
              "      <th>2021-05-12</th>\n",
              "      <td>False</td>\n",
              "      <td>False</td>\n",
              "      <td>False</td>\n",
              "      <td>True</td>\n",
              "      <td>False</td>\n",
              "    </tr>\n",
              "  </tbody>\n",
              "</table>\n",
              "</div>"
            ],
            "text/plain": [
              "                A      B      C      D      F\n",
              "2021-05-07  False  False   True   True  False\n",
              "2021-05-08  False  False   True   True  False\n",
              "2021-05-09   True   True   True   True  False\n",
              "2021-05-10  False   True  False  False  False\n",
              "2021-05-11  False   True  False   True  False\n",
              "2021-05-12  False  False  False   True  False"
            ]
          },
          "metadata": {
            "tags": []
          },
          "execution_count": 15
        }
      ]
    },
    {
      "cell_type": "code",
      "metadata": {
        "colab": {
          "base_uri": "https://localhost:8080/",
          "height": 233
        },
        "id": "1NGNQ_dmme4j",
        "outputId": "205ff584-f703-4921-8f9b-132716727d9f"
      },
      "source": [
        "df[df>0]"
      ],
      "execution_count": 16,
      "outputs": [
        {
          "output_type": "execute_result",
          "data": {
            "text/html": [
              "<div>\n",
              "<style scoped>\n",
              "    .dataframe tbody tr th:only-of-type {\n",
              "        vertical-align: middle;\n",
              "    }\n",
              "\n",
              "    .dataframe tbody tr th {\n",
              "        vertical-align: top;\n",
              "    }\n",
              "\n",
              "    .dataframe thead th {\n",
              "        text-align: right;\n",
              "    }\n",
              "</style>\n",
              "<table border=\"1\" class=\"dataframe\">\n",
              "  <thead>\n",
              "    <tr style=\"text-align: right;\">\n",
              "      <th></th>\n",
              "      <th>A</th>\n",
              "      <th>B</th>\n",
              "      <th>C</th>\n",
              "      <th>D</th>\n",
              "      <th>F</th>\n",
              "    </tr>\n",
              "  </thead>\n",
              "  <tbody>\n",
              "    <tr>\n",
              "      <th>2021-05-07</th>\n",
              "      <td>NaN</td>\n",
              "      <td>NaN</td>\n",
              "      <td>0.017087</td>\n",
              "      <td>0.243960</td>\n",
              "      <td>NaN</td>\n",
              "    </tr>\n",
              "    <tr>\n",
              "      <th>2021-05-08</th>\n",
              "      <td>NaN</td>\n",
              "      <td>NaN</td>\n",
              "      <td>0.497799</td>\n",
              "      <td>2.265493</td>\n",
              "      <td>NaN</td>\n",
              "    </tr>\n",
              "    <tr>\n",
              "      <th>2021-05-09</th>\n",
              "      <td>0.342399</td>\n",
              "      <td>2.569590</td>\n",
              "      <td>0.574165</td>\n",
              "      <td>0.350223</td>\n",
              "      <td>NaN</td>\n",
              "    </tr>\n",
              "    <tr>\n",
              "      <th>2021-05-10</th>\n",
              "      <td>NaN</td>\n",
              "      <td>0.162252</td>\n",
              "      <td>NaN</td>\n",
              "      <td>NaN</td>\n",
              "      <td>NaN</td>\n",
              "    </tr>\n",
              "    <tr>\n",
              "      <th>2021-05-11</th>\n",
              "      <td>NaN</td>\n",
              "      <td>0.100165</td>\n",
              "      <td>NaN</td>\n",
              "      <td>0.898597</td>\n",
              "      <td>NaN</td>\n",
              "    </tr>\n",
              "    <tr>\n",
              "      <th>2021-05-12</th>\n",
              "      <td>NaN</td>\n",
              "      <td>NaN</td>\n",
              "      <td>NaN</td>\n",
              "      <td>1.790685</td>\n",
              "      <td>NaN</td>\n",
              "    </tr>\n",
              "  </tbody>\n",
              "</table>\n",
              "</div>"
            ],
            "text/plain": [
              "                   A         B         C         D   F\n",
              "2021-05-07       NaN       NaN  0.017087  0.243960 NaN\n",
              "2021-05-08       NaN       NaN  0.497799  2.265493 NaN\n",
              "2021-05-09  0.342399  2.569590  0.574165  0.350223 NaN\n",
              "2021-05-10       NaN  0.162252       NaN       NaN NaN\n",
              "2021-05-11       NaN  0.100165       NaN  0.898597 NaN\n",
              "2021-05-12       NaN       NaN       NaN  1.790685 NaN"
            ]
          },
          "metadata": {
            "tags": []
          },
          "execution_count": 16
        }
      ]
    },
    {
      "cell_type": "code",
      "metadata": {
        "id": "ehoVYzbcs34G"
      },
      "source": [
        "df2=df"
      ],
      "execution_count": 41,
      "outputs": []
    },
    {
      "cell_type": "code",
      "metadata": {
        "id": "8lC7_NpFmhZj"
      },
      "source": [
        "df2=df.copy()"
      ],
      "execution_count": 42,
      "outputs": []
    },
    {
      "cell_type": "code",
      "metadata": {
        "colab": {
          "base_uri": "https://localhost:8080/",
          "height": 233
        },
        "id": "VuqEp892myqD",
        "outputId": "2afc03b0-55bc-4872-bc50-3d93e5f94aae"
      },
      "source": [
        "df2[df2>0]"
      ],
      "execution_count": 43,
      "outputs": [
        {
          "output_type": "execute_result",
          "data": {
            "text/html": [
              "<div>\n",
              "<style scoped>\n",
              "    .dataframe tbody tr th:only-of-type {\n",
              "        vertical-align: middle;\n",
              "    }\n",
              "\n",
              "    .dataframe tbody tr th {\n",
              "        vertical-align: top;\n",
              "    }\n",
              "\n",
              "    .dataframe thead th {\n",
              "        text-align: right;\n",
              "    }\n",
              "</style>\n",
              "<table border=\"1\" class=\"dataframe\">\n",
              "  <thead>\n",
              "    <tr style=\"text-align: right;\">\n",
              "      <th></th>\n",
              "      <th>A</th>\n",
              "      <th>B</th>\n",
              "      <th>C</th>\n",
              "      <th>D</th>\n",
              "      <th>F</th>\n",
              "    </tr>\n",
              "  </thead>\n",
              "  <tbody>\n",
              "    <tr>\n",
              "      <th>2021-05-07</th>\n",
              "      <td>NaN</td>\n",
              "      <td>NaN</td>\n",
              "      <td>0.017087</td>\n",
              "      <td>0.243960</td>\n",
              "      <td>NaN</td>\n",
              "    </tr>\n",
              "    <tr>\n",
              "      <th>2021-05-08</th>\n",
              "      <td>NaN</td>\n",
              "      <td>NaN</td>\n",
              "      <td>0.497799</td>\n",
              "      <td>2.265493</td>\n",
              "      <td>NaN</td>\n",
              "    </tr>\n",
              "    <tr>\n",
              "      <th>2021-05-09</th>\n",
              "      <td>0.342399</td>\n",
              "      <td>2.569590</td>\n",
              "      <td>0.574165</td>\n",
              "      <td>0.350223</td>\n",
              "      <td>NaN</td>\n",
              "    </tr>\n",
              "    <tr>\n",
              "      <th>2021-05-10</th>\n",
              "      <td>NaN</td>\n",
              "      <td>0.162252</td>\n",
              "      <td>NaN</td>\n",
              "      <td>NaN</td>\n",
              "      <td>NaN</td>\n",
              "    </tr>\n",
              "    <tr>\n",
              "      <th>2021-05-11</th>\n",
              "      <td>NaN</td>\n",
              "      <td>0.100165</td>\n",
              "      <td>NaN</td>\n",
              "      <td>0.898597</td>\n",
              "      <td>NaN</td>\n",
              "    </tr>\n",
              "    <tr>\n",
              "      <th>2021-05-12</th>\n",
              "      <td>NaN</td>\n",
              "      <td>NaN</td>\n",
              "      <td>NaN</td>\n",
              "      <td>1.790685</td>\n",
              "      <td>NaN</td>\n",
              "    </tr>\n",
              "  </tbody>\n",
              "</table>\n",
              "</div>"
            ],
            "text/plain": [
              "                   A         B         C         D   F\n",
              "2021-05-07       NaN       NaN  0.017087  0.243960 NaN\n",
              "2021-05-08       NaN       NaN  0.497799  2.265493 NaN\n",
              "2021-05-09  0.342399  2.569590  0.574165  0.350223 NaN\n",
              "2021-05-10       NaN  0.162252       NaN       NaN NaN\n",
              "2021-05-11       NaN  0.100165       NaN  0.898597 NaN\n",
              "2021-05-12       NaN       NaN       NaN  1.790685 NaN"
            ]
          },
          "metadata": {
            "tags": []
          },
          "execution_count": 43
        }
      ]
    },
    {
      "cell_type": "code",
      "metadata": {
        "id": "L26EppVdm2QT"
      },
      "source": [
        "df2[df2>0] = -df"
      ],
      "execution_count": 44,
      "outputs": []
    },
    {
      "cell_type": "code",
      "metadata": {
        "colab": {
          "base_uri": "https://localhost:8080/",
          "height": 233
        },
        "id": "T4imkzwgm4-T",
        "outputId": "b9205f3c-d60a-4491-f268-eeca5235b635"
      },
      "source": [
        "df2"
      ],
      "execution_count": 45,
      "outputs": [
        {
          "output_type": "execute_result",
          "data": {
            "text/html": [
              "<div>\n",
              "<style scoped>\n",
              "    .dataframe tbody tr th:only-of-type {\n",
              "        vertical-align: middle;\n",
              "    }\n",
              "\n",
              "    .dataframe tbody tr th {\n",
              "        vertical-align: top;\n",
              "    }\n",
              "\n",
              "    .dataframe thead th {\n",
              "        text-align: right;\n",
              "    }\n",
              "</style>\n",
              "<table border=\"1\" class=\"dataframe\">\n",
              "  <thead>\n",
              "    <tr style=\"text-align: right;\">\n",
              "      <th></th>\n",
              "      <th>A</th>\n",
              "      <th>B</th>\n",
              "      <th>C</th>\n",
              "      <th>D</th>\n",
              "      <th>F</th>\n",
              "    </tr>\n",
              "  </thead>\n",
              "  <tbody>\n",
              "    <tr>\n",
              "      <th>2021-05-07</th>\n",
              "      <td>-1.380078</td>\n",
              "      <td>-1.387744</td>\n",
              "      <td>-0.017087</td>\n",
              "      <td>-0.243960</td>\n",
              "      <td>NaN</td>\n",
              "    </tr>\n",
              "    <tr>\n",
              "      <th>2021-05-08</th>\n",
              "      <td>-1.677953</td>\n",
              "      <td>-1.115377</td>\n",
              "      <td>-0.497799</td>\n",
              "      <td>-2.265493</td>\n",
              "      <td>NaN</td>\n",
              "    </tr>\n",
              "    <tr>\n",
              "      <th>2021-05-09</th>\n",
              "      <td>-0.342399</td>\n",
              "      <td>-2.569590</td>\n",
              "      <td>-0.574165</td>\n",
              "      <td>-0.350223</td>\n",
              "      <td>NaN</td>\n",
              "    </tr>\n",
              "    <tr>\n",
              "      <th>2021-05-10</th>\n",
              "      <td>-0.583187</td>\n",
              "      <td>-0.162252</td>\n",
              "      <td>-0.241163</td>\n",
              "      <td>-1.238576</td>\n",
              "      <td>NaN</td>\n",
              "    </tr>\n",
              "    <tr>\n",
              "      <th>2021-05-11</th>\n",
              "      <td>-1.200548</td>\n",
              "      <td>-0.100165</td>\n",
              "      <td>-0.136948</td>\n",
              "      <td>-0.898597</td>\n",
              "      <td>NaN</td>\n",
              "    </tr>\n",
              "    <tr>\n",
              "      <th>2021-05-12</th>\n",
              "      <td>-0.729848</td>\n",
              "      <td>-0.172444</td>\n",
              "      <td>-0.314325</td>\n",
              "      <td>-1.790685</td>\n",
              "      <td>NaN</td>\n",
              "    </tr>\n",
              "  </tbody>\n",
              "</table>\n",
              "</div>"
            ],
            "text/plain": [
              "                   A         B         C         D   F\n",
              "2021-05-07 -1.380078 -1.387744 -0.017087 -0.243960 NaN\n",
              "2021-05-08 -1.677953 -1.115377 -0.497799 -2.265493 NaN\n",
              "2021-05-09 -0.342399 -2.569590 -0.574165 -0.350223 NaN\n",
              "2021-05-10 -0.583187 -0.162252 -0.241163 -1.238576 NaN\n",
              "2021-05-11 -1.200548 -0.100165 -0.136948 -0.898597 NaN\n",
              "2021-05-12 -0.729848 -0.172444 -0.314325 -1.790685 NaN"
            ]
          },
          "metadata": {
            "tags": []
          },
          "execution_count": 45
        }
      ]
    },
    {
      "cell_type": "code",
      "metadata": {
        "colab": {
          "base_uri": "https://localhost:8080/",
          "height": 233
        },
        "id": "m86PuOMkm73j",
        "outputId": "4e4d4723-52df-4ac1-e580-3e64fc883718"
      },
      "source": [
        "df"
      ],
      "execution_count": 46,
      "outputs": [
        {
          "output_type": "execute_result",
          "data": {
            "text/html": [
              "<div>\n",
              "<style scoped>\n",
              "    .dataframe tbody tr th:only-of-type {\n",
              "        vertical-align: middle;\n",
              "    }\n",
              "\n",
              "    .dataframe tbody tr th {\n",
              "        vertical-align: top;\n",
              "    }\n",
              "\n",
              "    .dataframe thead th {\n",
              "        text-align: right;\n",
              "    }\n",
              "</style>\n",
              "<table border=\"1\" class=\"dataframe\">\n",
              "  <thead>\n",
              "    <tr style=\"text-align: right;\">\n",
              "      <th></th>\n",
              "      <th>A</th>\n",
              "      <th>B</th>\n",
              "      <th>C</th>\n",
              "      <th>D</th>\n",
              "      <th>F</th>\n",
              "    </tr>\n",
              "  </thead>\n",
              "  <tbody>\n",
              "    <tr>\n",
              "      <th>2021-05-07</th>\n",
              "      <td>-1.380078</td>\n",
              "      <td>-1.387744</td>\n",
              "      <td>0.017087</td>\n",
              "      <td>0.243960</td>\n",
              "      <td>NaN</td>\n",
              "    </tr>\n",
              "    <tr>\n",
              "      <th>2021-05-08</th>\n",
              "      <td>-1.677953</td>\n",
              "      <td>-1.115377</td>\n",
              "      <td>0.497799</td>\n",
              "      <td>2.265493</td>\n",
              "      <td>NaN</td>\n",
              "    </tr>\n",
              "    <tr>\n",
              "      <th>2021-05-09</th>\n",
              "      <td>0.342399</td>\n",
              "      <td>2.569590</td>\n",
              "      <td>0.574165</td>\n",
              "      <td>0.350223</td>\n",
              "      <td>NaN</td>\n",
              "    </tr>\n",
              "    <tr>\n",
              "      <th>2021-05-10</th>\n",
              "      <td>-0.583187</td>\n",
              "      <td>0.162252</td>\n",
              "      <td>-0.241163</td>\n",
              "      <td>-1.238576</td>\n",
              "      <td>NaN</td>\n",
              "    </tr>\n",
              "    <tr>\n",
              "      <th>2021-05-11</th>\n",
              "      <td>-1.200548</td>\n",
              "      <td>0.100165</td>\n",
              "      <td>-0.136948</td>\n",
              "      <td>0.898597</td>\n",
              "      <td>NaN</td>\n",
              "    </tr>\n",
              "    <tr>\n",
              "      <th>2021-05-12</th>\n",
              "      <td>-0.729848</td>\n",
              "      <td>-0.172444</td>\n",
              "      <td>-0.314325</td>\n",
              "      <td>1.790685</td>\n",
              "      <td>NaN</td>\n",
              "    </tr>\n",
              "  </tbody>\n",
              "</table>\n",
              "</div>"
            ],
            "text/plain": [
              "                   A         B         C         D   F\n",
              "2021-05-07 -1.380078 -1.387744  0.017087  0.243960 NaN\n",
              "2021-05-08 -1.677953 -1.115377  0.497799  2.265493 NaN\n",
              "2021-05-09  0.342399  2.569590  0.574165  0.350223 NaN\n",
              "2021-05-10 -0.583187  0.162252 -0.241163 -1.238576 NaN\n",
              "2021-05-11 -1.200548  0.100165 -0.136948  0.898597 NaN\n",
              "2021-05-12 -0.729848 -0.172444 -0.314325  1.790685 NaN"
            ]
          },
          "metadata": {
            "tags": []
          },
          "execution_count": 46
        }
      ]
    },
    {
      "cell_type": "code",
      "metadata": {
        "colab": {
          "base_uri": "https://localhost:8080/"
        },
        "id": "mL9MCIEgnobE",
        "outputId": "482cf4c8-77b2-4acd-f927-e6d874a52776"
      },
      "source": [
        "df.mean(0)"
      ],
      "execution_count": 47,
      "outputs": [
        {
          "output_type": "execute_result",
          "data": {
            "text/plain": [
              "A   -0.871536\n",
              "B    0.026074\n",
              "C    0.066102\n",
              "D    0.718397\n",
              "F         NaN\n",
              "dtype: float64"
            ]
          },
          "metadata": {
            "tags": []
          },
          "execution_count": 47
        }
      ]
    },
    {
      "cell_type": "code",
      "metadata": {
        "colab": {
          "base_uri": "https://localhost:8080/"
        },
        "id": "bSoGswBunu5D",
        "outputId": "7f1c9b38-795f-4c24-cefb-76f39062b139"
      },
      "source": [
        "df.mean(1)"
      ],
      "execution_count": 48,
      "outputs": [
        {
          "output_type": "execute_result",
          "data": {
            "text/plain": [
              "2021-05-07   -0.626694\n",
              "2021-05-08   -0.007509\n",
              "2021-05-09    0.959094\n",
              "2021-05-10   -0.475169\n",
              "2021-05-11   -0.084684\n",
              "2021-05-12    0.143517\n",
              "Freq: D, dtype: float64"
            ]
          },
          "metadata": {
            "tags": []
          },
          "execution_count": 48
        }
      ]
    },
    {
      "cell_type": "code",
      "metadata": {
        "colab": {
          "base_uri": "https://localhost:8080/",
          "height": 233
        },
        "id": "P65EhP9GoNzk",
        "outputId": "ba1be224-15d9-41e7-c57c-9603b75aa202"
      },
      "source": [
        "df.apply(np.cumsum)"
      ],
      "execution_count": 49,
      "outputs": [
        {
          "output_type": "execute_result",
          "data": {
            "text/html": [
              "<div>\n",
              "<style scoped>\n",
              "    .dataframe tbody tr th:only-of-type {\n",
              "        vertical-align: middle;\n",
              "    }\n",
              "\n",
              "    .dataframe tbody tr th {\n",
              "        vertical-align: top;\n",
              "    }\n",
              "\n",
              "    .dataframe thead th {\n",
              "        text-align: right;\n",
              "    }\n",
              "</style>\n",
              "<table border=\"1\" class=\"dataframe\">\n",
              "  <thead>\n",
              "    <tr style=\"text-align: right;\">\n",
              "      <th></th>\n",
              "      <th>A</th>\n",
              "      <th>B</th>\n",
              "      <th>C</th>\n",
              "      <th>D</th>\n",
              "      <th>F</th>\n",
              "    </tr>\n",
              "  </thead>\n",
              "  <tbody>\n",
              "    <tr>\n",
              "      <th>2021-05-07</th>\n",
              "      <td>-1.380078</td>\n",
              "      <td>-1.387744</td>\n",
              "      <td>0.017087</td>\n",
              "      <td>0.243960</td>\n",
              "      <td>NaN</td>\n",
              "    </tr>\n",
              "    <tr>\n",
              "      <th>2021-05-08</th>\n",
              "      <td>-3.058031</td>\n",
              "      <td>-2.503121</td>\n",
              "      <td>0.514886</td>\n",
              "      <td>2.509453</td>\n",
              "      <td>NaN</td>\n",
              "    </tr>\n",
              "    <tr>\n",
              "      <th>2021-05-09</th>\n",
              "      <td>-2.715632</td>\n",
              "      <td>0.066469</td>\n",
              "      <td>1.089050</td>\n",
              "      <td>2.859676</td>\n",
              "      <td>NaN</td>\n",
              "    </tr>\n",
              "    <tr>\n",
              "      <th>2021-05-10</th>\n",
              "      <td>-3.298819</td>\n",
              "      <td>0.228721</td>\n",
              "      <td>0.847887</td>\n",
              "      <td>1.621100</td>\n",
              "      <td>NaN</td>\n",
              "    </tr>\n",
              "    <tr>\n",
              "      <th>2021-05-11</th>\n",
              "      <td>-4.499367</td>\n",
              "      <td>0.328885</td>\n",
              "      <td>0.710939</td>\n",
              "      <td>2.519698</td>\n",
              "      <td>NaN</td>\n",
              "    </tr>\n",
              "    <tr>\n",
              "      <th>2021-05-12</th>\n",
              "      <td>-5.229215</td>\n",
              "      <td>0.156442</td>\n",
              "      <td>0.396614</td>\n",
              "      <td>4.310382</td>\n",
              "      <td>NaN</td>\n",
              "    </tr>\n",
              "  </tbody>\n",
              "</table>\n",
              "</div>"
            ],
            "text/plain": [
              "                   A         B         C         D   F\n",
              "2021-05-07 -1.380078 -1.387744  0.017087  0.243960 NaN\n",
              "2021-05-08 -3.058031 -2.503121  0.514886  2.509453 NaN\n",
              "2021-05-09 -2.715632  0.066469  1.089050  2.859676 NaN\n",
              "2021-05-10 -3.298819  0.228721  0.847887  1.621100 NaN\n",
              "2021-05-11 -4.499367  0.328885  0.710939  2.519698 NaN\n",
              "2021-05-12 -5.229215  0.156442  0.396614  4.310382 NaN"
            ]
          },
          "metadata": {
            "tags": []
          },
          "execution_count": 49
        }
      ]
    },
    {
      "cell_type": "code",
      "metadata": {
        "colab": {
          "base_uri": "https://localhost:8080/",
          "height": 233
        },
        "id": "jBOV6NpNpkU0",
        "outputId": "db75ef3a-8a36-40e5-882b-6fea96eaa001"
      },
      "source": [
        "df"
      ],
      "execution_count": 50,
      "outputs": [
        {
          "output_type": "execute_result",
          "data": {
            "text/html": [
              "<div>\n",
              "<style scoped>\n",
              "    .dataframe tbody tr th:only-of-type {\n",
              "        vertical-align: middle;\n",
              "    }\n",
              "\n",
              "    .dataframe tbody tr th {\n",
              "        vertical-align: top;\n",
              "    }\n",
              "\n",
              "    .dataframe thead th {\n",
              "        text-align: right;\n",
              "    }\n",
              "</style>\n",
              "<table border=\"1\" class=\"dataframe\">\n",
              "  <thead>\n",
              "    <tr style=\"text-align: right;\">\n",
              "      <th></th>\n",
              "      <th>A</th>\n",
              "      <th>B</th>\n",
              "      <th>C</th>\n",
              "      <th>D</th>\n",
              "      <th>F</th>\n",
              "    </tr>\n",
              "  </thead>\n",
              "  <tbody>\n",
              "    <tr>\n",
              "      <th>2021-05-07</th>\n",
              "      <td>-1.380078</td>\n",
              "      <td>-1.387744</td>\n",
              "      <td>0.017087</td>\n",
              "      <td>0.243960</td>\n",
              "      <td>NaN</td>\n",
              "    </tr>\n",
              "    <tr>\n",
              "      <th>2021-05-08</th>\n",
              "      <td>-1.677953</td>\n",
              "      <td>-1.115377</td>\n",
              "      <td>0.497799</td>\n",
              "      <td>2.265493</td>\n",
              "      <td>NaN</td>\n",
              "    </tr>\n",
              "    <tr>\n",
              "      <th>2021-05-09</th>\n",
              "      <td>0.342399</td>\n",
              "      <td>2.569590</td>\n",
              "      <td>0.574165</td>\n",
              "      <td>0.350223</td>\n",
              "      <td>NaN</td>\n",
              "    </tr>\n",
              "    <tr>\n",
              "      <th>2021-05-10</th>\n",
              "      <td>-0.583187</td>\n",
              "      <td>0.162252</td>\n",
              "      <td>-0.241163</td>\n",
              "      <td>-1.238576</td>\n",
              "      <td>NaN</td>\n",
              "    </tr>\n",
              "    <tr>\n",
              "      <th>2021-05-11</th>\n",
              "      <td>-1.200548</td>\n",
              "      <td>0.100165</td>\n",
              "      <td>-0.136948</td>\n",
              "      <td>0.898597</td>\n",
              "      <td>NaN</td>\n",
              "    </tr>\n",
              "    <tr>\n",
              "      <th>2021-05-12</th>\n",
              "      <td>-0.729848</td>\n",
              "      <td>-0.172444</td>\n",
              "      <td>-0.314325</td>\n",
              "      <td>1.790685</td>\n",
              "      <td>NaN</td>\n",
              "    </tr>\n",
              "  </tbody>\n",
              "</table>\n",
              "</div>"
            ],
            "text/plain": [
              "                   A         B         C         D   F\n",
              "2021-05-07 -1.380078 -1.387744  0.017087  0.243960 NaN\n",
              "2021-05-08 -1.677953 -1.115377  0.497799  2.265493 NaN\n",
              "2021-05-09  0.342399  2.569590  0.574165  0.350223 NaN\n",
              "2021-05-10 -0.583187  0.162252 -0.241163 -1.238576 NaN\n",
              "2021-05-11 -1.200548  0.100165 -0.136948  0.898597 NaN\n",
              "2021-05-12 -0.729848 -0.172444 -0.314325  1.790685 NaN"
            ]
          },
          "metadata": {
            "tags": []
          },
          "execution_count": 50
        }
      ]
    },
    {
      "cell_type": "code",
      "metadata": {
        "colab": {
          "base_uri": "https://localhost:8080/",
          "height": 233
        },
        "id": "AbV6RXRSpnFT",
        "outputId": "01a3f87d-9846-448a-d0b5-e1b8820db0b7"
      },
      "source": [
        "df.apply(np.cumsum,axis=1)"
      ],
      "execution_count": 51,
      "outputs": [
        {
          "output_type": "execute_result",
          "data": {
            "text/html": [
              "<div>\n",
              "<style scoped>\n",
              "    .dataframe tbody tr th:only-of-type {\n",
              "        vertical-align: middle;\n",
              "    }\n",
              "\n",
              "    .dataframe tbody tr th {\n",
              "        vertical-align: top;\n",
              "    }\n",
              "\n",
              "    .dataframe thead th {\n",
              "        text-align: right;\n",
              "    }\n",
              "</style>\n",
              "<table border=\"1\" class=\"dataframe\">\n",
              "  <thead>\n",
              "    <tr style=\"text-align: right;\">\n",
              "      <th></th>\n",
              "      <th>A</th>\n",
              "      <th>B</th>\n",
              "      <th>C</th>\n",
              "      <th>D</th>\n",
              "      <th>F</th>\n",
              "    </tr>\n",
              "  </thead>\n",
              "  <tbody>\n",
              "    <tr>\n",
              "      <th>2021-05-07</th>\n",
              "      <td>-1.380078</td>\n",
              "      <td>-2.767822</td>\n",
              "      <td>-2.750735</td>\n",
              "      <td>-2.506775</td>\n",
              "      <td>NaN</td>\n",
              "    </tr>\n",
              "    <tr>\n",
              "      <th>2021-05-08</th>\n",
              "      <td>-1.677953</td>\n",
              "      <td>-2.793330</td>\n",
              "      <td>-2.295531</td>\n",
              "      <td>-0.030038</td>\n",
              "      <td>NaN</td>\n",
              "    </tr>\n",
              "    <tr>\n",
              "      <th>2021-05-09</th>\n",
              "      <td>0.342399</td>\n",
              "      <td>2.911989</td>\n",
              "      <td>3.486154</td>\n",
              "      <td>3.836377</td>\n",
              "      <td>NaN</td>\n",
              "    </tr>\n",
              "    <tr>\n",
              "      <th>2021-05-10</th>\n",
              "      <td>-0.583187</td>\n",
              "      <td>-0.420935</td>\n",
              "      <td>-0.662099</td>\n",
              "      <td>-1.900674</td>\n",
              "      <td>NaN</td>\n",
              "    </tr>\n",
              "    <tr>\n",
              "      <th>2021-05-11</th>\n",
              "      <td>-1.200548</td>\n",
              "      <td>-1.100384</td>\n",
              "      <td>-1.237332</td>\n",
              "      <td>-0.338734</td>\n",
              "      <td>NaN</td>\n",
              "    </tr>\n",
              "    <tr>\n",
              "      <th>2021-05-12</th>\n",
              "      <td>-0.729848</td>\n",
              "      <td>-0.902292</td>\n",
              "      <td>-1.216617</td>\n",
              "      <td>0.574068</td>\n",
              "      <td>NaN</td>\n",
              "    </tr>\n",
              "  </tbody>\n",
              "</table>\n",
              "</div>"
            ],
            "text/plain": [
              "                   A         B         C         D   F\n",
              "2021-05-07 -1.380078 -2.767822 -2.750735 -2.506775 NaN\n",
              "2021-05-08 -1.677953 -2.793330 -2.295531 -0.030038 NaN\n",
              "2021-05-09  0.342399  2.911989  3.486154  3.836377 NaN\n",
              "2021-05-10 -0.583187 -0.420935 -0.662099 -1.900674 NaN\n",
              "2021-05-11 -1.200548 -1.100384 -1.237332 -0.338734 NaN\n",
              "2021-05-12 -0.729848 -0.902292 -1.216617  0.574068 NaN"
            ]
          },
          "metadata": {
            "tags": []
          },
          "execution_count": 51
        }
      ]
    },
    {
      "cell_type": "code",
      "metadata": {
        "colab": {
          "base_uri": "https://localhost:8080/",
          "height": 233
        },
        "id": "ndI1SnYtp34k",
        "outputId": "c934821f-60ed-46f5-81ed-9034230dc92e"
      },
      "source": [
        "df"
      ],
      "execution_count": 52,
      "outputs": [
        {
          "output_type": "execute_result",
          "data": {
            "text/html": [
              "<div>\n",
              "<style scoped>\n",
              "    .dataframe tbody tr th:only-of-type {\n",
              "        vertical-align: middle;\n",
              "    }\n",
              "\n",
              "    .dataframe tbody tr th {\n",
              "        vertical-align: top;\n",
              "    }\n",
              "\n",
              "    .dataframe thead th {\n",
              "        text-align: right;\n",
              "    }\n",
              "</style>\n",
              "<table border=\"1\" class=\"dataframe\">\n",
              "  <thead>\n",
              "    <tr style=\"text-align: right;\">\n",
              "      <th></th>\n",
              "      <th>A</th>\n",
              "      <th>B</th>\n",
              "      <th>C</th>\n",
              "      <th>D</th>\n",
              "      <th>F</th>\n",
              "    </tr>\n",
              "  </thead>\n",
              "  <tbody>\n",
              "    <tr>\n",
              "      <th>2021-05-07</th>\n",
              "      <td>-1.380078</td>\n",
              "      <td>-1.387744</td>\n",
              "      <td>0.017087</td>\n",
              "      <td>0.243960</td>\n",
              "      <td>NaN</td>\n",
              "    </tr>\n",
              "    <tr>\n",
              "      <th>2021-05-08</th>\n",
              "      <td>-1.677953</td>\n",
              "      <td>-1.115377</td>\n",
              "      <td>0.497799</td>\n",
              "      <td>2.265493</td>\n",
              "      <td>NaN</td>\n",
              "    </tr>\n",
              "    <tr>\n",
              "      <th>2021-05-09</th>\n",
              "      <td>0.342399</td>\n",
              "      <td>2.569590</td>\n",
              "      <td>0.574165</td>\n",
              "      <td>0.350223</td>\n",
              "      <td>NaN</td>\n",
              "    </tr>\n",
              "    <tr>\n",
              "      <th>2021-05-10</th>\n",
              "      <td>-0.583187</td>\n",
              "      <td>0.162252</td>\n",
              "      <td>-0.241163</td>\n",
              "      <td>-1.238576</td>\n",
              "      <td>NaN</td>\n",
              "    </tr>\n",
              "    <tr>\n",
              "      <th>2021-05-11</th>\n",
              "      <td>-1.200548</td>\n",
              "      <td>0.100165</td>\n",
              "      <td>-0.136948</td>\n",
              "      <td>0.898597</td>\n",
              "      <td>NaN</td>\n",
              "    </tr>\n",
              "    <tr>\n",
              "      <th>2021-05-12</th>\n",
              "      <td>-0.729848</td>\n",
              "      <td>-0.172444</td>\n",
              "      <td>-0.314325</td>\n",
              "      <td>1.790685</td>\n",
              "      <td>NaN</td>\n",
              "    </tr>\n",
              "  </tbody>\n",
              "</table>\n",
              "</div>"
            ],
            "text/plain": [
              "                   A         B         C         D   F\n",
              "2021-05-07 -1.380078 -1.387744  0.017087  0.243960 NaN\n",
              "2021-05-08 -1.677953 -1.115377  0.497799  2.265493 NaN\n",
              "2021-05-09  0.342399  2.569590  0.574165  0.350223 NaN\n",
              "2021-05-10 -0.583187  0.162252 -0.241163 -1.238576 NaN\n",
              "2021-05-11 -1.200548  0.100165 -0.136948  0.898597 NaN\n",
              "2021-05-12 -0.729848 -0.172444 -0.314325  1.790685 NaN"
            ]
          },
          "metadata": {
            "tags": []
          },
          "execution_count": 52
        }
      ]
    },
    {
      "cell_type": "code",
      "metadata": {
        "colab": {
          "base_uri": "https://localhost:8080/"
        },
        "id": "2yC5qR3Mp6UE",
        "outputId": "213dd447-63f5-4bbe-af76-c93b2c16de9f"
      },
      "source": [
        "lambda df : df.max() - df.min()"
      ],
      "execution_count": 53,
      "outputs": [
        {
          "output_type": "execute_result",
          "data": {
            "text/plain": [
              "<function __main__.<lambda>>"
            ]
          },
          "metadata": {
            "tags": []
          },
          "execution_count": 53
        }
      ]
    },
    {
      "cell_type": "code",
      "metadata": {
        "colab": {
          "base_uri": "https://localhost:8080/"
        },
        "id": "0Nkm3JJCqXiF",
        "outputId": "cec55ef6-e4a0-48e4-afb2-eada86e58f4e"
      },
      "source": [
        "print(df)"
      ],
      "execution_count": 54,
      "outputs": [
        {
          "output_type": "stream",
          "text": [
            "                   A         B         C         D   F\n",
            "2021-05-07 -1.380078 -1.387744  0.017087  0.243960 NaN\n",
            "2021-05-08 -1.677953 -1.115377  0.497799  2.265493 NaN\n",
            "2021-05-09  0.342399  2.569590  0.574165  0.350223 NaN\n",
            "2021-05-10 -0.583187  0.162252 -0.241163 -1.238576 NaN\n",
            "2021-05-11 -1.200548  0.100165 -0.136948  0.898597 NaN\n",
            "2021-05-12 -0.729848 -0.172444 -0.314325  1.790685 NaN\n"
          ],
          "name": "stdout"
        }
      ]
    },
    {
      "cell_type": "code",
      "metadata": {
        "colab": {
          "base_uri": "https://localhost:8080/"
        },
        "id": "Ulf0WPKBqZQl",
        "outputId": "aa3c33c0-a64e-4ade-c1f3-fc1ee993afec"
      },
      "source": [
        "df.apply(lambda x: x.max() - x.min())"
      ],
      "execution_count": 59,
      "outputs": [
        {
          "output_type": "execute_result",
          "data": {
            "text/plain": [
              "A    2.020353\n",
              "B    3.957334\n",
              "C    0.888490\n",
              "D    3.504069\n",
              "F         NaN\n",
              "dtype: float64"
            ]
          },
          "metadata": {
            "tags": []
          },
          "execution_count": 59
        }
      ]
    },
    {
      "cell_type": "code",
      "metadata": {
        "colab": {
          "base_uri": "https://localhost:8080/"
        },
        "id": "UzlnvRnwtY06",
        "outputId": "b43875eb-05e1-4e48-9f04-9eff0b0641f4"
      },
      "source": [
        "df.A.max(), df.A.min()"
      ],
      "execution_count": 60,
      "outputs": [
        {
          "output_type": "execute_result",
          "data": {
            "text/plain": [
              "(0.34239924352117285, -1.6779534383897177)"
            ]
          },
          "metadata": {
            "tags": []
          },
          "execution_count": 60
        }
      ]
    },
    {
      "cell_type": "code",
      "metadata": {
        "colab": {
          "base_uri": "https://localhost:8080/",
          "height": 233
        },
        "id": "vzw-WOAntaw0",
        "outputId": "33880bd1-c86d-4acd-8910-371df5acb68c"
      },
      "source": [
        "df"
      ],
      "execution_count": 61,
      "outputs": [
        {
          "output_type": "execute_result",
          "data": {
            "text/html": [
              "<div>\n",
              "<style scoped>\n",
              "    .dataframe tbody tr th:only-of-type {\n",
              "        vertical-align: middle;\n",
              "    }\n",
              "\n",
              "    .dataframe tbody tr th {\n",
              "        vertical-align: top;\n",
              "    }\n",
              "\n",
              "    .dataframe thead th {\n",
              "        text-align: right;\n",
              "    }\n",
              "</style>\n",
              "<table border=\"1\" class=\"dataframe\">\n",
              "  <thead>\n",
              "    <tr style=\"text-align: right;\">\n",
              "      <th></th>\n",
              "      <th>A</th>\n",
              "      <th>B</th>\n",
              "      <th>C</th>\n",
              "      <th>D</th>\n",
              "      <th>F</th>\n",
              "    </tr>\n",
              "  </thead>\n",
              "  <tbody>\n",
              "    <tr>\n",
              "      <th>2021-05-07</th>\n",
              "      <td>-1.380078</td>\n",
              "      <td>-1.387744</td>\n",
              "      <td>0.017087</td>\n",
              "      <td>0.243960</td>\n",
              "      <td>NaN</td>\n",
              "    </tr>\n",
              "    <tr>\n",
              "      <th>2021-05-08</th>\n",
              "      <td>-1.677953</td>\n",
              "      <td>-1.115377</td>\n",
              "      <td>0.497799</td>\n",
              "      <td>2.265493</td>\n",
              "      <td>NaN</td>\n",
              "    </tr>\n",
              "    <tr>\n",
              "      <th>2021-05-09</th>\n",
              "      <td>0.342399</td>\n",
              "      <td>2.569590</td>\n",
              "      <td>0.574165</td>\n",
              "      <td>0.350223</td>\n",
              "      <td>NaN</td>\n",
              "    </tr>\n",
              "    <tr>\n",
              "      <th>2021-05-10</th>\n",
              "      <td>-0.583187</td>\n",
              "      <td>0.162252</td>\n",
              "      <td>-0.241163</td>\n",
              "      <td>-1.238576</td>\n",
              "      <td>NaN</td>\n",
              "    </tr>\n",
              "    <tr>\n",
              "      <th>2021-05-11</th>\n",
              "      <td>-1.200548</td>\n",
              "      <td>0.100165</td>\n",
              "      <td>-0.136948</td>\n",
              "      <td>0.898597</td>\n",
              "      <td>NaN</td>\n",
              "    </tr>\n",
              "    <tr>\n",
              "      <th>2021-05-12</th>\n",
              "      <td>-0.729848</td>\n",
              "      <td>-0.172444</td>\n",
              "      <td>-0.314325</td>\n",
              "      <td>1.790685</td>\n",
              "      <td>NaN</td>\n",
              "    </tr>\n",
              "  </tbody>\n",
              "</table>\n",
              "</div>"
            ],
            "text/plain": [
              "                   A         B         C         D   F\n",
              "2021-05-07 -1.380078 -1.387744  0.017087  0.243960 NaN\n",
              "2021-05-08 -1.677953 -1.115377  0.497799  2.265493 NaN\n",
              "2021-05-09  0.342399  2.569590  0.574165  0.350223 NaN\n",
              "2021-05-10 -0.583187  0.162252 -0.241163 -1.238576 NaN\n",
              "2021-05-11 -1.200548  0.100165 -0.136948  0.898597 NaN\n",
              "2021-05-12 -0.729848 -0.172444 -0.314325  1.790685 NaN"
            ]
          },
          "metadata": {
            "tags": []
          },
          "execution_count": 61
        }
      ]
    },
    {
      "cell_type": "code",
      "metadata": {
        "colab": {
          "base_uri": "https://localhost:8080/"
        },
        "id": "ho58q4UZuJM0",
        "outputId": "0b639425-59ca-4ad6-9346-5713b0ddb8af"
      },
      "source": [
        "s = pd.Series(np.random.randint(1, 7, size = 6000))\n",
        "s.value_counts()"
      ],
      "execution_count": 68,
      "outputs": [
        {
          "output_type": "execute_result",
          "data": {
            "text/plain": [
              "4    1046\n",
              "1    1041\n",
              "5    1003\n",
              "2     990\n",
              "6     969\n",
              "3     951\n",
              "dtype: int64"
            ]
          },
          "metadata": {
            "tags": []
          },
          "execution_count": 68
        }
      ]
    },
    {
      "cell_type": "code",
      "metadata": {
        "id": "7H-FD5xLuNSE"
      },
      "source": [
        "df = pd.DataFrame(np.random.randn(10, 4))"
      ],
      "execution_count": 69,
      "outputs": []
    },
    {
      "cell_type": "code",
      "metadata": {
        "colab": {
          "base_uri": "https://localhost:8080/",
          "height": 355
        },
        "id": "-3fFHKCIvu-d",
        "outputId": "776f8b17-1059-463e-e351-1c5c78d6adc0"
      },
      "source": [
        "df"
      ],
      "execution_count": 71,
      "outputs": [
        {
          "output_type": "execute_result",
          "data": {
            "text/html": [
              "<div>\n",
              "<style scoped>\n",
              "    .dataframe tbody tr th:only-of-type {\n",
              "        vertical-align: middle;\n",
              "    }\n",
              "\n",
              "    .dataframe tbody tr th {\n",
              "        vertical-align: top;\n",
              "    }\n",
              "\n",
              "    .dataframe thead th {\n",
              "        text-align: right;\n",
              "    }\n",
              "</style>\n",
              "<table border=\"1\" class=\"dataframe\">\n",
              "  <thead>\n",
              "    <tr style=\"text-align: right;\">\n",
              "      <th></th>\n",
              "      <th>0</th>\n",
              "      <th>1</th>\n",
              "      <th>2</th>\n",
              "      <th>3</th>\n",
              "    </tr>\n",
              "  </thead>\n",
              "  <tbody>\n",
              "    <tr>\n",
              "      <th>0</th>\n",
              "      <td>0.287731</td>\n",
              "      <td>-2.176377</td>\n",
              "      <td>1.894494</td>\n",
              "      <td>-1.078490</td>\n",
              "    </tr>\n",
              "    <tr>\n",
              "      <th>1</th>\n",
              "      <td>0.508631</td>\n",
              "      <td>1.247063</td>\n",
              "      <td>-0.086131</td>\n",
              "      <td>-0.832398</td>\n",
              "    </tr>\n",
              "    <tr>\n",
              "      <th>2</th>\n",
              "      <td>-0.088929</td>\n",
              "      <td>-0.519552</td>\n",
              "      <td>0.848577</td>\n",
              "      <td>-1.445056</td>\n",
              "    </tr>\n",
              "    <tr>\n",
              "      <th>3</th>\n",
              "      <td>-0.156276</td>\n",
              "      <td>-0.809880</td>\n",
              "      <td>0.637898</td>\n",
              "      <td>0.088527</td>\n",
              "    </tr>\n",
              "    <tr>\n",
              "      <th>4</th>\n",
              "      <td>0.298651</td>\n",
              "      <td>-0.331621</td>\n",
              "      <td>-0.089957</td>\n",
              "      <td>-0.153282</td>\n",
              "    </tr>\n",
              "    <tr>\n",
              "      <th>5</th>\n",
              "      <td>0.669977</td>\n",
              "      <td>1.371539</td>\n",
              "      <td>-1.646348</td>\n",
              "      <td>1.281645</td>\n",
              "    </tr>\n",
              "    <tr>\n",
              "      <th>6</th>\n",
              "      <td>-1.504687</td>\n",
              "      <td>0.423892</td>\n",
              "      <td>-0.876855</td>\n",
              "      <td>1.201143</td>\n",
              "    </tr>\n",
              "    <tr>\n",
              "      <th>7</th>\n",
              "      <td>-0.248947</td>\n",
              "      <td>0.496421</td>\n",
              "      <td>-0.815897</td>\n",
              "      <td>0.436926</td>\n",
              "    </tr>\n",
              "    <tr>\n",
              "      <th>8</th>\n",
              "      <td>1.332622</td>\n",
              "      <td>-1.200830</td>\n",
              "      <td>1.150031</td>\n",
              "      <td>1.033326</td>\n",
              "    </tr>\n",
              "    <tr>\n",
              "      <th>9</th>\n",
              "      <td>-1.939894</td>\n",
              "      <td>-0.648896</td>\n",
              "      <td>0.777891</td>\n",
              "      <td>0.814742</td>\n",
              "    </tr>\n",
              "  </tbody>\n",
              "</table>\n",
              "</div>"
            ],
            "text/plain": [
              "          0         1         2         3\n",
              "0  0.287731 -2.176377  1.894494 -1.078490\n",
              "1  0.508631  1.247063 -0.086131 -0.832398\n",
              "2 -0.088929 -0.519552  0.848577 -1.445056\n",
              "3 -0.156276 -0.809880  0.637898  0.088527\n",
              "4  0.298651 -0.331621 -0.089957 -0.153282\n",
              "5  0.669977  1.371539 -1.646348  1.281645\n",
              "6 -1.504687  0.423892 -0.876855  1.201143\n",
              "7 -0.248947  0.496421 -0.815897  0.436926\n",
              "8  1.332622 -1.200830  1.150031  1.033326\n",
              "9 -1.939894 -0.648896  0.777891  0.814742"
            ]
          },
          "metadata": {
            "tags": []
          },
          "execution_count": 71
        }
      ]
    },
    {
      "cell_type": "code",
      "metadata": {
        "colab": {
          "base_uri": "https://localhost:8080/"
        },
        "id": "Tav9eDpNvoPL",
        "outputId": "8ec1b4d8-b876-44ab-dcfd-93b25aff88db"
      },
      "source": [
        "pieces = [ df[:3], df[3:7], df[7:] ]\n",
        "pieces"
      ],
      "execution_count": 76,
      "outputs": [
        {
          "output_type": "execute_result",
          "data": {
            "text/plain": [
              "[          0         1         2         3\n",
              " 0  0.287731 -2.176377  1.894494 -1.078490\n",
              " 1  0.508631  1.247063 -0.086131 -0.832398\n",
              " 2 -0.088929 -0.519552  0.848577 -1.445056,\n",
              "           0         1         2         3\n",
              " 3 -0.156276 -0.809880  0.637898  0.088527\n",
              " 4  0.298651 -0.331621 -0.089957 -0.153282\n",
              " 5  0.669977  1.371539 -1.646348  1.281645\n",
              " 6 -1.504687  0.423892 -0.876855  1.201143,\n",
              "           0         1         2         3\n",
              " 7 -0.248947  0.496421 -0.815897  0.436926\n",
              " 8  1.332622 -1.200830  1.150031  1.033326\n",
              " 9 -1.939894 -0.648896  0.777891  0.814742]"
            ]
          },
          "metadata": {
            "tags": []
          },
          "execution_count": 76
        }
      ]
    },
    {
      "cell_type": "code",
      "metadata": {
        "colab": {
          "base_uri": "https://localhost:8080/",
          "height": 355
        },
        "id": "N2yvDhzOvs0k",
        "outputId": "81b6211c-5b1a-47f7-ddc6-651a10edb7d8"
      },
      "source": [
        "pd.concat(pieces)"
      ],
      "execution_count": 77,
      "outputs": [
        {
          "output_type": "execute_result",
          "data": {
            "text/html": [
              "<div>\n",
              "<style scoped>\n",
              "    .dataframe tbody tr th:only-of-type {\n",
              "        vertical-align: middle;\n",
              "    }\n",
              "\n",
              "    .dataframe tbody tr th {\n",
              "        vertical-align: top;\n",
              "    }\n",
              "\n",
              "    .dataframe thead th {\n",
              "        text-align: right;\n",
              "    }\n",
              "</style>\n",
              "<table border=\"1\" class=\"dataframe\">\n",
              "  <thead>\n",
              "    <tr style=\"text-align: right;\">\n",
              "      <th></th>\n",
              "      <th>0</th>\n",
              "      <th>1</th>\n",
              "      <th>2</th>\n",
              "      <th>3</th>\n",
              "    </tr>\n",
              "  </thead>\n",
              "  <tbody>\n",
              "    <tr>\n",
              "      <th>0</th>\n",
              "      <td>0.287731</td>\n",
              "      <td>-2.176377</td>\n",
              "      <td>1.894494</td>\n",
              "      <td>-1.078490</td>\n",
              "    </tr>\n",
              "    <tr>\n",
              "      <th>1</th>\n",
              "      <td>0.508631</td>\n",
              "      <td>1.247063</td>\n",
              "      <td>-0.086131</td>\n",
              "      <td>-0.832398</td>\n",
              "    </tr>\n",
              "    <tr>\n",
              "      <th>2</th>\n",
              "      <td>-0.088929</td>\n",
              "      <td>-0.519552</td>\n",
              "      <td>0.848577</td>\n",
              "      <td>-1.445056</td>\n",
              "    </tr>\n",
              "    <tr>\n",
              "      <th>3</th>\n",
              "      <td>-0.156276</td>\n",
              "      <td>-0.809880</td>\n",
              "      <td>0.637898</td>\n",
              "      <td>0.088527</td>\n",
              "    </tr>\n",
              "    <tr>\n",
              "      <th>4</th>\n",
              "      <td>0.298651</td>\n",
              "      <td>-0.331621</td>\n",
              "      <td>-0.089957</td>\n",
              "      <td>-0.153282</td>\n",
              "    </tr>\n",
              "    <tr>\n",
              "      <th>5</th>\n",
              "      <td>0.669977</td>\n",
              "      <td>1.371539</td>\n",
              "      <td>-1.646348</td>\n",
              "      <td>1.281645</td>\n",
              "    </tr>\n",
              "    <tr>\n",
              "      <th>6</th>\n",
              "      <td>-1.504687</td>\n",
              "      <td>0.423892</td>\n",
              "      <td>-0.876855</td>\n",
              "      <td>1.201143</td>\n",
              "    </tr>\n",
              "    <tr>\n",
              "      <th>7</th>\n",
              "      <td>-0.248947</td>\n",
              "      <td>0.496421</td>\n",
              "      <td>-0.815897</td>\n",
              "      <td>0.436926</td>\n",
              "    </tr>\n",
              "    <tr>\n",
              "      <th>8</th>\n",
              "      <td>1.332622</td>\n",
              "      <td>-1.200830</td>\n",
              "      <td>1.150031</td>\n",
              "      <td>1.033326</td>\n",
              "    </tr>\n",
              "    <tr>\n",
              "      <th>9</th>\n",
              "      <td>-1.939894</td>\n",
              "      <td>-0.648896</td>\n",
              "      <td>0.777891</td>\n",
              "      <td>0.814742</td>\n",
              "    </tr>\n",
              "  </tbody>\n",
              "</table>\n",
              "</div>"
            ],
            "text/plain": [
              "          0         1         2         3\n",
              "0  0.287731 -2.176377  1.894494 -1.078490\n",
              "1  0.508631  1.247063 -0.086131 -0.832398\n",
              "2 -0.088929 -0.519552  0.848577 -1.445056\n",
              "3 -0.156276 -0.809880  0.637898  0.088527\n",
              "4  0.298651 -0.331621 -0.089957 -0.153282\n",
              "5  0.669977  1.371539 -1.646348  1.281645\n",
              "6 -1.504687  0.423892 -0.876855  1.201143\n",
              "7 -0.248947  0.496421 -0.815897  0.436926\n",
              "8  1.332622 -1.200830  1.150031  1.033326\n",
              "9 -1.939894 -0.648896  0.777891  0.814742"
            ]
          },
          "metadata": {
            "tags": []
          },
          "execution_count": 77
        }
      ]
    },
    {
      "cell_type": "code",
      "metadata": {
        "id": "vAWAwLjfwKR1"
      },
      "source": [
        "left = pd.DataFrame(\n",
        "    {\n",
        "        'a':['foo', 'foo'],\n",
        "        'lval': [1, 2]\n",
        "     }\n",
        ")\n",
        "right = pd.DataFrame({'a':['foo', 'foo'], 'rval': [4, 5]})"
      ],
      "execution_count": 89,
      "outputs": []
    },
    {
      "cell_type": "code",
      "metadata": {
        "colab": {
          "base_uri": "https://localhost:8080/",
          "height": 110
        },
        "id": "6ESa7svZwpsa",
        "outputId": "3f1857ab-d569-4a1b-ed12-f4dd314a17b7"
      },
      "source": [
        "left"
      ],
      "execution_count": 90,
      "outputs": [
        {
          "output_type": "execute_result",
          "data": {
            "text/html": [
              "<div>\n",
              "<style scoped>\n",
              "    .dataframe tbody tr th:only-of-type {\n",
              "        vertical-align: middle;\n",
              "    }\n",
              "\n",
              "    .dataframe tbody tr th {\n",
              "        vertical-align: top;\n",
              "    }\n",
              "\n",
              "    .dataframe thead th {\n",
              "        text-align: right;\n",
              "    }\n",
              "</style>\n",
              "<table border=\"1\" class=\"dataframe\">\n",
              "  <thead>\n",
              "    <tr style=\"text-align: right;\">\n",
              "      <th></th>\n",
              "      <th>a</th>\n",
              "      <th>lval</th>\n",
              "    </tr>\n",
              "  </thead>\n",
              "  <tbody>\n",
              "    <tr>\n",
              "      <th>0</th>\n",
              "      <td>foo</td>\n",
              "      <td>1</td>\n",
              "    </tr>\n",
              "    <tr>\n",
              "      <th>1</th>\n",
              "      <td>foo</td>\n",
              "      <td>2</td>\n",
              "    </tr>\n",
              "  </tbody>\n",
              "</table>\n",
              "</div>"
            ],
            "text/plain": [
              "     a  lval\n",
              "0  foo     1\n",
              "1  foo     2"
            ]
          },
          "metadata": {
            "tags": []
          },
          "execution_count": 90
        }
      ]
    },
    {
      "cell_type": "code",
      "metadata": {
        "colab": {
          "base_uri": "https://localhost:8080/",
          "height": 110
        },
        "id": "YvpzVSOwwqQ0",
        "outputId": "383140ba-a261-4335-a5c3-c34e4a2df468"
      },
      "source": [
        "right"
      ],
      "execution_count": 91,
      "outputs": [
        {
          "output_type": "execute_result",
          "data": {
            "text/html": [
              "<div>\n",
              "<style scoped>\n",
              "    .dataframe tbody tr th:only-of-type {\n",
              "        vertical-align: middle;\n",
              "    }\n",
              "\n",
              "    .dataframe tbody tr th {\n",
              "        vertical-align: top;\n",
              "    }\n",
              "\n",
              "    .dataframe thead th {\n",
              "        text-align: right;\n",
              "    }\n",
              "</style>\n",
              "<table border=\"1\" class=\"dataframe\">\n",
              "  <thead>\n",
              "    <tr style=\"text-align: right;\">\n",
              "      <th></th>\n",
              "      <th>a</th>\n",
              "      <th>rval</th>\n",
              "    </tr>\n",
              "  </thead>\n",
              "  <tbody>\n",
              "    <tr>\n",
              "      <th>0</th>\n",
              "      <td>foo</td>\n",
              "      <td>4</td>\n",
              "    </tr>\n",
              "    <tr>\n",
              "      <th>1</th>\n",
              "      <td>foo</td>\n",
              "      <td>5</td>\n",
              "    </tr>\n",
              "  </tbody>\n",
              "</table>\n",
              "</div>"
            ],
            "text/plain": [
              "     a  rval\n",
              "0  foo     4\n",
              "1  foo     5"
            ]
          },
          "metadata": {
            "tags": []
          },
          "execution_count": 91
        }
      ]
    },
    {
      "cell_type": "code",
      "metadata": {
        "colab": {
          "base_uri": "https://localhost:8080/",
          "height": 171
        },
        "id": "a4FVYW6bwxVE",
        "outputId": "b31552f5-bae7-49ac-9c42-b28dc4ee3bef"
      },
      "source": [
        "pd.merge(left, right, on = 'a')"
      ],
      "execution_count": 92,
      "outputs": [
        {
          "output_type": "execute_result",
          "data": {
            "text/html": [
              "<div>\n",
              "<style scoped>\n",
              "    .dataframe tbody tr th:only-of-type {\n",
              "        vertical-align: middle;\n",
              "    }\n",
              "\n",
              "    .dataframe tbody tr th {\n",
              "        vertical-align: top;\n",
              "    }\n",
              "\n",
              "    .dataframe thead th {\n",
              "        text-align: right;\n",
              "    }\n",
              "</style>\n",
              "<table border=\"1\" class=\"dataframe\">\n",
              "  <thead>\n",
              "    <tr style=\"text-align: right;\">\n",
              "      <th></th>\n",
              "      <th>a</th>\n",
              "      <th>lval</th>\n",
              "      <th>rval</th>\n",
              "    </tr>\n",
              "  </thead>\n",
              "  <tbody>\n",
              "    <tr>\n",
              "      <th>0</th>\n",
              "      <td>foo</td>\n",
              "      <td>1</td>\n",
              "      <td>4</td>\n",
              "    </tr>\n",
              "    <tr>\n",
              "      <th>1</th>\n",
              "      <td>foo</td>\n",
              "      <td>1</td>\n",
              "      <td>5</td>\n",
              "    </tr>\n",
              "    <tr>\n",
              "      <th>2</th>\n",
              "      <td>foo</td>\n",
              "      <td>2</td>\n",
              "      <td>4</td>\n",
              "    </tr>\n",
              "    <tr>\n",
              "      <th>3</th>\n",
              "      <td>foo</td>\n",
              "      <td>2</td>\n",
              "      <td>5</td>\n",
              "    </tr>\n",
              "  </tbody>\n",
              "</table>\n",
              "</div>"
            ],
            "text/plain": [
              "     a  lval  rval\n",
              "0  foo     1     4\n",
              "1  foo     1     5\n",
              "2  foo     2     4\n",
              "3  foo     2     5"
            ]
          },
          "metadata": {
            "tags": []
          },
          "execution_count": 92
        }
      ]
    },
    {
      "cell_type": "code",
      "metadata": {
        "id": "f-XaebedxApV"
      },
      "source": [
        "df = pd.DataFrame(\n",
        "    {\n",
        "        'A' : ['foo', 'bar', 'foo', 'bar', 'foo', 'bar', 'foo', 'bar'],\n",
        "        'B' : ['one', 'one', 'two', 'three', 'two', 'two', 'one', 'three'],\n",
        "        'C' : np.random.randn(8),\n",
        "        'D' : np.random.randn(8)\n",
        "    }\n",
        ")"
      ],
      "execution_count": 93,
      "outputs": []
    },
    {
      "cell_type": "code",
      "metadata": {
        "colab": {
          "base_uri": "https://localhost:8080/",
          "height": 294
        },
        "id": "pqofeYKUy341",
        "outputId": "4a575823-3db2-47ff-a776-2970eb60c17b"
      },
      "source": [
        "df"
      ],
      "execution_count": 94,
      "outputs": [
        {
          "output_type": "execute_result",
          "data": {
            "text/html": [
              "<div>\n",
              "<style scoped>\n",
              "    .dataframe tbody tr th:only-of-type {\n",
              "        vertical-align: middle;\n",
              "    }\n",
              "\n",
              "    .dataframe tbody tr th {\n",
              "        vertical-align: top;\n",
              "    }\n",
              "\n",
              "    .dataframe thead th {\n",
              "        text-align: right;\n",
              "    }\n",
              "</style>\n",
              "<table border=\"1\" class=\"dataframe\">\n",
              "  <thead>\n",
              "    <tr style=\"text-align: right;\">\n",
              "      <th></th>\n",
              "      <th>A</th>\n",
              "      <th>B</th>\n",
              "      <th>C</th>\n",
              "      <th>D</th>\n",
              "    </tr>\n",
              "  </thead>\n",
              "  <tbody>\n",
              "    <tr>\n",
              "      <th>0</th>\n",
              "      <td>foo</td>\n",
              "      <td>one</td>\n",
              "      <td>0.916270</td>\n",
              "      <td>-1.649492</td>\n",
              "    </tr>\n",
              "    <tr>\n",
              "      <th>1</th>\n",
              "      <td>bar</td>\n",
              "      <td>one</td>\n",
              "      <td>0.119248</td>\n",
              "      <td>-0.156231</td>\n",
              "    </tr>\n",
              "    <tr>\n",
              "      <th>2</th>\n",
              "      <td>foo</td>\n",
              "      <td>two</td>\n",
              "      <td>-1.402275</td>\n",
              "      <td>0.007685</td>\n",
              "    </tr>\n",
              "    <tr>\n",
              "      <th>3</th>\n",
              "      <td>bar</td>\n",
              "      <td>three</td>\n",
              "      <td>-0.530516</td>\n",
              "      <td>0.522401</td>\n",
              "    </tr>\n",
              "    <tr>\n",
              "      <th>4</th>\n",
              "      <td>foo</td>\n",
              "      <td>two</td>\n",
              "      <td>0.706309</td>\n",
              "      <td>0.288253</td>\n",
              "    </tr>\n",
              "    <tr>\n",
              "      <th>5</th>\n",
              "      <td>bar</td>\n",
              "      <td>two</td>\n",
              "      <td>0.913522</td>\n",
              "      <td>-0.466663</td>\n",
              "    </tr>\n",
              "    <tr>\n",
              "      <th>6</th>\n",
              "      <td>foo</td>\n",
              "      <td>one</td>\n",
              "      <td>0.754901</td>\n",
              "      <td>1.766256</td>\n",
              "    </tr>\n",
              "    <tr>\n",
              "      <th>7</th>\n",
              "      <td>bar</td>\n",
              "      <td>three</td>\n",
              "      <td>0.644909</td>\n",
              "      <td>-1.389378</td>\n",
              "    </tr>\n",
              "  </tbody>\n",
              "</table>\n",
              "</div>"
            ],
            "text/plain": [
              "     A      B         C         D\n",
              "0  foo    one  0.916270 -1.649492\n",
              "1  bar    one  0.119248 -0.156231\n",
              "2  foo    two -1.402275  0.007685\n",
              "3  bar  three -0.530516  0.522401\n",
              "4  foo    two  0.706309  0.288253\n",
              "5  bar    two  0.913522 -0.466663\n",
              "6  foo    one  0.754901  1.766256\n",
              "7  bar  three  0.644909 -1.389378"
            ]
          },
          "metadata": {
            "tags": []
          },
          "execution_count": 94
        }
      ]
    },
    {
      "cell_type": "code",
      "metadata": {
        "colab": {
          "base_uri": "https://localhost:8080/",
          "height": 171
        },
        "id": "J-8G3WyAy4SU",
        "outputId": "5ba92157-9eaf-4a52-fe11-f19927de6432"
      },
      "source": [
        "a = df.groupby('B').sum()\n",
        "a"
      ],
      "execution_count": 102,
      "outputs": [
        {
          "output_type": "execute_result",
          "data": {
            "text/html": [
              "<div>\n",
              "<style scoped>\n",
              "    .dataframe tbody tr th:only-of-type {\n",
              "        vertical-align: middle;\n",
              "    }\n",
              "\n",
              "    .dataframe tbody tr th {\n",
              "        vertical-align: top;\n",
              "    }\n",
              "\n",
              "    .dataframe thead th {\n",
              "        text-align: right;\n",
              "    }\n",
              "</style>\n",
              "<table border=\"1\" class=\"dataframe\">\n",
              "  <thead>\n",
              "    <tr style=\"text-align: right;\">\n",
              "      <th></th>\n",
              "      <th>C</th>\n",
              "      <th>D</th>\n",
              "    </tr>\n",
              "    <tr>\n",
              "      <th>B</th>\n",
              "      <th></th>\n",
              "      <th></th>\n",
              "    </tr>\n",
              "  </thead>\n",
              "  <tbody>\n",
              "    <tr>\n",
              "      <th>one</th>\n",
              "      <td>1.790418</td>\n",
              "      <td>-0.039468</td>\n",
              "    </tr>\n",
              "    <tr>\n",
              "      <th>three</th>\n",
              "      <td>0.114393</td>\n",
              "      <td>-0.866978</td>\n",
              "    </tr>\n",
              "    <tr>\n",
              "      <th>two</th>\n",
              "      <td>0.217556</td>\n",
              "      <td>-0.170724</td>\n",
              "    </tr>\n",
              "  </tbody>\n",
              "</table>\n",
              "</div>"
            ],
            "text/plain": [
              "              C         D\n",
              "B                        \n",
              "one    1.790418 -0.039468\n",
              "three  0.114393 -0.866978\n",
              "two    0.217556 -0.170724"
            ]
          },
          "metadata": {
            "tags": []
          },
          "execution_count": 102
        }
      ]
    },
    {
      "cell_type": "code",
      "metadata": {
        "colab": {
          "base_uri": "https://localhost:8080/",
          "height": 141
        },
        "id": "qzbHlYWrz8aJ",
        "outputId": "9929b2d1-4c94-491e-dbd9-452b5537ea76"
      },
      "source": [
        "a = df.groupby('A').sum()\n",
        "a"
      ],
      "execution_count": 106,
      "outputs": [
        {
          "output_type": "execute_result",
          "data": {
            "text/html": [
              "<div>\n",
              "<style scoped>\n",
              "    .dataframe tbody tr th:only-of-type {\n",
              "        vertical-align: middle;\n",
              "    }\n",
              "\n",
              "    .dataframe tbody tr th {\n",
              "        vertical-align: top;\n",
              "    }\n",
              "\n",
              "    .dataframe thead th {\n",
              "        text-align: right;\n",
              "    }\n",
              "</style>\n",
              "<table border=\"1\" class=\"dataframe\">\n",
              "  <thead>\n",
              "    <tr style=\"text-align: right;\">\n",
              "      <th></th>\n",
              "      <th>C</th>\n",
              "      <th>D</th>\n",
              "    </tr>\n",
              "    <tr>\n",
              "      <th>A</th>\n",
              "      <th></th>\n",
              "      <th></th>\n",
              "    </tr>\n",
              "  </thead>\n",
              "  <tbody>\n",
              "    <tr>\n",
              "      <th>bar</th>\n",
              "      <td>1.147162</td>\n",
              "      <td>-1.489872</td>\n",
              "    </tr>\n",
              "    <tr>\n",
              "      <th>foo</th>\n",
              "      <td>0.975205</td>\n",
              "      <td>0.412702</td>\n",
              "    </tr>\n",
              "  </tbody>\n",
              "</table>\n",
              "</div>"
            ],
            "text/plain": [
              "            C         D\n",
              "A                      \n",
              "bar  1.147162 -1.489872\n",
              "foo  0.975205  0.412702"
            ]
          },
          "metadata": {
            "tags": []
          },
          "execution_count": 106
        }
      ]
    },
    {
      "cell_type": "code",
      "metadata": {
        "colab": {
          "base_uri": "https://localhost:8080/",
          "height": 233
        },
        "id": "qeDGd1iyzKba",
        "outputId": "cac8d485-c65a-4a01-c551-05248c13564f"
      },
      "source": [
        "a = df.groupby(['A', 'B']).sum()\n",
        "a"
      ],
      "execution_count": 108,
      "outputs": [
        {
          "output_type": "execute_result",
          "data": {
            "text/html": [
              "<div>\n",
              "<style scoped>\n",
              "    .dataframe tbody tr th:only-of-type {\n",
              "        vertical-align: middle;\n",
              "    }\n",
              "\n",
              "    .dataframe tbody tr th {\n",
              "        vertical-align: top;\n",
              "    }\n",
              "\n",
              "    .dataframe thead th {\n",
              "        text-align: right;\n",
              "    }\n",
              "</style>\n",
              "<table border=\"1\" class=\"dataframe\">\n",
              "  <thead>\n",
              "    <tr style=\"text-align: right;\">\n",
              "      <th></th>\n",
              "      <th></th>\n",
              "      <th>C</th>\n",
              "      <th>D</th>\n",
              "    </tr>\n",
              "    <tr>\n",
              "      <th>A</th>\n",
              "      <th>B</th>\n",
              "      <th></th>\n",
              "      <th></th>\n",
              "    </tr>\n",
              "  </thead>\n",
              "  <tbody>\n",
              "    <tr>\n",
              "      <th rowspan=\"3\" valign=\"top\">bar</th>\n",
              "      <th>one</th>\n",
              "      <td>0.119248</td>\n",
              "      <td>-0.156231</td>\n",
              "    </tr>\n",
              "    <tr>\n",
              "      <th>three</th>\n",
              "      <td>0.114393</td>\n",
              "      <td>-0.866978</td>\n",
              "    </tr>\n",
              "    <tr>\n",
              "      <th>two</th>\n",
              "      <td>0.913522</td>\n",
              "      <td>-0.466663</td>\n",
              "    </tr>\n",
              "    <tr>\n",
              "      <th rowspan=\"2\" valign=\"top\">foo</th>\n",
              "      <th>one</th>\n",
              "      <td>1.671171</td>\n",
              "      <td>0.116764</td>\n",
              "    </tr>\n",
              "    <tr>\n",
              "      <th>two</th>\n",
              "      <td>-0.695966</td>\n",
              "      <td>0.295939</td>\n",
              "    </tr>\n",
              "  </tbody>\n",
              "</table>\n",
              "</div>"
            ],
            "text/plain": [
              "                  C         D\n",
              "A   B                        \n",
              "bar one    0.119248 -0.156231\n",
              "    three  0.114393 -0.866978\n",
              "    two    0.913522 -0.466663\n",
              "foo one    1.671171  0.116764\n",
              "    two   -0.695966  0.295939"
            ]
          },
          "metadata": {
            "tags": []
          },
          "execution_count": 108
        }
      ]
    },
    {
      "cell_type": "code",
      "metadata": {
        "colab": {
          "base_uri": "https://localhost:8080/"
        },
        "id": "lXetdwpCz9WF",
        "outputId": "68760114-7ced-453c-ca7a-d23e296c757e"
      },
      "source": [
        "x = [1, 2, 3]\n",
        "y = [4, 5, 6]\n",
        "zipped = zip(x,y)\n",
        "list(zipped)"
      ],
      "execution_count": 98,
      "outputs": [
        {
          "output_type": "execute_result",
          "data": {
            "text/plain": [
              "[(1, 4), (2, 5), (3, 6)]"
            ]
          },
          "metadata": {
            "tags": []
          },
          "execution_count": 98
        }
      ]
    },
    {
      "cell_type": "code",
      "metadata": {
        "id": "kv0CmtwM0RdV"
      },
      "source": [
        "x2, y2 = zip(*zip(x,y))"
      ],
      "execution_count": 99,
      "outputs": []
    },
    {
      "cell_type": "code",
      "metadata": {
        "colab": {
          "base_uri": "https://localhost:8080/"
        },
        "id": "ZrV-KeQQ0hqF",
        "outputId": "67af16b9-e56c-46b9-8503-f2d0ac785db2"
      },
      "source": [
        "x2"
      ],
      "execution_count": 100,
      "outputs": [
        {
          "output_type": "execute_result",
          "data": {
            "text/plain": [
              "(1, 2, 3)"
            ]
          },
          "metadata": {
            "tags": []
          },
          "execution_count": 100
        }
      ]
    },
    {
      "cell_type": "code",
      "metadata": {
        "colab": {
          "base_uri": "https://localhost:8080/"
        },
        "id": "O0ZmCCfM0kF1",
        "outputId": "da9a9216-2338-457b-aba4-f552a72bb3cd"
      },
      "source": [
        "y2"
      ],
      "execution_count": 101,
      "outputs": [
        {
          "output_type": "execute_result",
          "data": {
            "text/plain": [
              "(4, 5, 6)"
            ]
          },
          "metadata": {
            "tags": []
          },
          "execution_count": 101
        }
      ]
    },
    {
      "cell_type": "code",
      "metadata": {
        "id": "7R0JLduW0kuV"
      },
      "source": [
        "df = pd.DataFrame(\n",
        "    {\n",
        "        'A' : ['one', 'one', 'two', 'three'] * 3,\n",
        "        'B' : ['A', 'B', 'C'] * 4,\n",
        "        'C' : ['foo', 'foo', 'foo', 'bar', 'bar', 'bar' ] * 2,\n",
        "        'D' : np.random.randn(12),\n",
        "        'E' : np.random.randn(12)\n",
        "    }\n",
        ")"
      ],
      "execution_count": 109,
      "outputs": []
    },
    {
      "cell_type": "code",
      "metadata": {
        "colab": {
          "base_uri": "https://localhost:8080/",
          "height": 417
        },
        "id": "SeVoZz6h1l32",
        "outputId": "415a068b-b081-4b96-e4df-e2b998284e68"
      },
      "source": [
        "df"
      ],
      "execution_count": 110,
      "outputs": [
        {
          "output_type": "execute_result",
          "data": {
            "text/html": [
              "<div>\n",
              "<style scoped>\n",
              "    .dataframe tbody tr th:only-of-type {\n",
              "        vertical-align: middle;\n",
              "    }\n",
              "\n",
              "    .dataframe tbody tr th {\n",
              "        vertical-align: top;\n",
              "    }\n",
              "\n",
              "    .dataframe thead th {\n",
              "        text-align: right;\n",
              "    }\n",
              "</style>\n",
              "<table border=\"1\" class=\"dataframe\">\n",
              "  <thead>\n",
              "    <tr style=\"text-align: right;\">\n",
              "      <th></th>\n",
              "      <th>A</th>\n",
              "      <th>B</th>\n",
              "      <th>C</th>\n",
              "      <th>D</th>\n",
              "      <th>E</th>\n",
              "    </tr>\n",
              "  </thead>\n",
              "  <tbody>\n",
              "    <tr>\n",
              "      <th>0</th>\n",
              "      <td>one</td>\n",
              "      <td>A</td>\n",
              "      <td>foo</td>\n",
              "      <td>-0.282389</td>\n",
              "      <td>-1.605483</td>\n",
              "    </tr>\n",
              "    <tr>\n",
              "      <th>1</th>\n",
              "      <td>one</td>\n",
              "      <td>B</td>\n",
              "      <td>foo</td>\n",
              "      <td>1.281657</td>\n",
              "      <td>0.970391</td>\n",
              "    </tr>\n",
              "    <tr>\n",
              "      <th>2</th>\n",
              "      <td>two</td>\n",
              "      <td>C</td>\n",
              "      <td>foo</td>\n",
              "      <td>0.038381</td>\n",
              "      <td>0.679042</td>\n",
              "    </tr>\n",
              "    <tr>\n",
              "      <th>3</th>\n",
              "      <td>three</td>\n",
              "      <td>A</td>\n",
              "      <td>bar</td>\n",
              "      <td>1.047916</td>\n",
              "      <td>-1.736862</td>\n",
              "    </tr>\n",
              "    <tr>\n",
              "      <th>4</th>\n",
              "      <td>one</td>\n",
              "      <td>B</td>\n",
              "      <td>bar</td>\n",
              "      <td>-0.823207</td>\n",
              "      <td>0.343642</td>\n",
              "    </tr>\n",
              "    <tr>\n",
              "      <th>5</th>\n",
              "      <td>one</td>\n",
              "      <td>C</td>\n",
              "      <td>bar</td>\n",
              "      <td>-0.644853</td>\n",
              "      <td>-0.389497</td>\n",
              "    </tr>\n",
              "    <tr>\n",
              "      <th>6</th>\n",
              "      <td>two</td>\n",
              "      <td>A</td>\n",
              "      <td>foo</td>\n",
              "      <td>-0.000312</td>\n",
              "      <td>-0.018381</td>\n",
              "    </tr>\n",
              "    <tr>\n",
              "      <th>7</th>\n",
              "      <td>three</td>\n",
              "      <td>B</td>\n",
              "      <td>foo</td>\n",
              "      <td>-1.510826</td>\n",
              "      <td>-0.450447</td>\n",
              "    </tr>\n",
              "    <tr>\n",
              "      <th>8</th>\n",
              "      <td>one</td>\n",
              "      <td>C</td>\n",
              "      <td>foo</td>\n",
              "      <td>-0.889919</td>\n",
              "      <td>-0.480481</td>\n",
              "    </tr>\n",
              "    <tr>\n",
              "      <th>9</th>\n",
              "      <td>one</td>\n",
              "      <td>A</td>\n",
              "      <td>bar</td>\n",
              "      <td>1.060311</td>\n",
              "      <td>-0.702409</td>\n",
              "    </tr>\n",
              "    <tr>\n",
              "      <th>10</th>\n",
              "      <td>two</td>\n",
              "      <td>B</td>\n",
              "      <td>bar</td>\n",
              "      <td>2.019486</td>\n",
              "      <td>-0.367910</td>\n",
              "    </tr>\n",
              "    <tr>\n",
              "      <th>11</th>\n",
              "      <td>three</td>\n",
              "      <td>C</td>\n",
              "      <td>bar</td>\n",
              "      <td>-0.951634</td>\n",
              "      <td>0.612749</td>\n",
              "    </tr>\n",
              "  </tbody>\n",
              "</table>\n",
              "</div>"
            ],
            "text/plain": [
              "        A  B    C         D         E\n",
              "0     one  A  foo -0.282389 -1.605483\n",
              "1     one  B  foo  1.281657  0.970391\n",
              "2     two  C  foo  0.038381  0.679042\n",
              "3   three  A  bar  1.047916 -1.736862\n",
              "4     one  B  bar -0.823207  0.343642\n",
              "5     one  C  bar -0.644853 -0.389497\n",
              "6     two  A  foo -0.000312 -0.018381\n",
              "7   three  B  foo -1.510826 -0.450447\n",
              "8     one  C  foo -0.889919 -0.480481\n",
              "9     one  A  bar  1.060311 -0.702409\n",
              "10    two  B  bar  2.019486 -0.367910\n",
              "11  three  C  bar -0.951634  0.612749"
            ]
          },
          "metadata": {
            "tags": []
          },
          "execution_count": 110
        }
      ]
    },
    {
      "cell_type": "code",
      "metadata": {
        "colab": {
          "base_uri": "https://localhost:8080/",
          "height": 355
        },
        "id": "XT_mXMZE1mym",
        "outputId": "1b599580-0fe5-4d66-c816-5bbfb87ae75f"
      },
      "source": [
        "pd.pivot_table(df, values = 'D', index = ['A', 'B'], columns = ['C'])"
      ],
      "execution_count": 111,
      "outputs": [
        {
          "output_type": "execute_result",
          "data": {
            "text/html": [
              "<div>\n",
              "<style scoped>\n",
              "    .dataframe tbody tr th:only-of-type {\n",
              "        vertical-align: middle;\n",
              "    }\n",
              "\n",
              "    .dataframe tbody tr th {\n",
              "        vertical-align: top;\n",
              "    }\n",
              "\n",
              "    .dataframe thead th {\n",
              "        text-align: right;\n",
              "    }\n",
              "</style>\n",
              "<table border=\"1\" class=\"dataframe\">\n",
              "  <thead>\n",
              "    <tr style=\"text-align: right;\">\n",
              "      <th></th>\n",
              "      <th>C</th>\n",
              "      <th>bar</th>\n",
              "      <th>foo</th>\n",
              "    </tr>\n",
              "    <tr>\n",
              "      <th>A</th>\n",
              "      <th>B</th>\n",
              "      <th></th>\n",
              "      <th></th>\n",
              "    </tr>\n",
              "  </thead>\n",
              "  <tbody>\n",
              "    <tr>\n",
              "      <th rowspan=\"3\" valign=\"top\">one</th>\n",
              "      <th>A</th>\n",
              "      <td>1.060311</td>\n",
              "      <td>-0.282389</td>\n",
              "    </tr>\n",
              "    <tr>\n",
              "      <th>B</th>\n",
              "      <td>-0.823207</td>\n",
              "      <td>1.281657</td>\n",
              "    </tr>\n",
              "    <tr>\n",
              "      <th>C</th>\n",
              "      <td>-0.644853</td>\n",
              "      <td>-0.889919</td>\n",
              "    </tr>\n",
              "    <tr>\n",
              "      <th rowspan=\"3\" valign=\"top\">three</th>\n",
              "      <th>A</th>\n",
              "      <td>1.047916</td>\n",
              "      <td>NaN</td>\n",
              "    </tr>\n",
              "    <tr>\n",
              "      <th>B</th>\n",
              "      <td>NaN</td>\n",
              "      <td>-1.510826</td>\n",
              "    </tr>\n",
              "    <tr>\n",
              "      <th>C</th>\n",
              "      <td>-0.951634</td>\n",
              "      <td>NaN</td>\n",
              "    </tr>\n",
              "    <tr>\n",
              "      <th rowspan=\"3\" valign=\"top\">two</th>\n",
              "      <th>A</th>\n",
              "      <td>NaN</td>\n",
              "      <td>-0.000312</td>\n",
              "    </tr>\n",
              "    <tr>\n",
              "      <th>B</th>\n",
              "      <td>2.019486</td>\n",
              "      <td>NaN</td>\n",
              "    </tr>\n",
              "    <tr>\n",
              "      <th>C</th>\n",
              "      <td>NaN</td>\n",
              "      <td>0.038381</td>\n",
              "    </tr>\n",
              "  </tbody>\n",
              "</table>\n",
              "</div>"
            ],
            "text/plain": [
              "C             bar       foo\n",
              "A     B                    \n",
              "one   A  1.060311 -0.282389\n",
              "      B -0.823207  1.281657\n",
              "      C -0.644853 -0.889919\n",
              "three A  1.047916       NaN\n",
              "      B       NaN -1.510826\n",
              "      C -0.951634       NaN\n",
              "two   A       NaN -0.000312\n",
              "      B  2.019486       NaN\n",
              "      C       NaN  0.038381"
            ]
          },
          "metadata": {
            "tags": []
          },
          "execution_count": 111
        }
      ]
    },
    {
      "cell_type": "code",
      "metadata": {
        "id": "AWEk5I_L1qvm"
      },
      "source": [
        ""
      ],
      "execution_count": null,
      "outputs": []
    }
  ]
}