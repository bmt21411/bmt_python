{
  "nbformat": 4,
  "nbformat_minor": 0,
  "metadata": {
    "colab": {
      "name": "21411이태경_과제제출1.ipynb",
      "provenance": [],
      "authorship_tag": "ABX9TyMNwLvJetZpAUlQIKZAPwAb",
      "include_colab_link": true
    },
    "kernelspec": {
      "name": "python3",
      "display_name": "Python 3"
    }
  },
  "cells": [
    {
      "cell_type": "markdown",
      "metadata": {
        "id": "view-in-github",
        "colab_type": "text"
      },
      "source": [
        "<a href=\"https://colab.research.google.com/github/bmt21411/bmt_python/blob/main/21411%EC%9D%B4%ED%83%9C%EA%B2%BD_%EA%B3%BC%EC%A0%9C%EC%A0%9C%EC%B6%9C1.ipynb\" target=\"_parent\"><img src=\"https://colab.research.google.com/assets/colab-badge.svg\" alt=\"Open In Colab\"/></a>"
      ]
    },
    {
      "cell_type": "code",
      "metadata": {
        "id": "CHRzV7ubUmjr"
      },
      "source": [
        "a = 1"
      ],
      "execution_count": 5,
      "outputs": []
    },
    {
      "cell_type": "code",
      "metadata": {
        "id": "Kvdp-DbiVFxB"
      },
      "source": [
        "b = 3 "
      ],
      "execution_count": 6,
      "outputs": []
    },
    {
      "cell_type": "code",
      "metadata": {
        "id": "808G5W78VJN5",
        "colab": {
          "base_uri": "https://localhost:8080/"
        },
        "outputId": "2344d2d3-2840-4b97-c61b-406e4b1441fb"
      },
      "source": [
        "a+b"
      ],
      "execution_count": 10,
      "outputs": [
        {
          "output_type": "execute_result",
          "data": {
            "text/plain": [
              "4"
            ]
          },
          "metadata": {
            "tags": []
          },
          "execution_count": 10
        }
      ]
    },
    {
      "cell_type": "code",
      "metadata": {
        "colab": {
          "base_uri": "https://localhost:8080/"
        },
        "id": "NmbdS-T0WVi6",
        "outputId": "41cf0f22-6af6-4419-dc8b-b081762432d9"
      },
      "source": [
        "print('프로그래밍 수업이 넘넘 재미나요.')"
      ],
      "execution_count": 11,
      "outputs": [
        {
          "output_type": "stream",
          "text": [
            "프로그래밍 수업이 넘넘 재미나요.\n"
          ],
          "name": "stdout"
        }
      ]
    },
    {
      "cell_type": "code",
      "metadata": {
        "id": "M4Za0-7oZ4MF"
      },
      "source": [
        ""
      ],
      "execution_count": null,
      "outputs": []
    }
  ]
}