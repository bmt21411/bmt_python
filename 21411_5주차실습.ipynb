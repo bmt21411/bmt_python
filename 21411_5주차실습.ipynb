{
  "nbformat": 4,
  "nbformat_minor": 0,
  "metadata": {
    "colab": {
      "name": "21411_5주차실습.ipynb",
      "provenance": [],
      "collapsed_sections": [],
      "authorship_tag": "ABX9TyMQ2Y4YRKKXuSoefVYyQCJj",
      "include_colab_link": true
    },
    "kernelspec": {
      "name": "python3",
      "display_name": "Python 3"
    },
    "language_info": {
      "name": "python"
    }
  },
  "cells": [
    {
      "cell_type": "markdown",
      "metadata": {
        "id": "view-in-github",
        "colab_type": "text"
      },
      "source": [
        "<a href=\"https://colab.research.google.com/github/bmt21411/bmt_python/blob/main/21411_5%EC%A3%BC%EC%B0%A8%EC%8B%A4%EC%8A%B5.ipynb\" target=\"_parent\"><img src=\"https://colab.research.google.com/assets/colab-badge.svg\" alt=\"Open In Colab\"/></a>"
      ]
    },
    {
      "cell_type": "code",
      "metadata": {
        "id": "Xdw73_BrOLd5"
      },
      "source": [
        "tp = (10, 20, 30)"
      ],
      "execution_count": 1,
      "outputs": []
    },
    {
      "cell_type": "code",
      "metadata": {
        "colab": {
          "base_uri": "https://localhost:8080/"
        },
        "id": "9pe-7cupSBQH",
        "outputId": "410cecc2-ed0d-4a96-9e01-4dae5a202772"
      },
      "source": [
        "tp[:2]"
      ],
      "execution_count": 3,
      "outputs": [
        {
          "output_type": "execute_result",
          "data": {
            "text/plain": [
              "(10, 20)"
            ]
          },
          "metadata": {
            "tags": []
          },
          "execution_count": 3
        }
      ]
    },
    {
      "cell_type": "code",
      "metadata": {
        "id": "_foPaVBuSW4f"
      },
      "source": [
        "tp1 = (10, 20)\n",
        "tp2 = (30, 40)"
      ],
      "execution_count": 4,
      "outputs": []
    },
    {
      "cell_type": "code",
      "metadata": {
        "colab": {
          "base_uri": "https://localhost:8080/"
        },
        "id": "GOokB1ehSiX1",
        "outputId": "f7d0268c-8160-4ea6-a3bb-4769683a70dc"
      },
      "source": [
        "tp1"
      ],
      "execution_count": 5,
      "outputs": [
        {
          "output_type": "execute_result",
          "data": {
            "text/plain": [
              "(10, 20)"
            ]
          },
          "metadata": {
            "tags": []
          },
          "execution_count": 5
        }
      ]
    },
    {
      "cell_type": "code",
      "metadata": {
        "colab": {
          "base_uri": "https://localhost:8080/"
        },
        "id": "qlSneWKySxag",
        "outputId": "4fcf1a9c-db4b-4fcb-83b0-607bdbe6c866"
      },
      "source": [
        "tp2"
      ],
      "execution_count": 6,
      "outputs": [
        {
          "output_type": "execute_result",
          "data": {
            "text/plain": [
              "(30, 40)"
            ]
          },
          "metadata": {
            "tags": []
          },
          "execution_count": 6
        }
      ]
    },
    {
      "cell_type": "code",
      "metadata": {
        "id": "rEI-Wdn3S4B0"
      },
      "source": [
        "tp3 = tp1 + tp2"
      ],
      "execution_count": 8,
      "outputs": []
    },
    {
      "cell_type": "code",
      "metadata": {
        "colab": {
          "base_uri": "https://localhost:8080/"
        },
        "id": "U-bOyJzISyIr",
        "outputId": "ad866713-7cf2-46b4-c600-cae723a7c116"
      },
      "source": [
        "tp3"
      ],
      "execution_count": 9,
      "outputs": [
        {
          "output_type": "execute_result",
          "data": {
            "text/plain": [
              "(10, 20, 30, 40)"
            ]
          },
          "metadata": {
            "tags": []
          },
          "execution_count": 9
        }
      ]
    },
    {
      "cell_type": "code",
      "metadata": {
        "id": "MNypJevdSy_7"
      },
      "source": [
        "tp4 = tp3 * 2"
      ],
      "execution_count": 10,
      "outputs": []
    },
    {
      "cell_type": "code",
      "metadata": {
        "colab": {
          "base_uri": "https://localhost:8080/"
        },
        "id": "w1Xv2X6SS62A",
        "outputId": "5cff32cd-8ae4-450a-84b3-dc12292a91fc"
      },
      "source": [
        "tp4"
      ],
      "execution_count": 11,
      "outputs": [
        {
          "output_type": "execute_result",
          "data": {
            "text/plain": [
              "(10, 20, 30, 40, 10, 20, 30, 40)"
            ]
          },
          "metadata": {
            "tags": []
          },
          "execution_count": 11
        }
      ]
    },
    {
      "cell_type": "code",
      "metadata": {
        "id": "Ne_huHcyS7VA"
      },
      "source": [
        "tpx, tpy = (10, 20)"
      ],
      "execution_count": 12,
      "outputs": []
    },
    {
      "cell_type": "code",
      "metadata": {
        "colab": {
          "base_uri": "https://localhost:8080/"
        },
        "id": "YBj_p5GFTCci",
        "outputId": "6bb63cd2-2cf6-420d-e780-ce1e77c690d4"
      },
      "source": [
        "tpx"
      ],
      "execution_count": 13,
      "outputs": [
        {
          "output_type": "execute_result",
          "data": {
            "text/plain": [
              "10"
            ]
          },
          "metadata": {
            "tags": []
          },
          "execution_count": 13
        }
      ]
    },
    {
      "cell_type": "code",
      "metadata": {
        "colab": {
          "base_uri": "https://localhost:8080/"
        },
        "id": "litGpPOfTELx",
        "outputId": "64a71d79-0a76-43ff-a1da-2c06c01efa03"
      },
      "source": [
        "tpy"
      ],
      "execution_count": 14,
      "outputs": [
        {
          "output_type": "execute_result",
          "data": {
            "text/plain": [
              "20"
            ]
          },
          "metadata": {
            "tags": []
          },
          "execution_count": 14
        }
      ]
    },
    {
      "cell_type": "code",
      "metadata": {
        "id": "Dq5WCWXMTEpy"
      },
      "source": [
        "dt = {\n",
        "    'a':200,\n",
        "    'b':150,\n",
        "    'c':100\n",
        "}"
      ],
      "execution_count": 16,
      "outputs": []
    },
    {
      "cell_type": "code",
      "metadata": {
        "colab": {
          "base_uri": "https://localhost:8080/"
        },
        "id": "u4vp_VnkUfnF",
        "outputId": "40d9d8ce-b28b-4121-c092-b160f7ab75f7"
      },
      "source": [
        "dt"
      ],
      "execution_count": 17,
      "outputs": [
        {
          "output_type": "execute_result",
          "data": {
            "text/plain": [
              "{'a': 200, 'b': 150, 'c': 100}"
            ]
          },
          "metadata": {
            "tags": []
          },
          "execution_count": 17
        }
      ]
    },
    {
      "cell_type": "code",
      "metadata": {
        "colab": {
          "base_uri": "https://localhost:8080/"
        },
        "id": "ruOP-gImUiLF",
        "outputId": "a075f617-1c8f-44d1-e5e9-841a4e8bab5f"
      },
      "source": [
        "dt.keys()"
      ],
      "execution_count": 18,
      "outputs": [
        {
          "output_type": "execute_result",
          "data": {
            "text/plain": [
              "dict_keys(['a', 'b', 'c'])"
            ]
          },
          "metadata": {
            "tags": []
          },
          "execution_count": 18
        }
      ]
    },
    {
      "cell_type": "code",
      "metadata": {
        "colab": {
          "base_uri": "https://localhost:8080/"
        },
        "id": "WypBqax4U31V",
        "outputId": "fb89d370-d1f6-43b7-b218-f79a483cf2c0"
      },
      "source": [
        "list(dt.keys())"
      ],
      "execution_count": 19,
      "outputs": [
        {
          "output_type": "execute_result",
          "data": {
            "text/plain": [
              "['a', 'b', 'c']"
            ]
          },
          "metadata": {
            "tags": []
          },
          "execution_count": 19
        }
      ]
    },
    {
      "cell_type": "code",
      "metadata": {
        "colab": {
          "base_uri": "https://localhost:8080/"
        },
        "id": "OGBRt2E3U6Jc",
        "outputId": "88feee9e-022d-4020-cc65-5732b7f9847c"
      },
      "source": [
        "dt.values()"
      ],
      "execution_count": 20,
      "outputs": [
        {
          "output_type": "execute_result",
          "data": {
            "text/plain": [
              "dict_values([200, 150, 100])"
            ]
          },
          "metadata": {
            "tags": []
          },
          "execution_count": 20
        }
      ]
    },
    {
      "cell_type": "code",
      "metadata": {
        "colab": {
          "base_uri": "https://localhost:8080/"
        },
        "id": "AMAYuqm7VVCK",
        "outputId": "6bf5b70d-7bc4-40cb-f652-99a0ed3d482d"
      },
      "source": [
        "dt"
      ],
      "execution_count": 21,
      "outputs": [
        {
          "output_type": "execute_result",
          "data": {
            "text/plain": [
              "{'a': 200, 'b': 150, 'c': 100}"
            ]
          },
          "metadata": {
            "tags": []
          },
          "execution_count": 21
        }
      ]
    },
    {
      "cell_type": "code",
      "metadata": {
        "id": "sT5gY4LtVxx5"
      },
      "source": [
        "dt['d'] = 30"
      ],
      "execution_count": 24,
      "outputs": []
    },
    {
      "cell_type": "code",
      "metadata": {
        "id": "3Xmu0_4SVnHb"
      },
      "source": [
        "del dt['b']"
      ],
      "execution_count": 22,
      "outputs": []
    },
    {
      "cell_type": "code",
      "metadata": {
        "colab": {
          "base_uri": "https://localhost:8080/"
        },
        "id": "vYauP2g_Vu70",
        "outputId": "efbf598a-e503-470c-f756-1037ca5ffa62"
      },
      "source": [
        "dt"
      ],
      "execution_count": 25,
      "outputs": [
        {
          "output_type": "execute_result",
          "data": {
            "text/plain": [
              "{'a': 200, 'c': 100, 'd': 30}"
            ]
          },
          "metadata": {
            "tags": []
          },
          "execution_count": 25
        }
      ]
    },
    {
      "cell_type": "code",
      "metadata": {
        "id": "Mf7BGOaUVvx_"
      },
      "source": [
        "a = (1, 2, 2, 3)\n",
        "b = [10, 20, 30, 30]"
      ],
      "execution_count": 26,
      "outputs": []
    },
    {
      "cell_type": "code",
      "metadata": {
        "colab": {
          "base_uri": "https://localhost:8080/"
        },
        "id": "4AagNjKnWskU",
        "outputId": "69318d83-e548-4699-ecc0-c06a67d35a7f"
      },
      "source": [
        "a"
      ],
      "execution_count": 27,
      "outputs": [
        {
          "output_type": "execute_result",
          "data": {
            "text/plain": [
              "(1, 2, 2, 3)"
            ]
          },
          "metadata": {
            "tags": []
          },
          "execution_count": 27
        }
      ]
    },
    {
      "cell_type": "code",
      "metadata": {
        "colab": {
          "base_uri": "https://localhost:8080/"
        },
        "id": "d0kVfafJXCsY",
        "outputId": "8880e51a-5ff7-4f7b-d196-a36586069a85"
      },
      "source": [
        "b"
      ],
      "execution_count": 28,
      "outputs": [
        {
          "output_type": "execute_result",
          "data": {
            "text/plain": [
              "[10, 20, 30, 30]"
            ]
          },
          "metadata": {
            "tags": []
          },
          "execution_count": 28
        }
      ]
    },
    {
      "cell_type": "code",
      "metadata": {
        "id": "abdpgXHjXDH5"
      },
      "source": [
        "c = set(a)"
      ],
      "execution_count": 29,
      "outputs": []
    },
    {
      "cell_type": "code",
      "metadata": {
        "colab": {
          "base_uri": "https://localhost:8080/"
        },
        "id": "JZH-tSNOXFqJ",
        "outputId": "05dab1bf-d244-4a02-f6c8-3d2f3a828c74"
      },
      "source": [
        "c"
      ],
      "execution_count": 30,
      "outputs": [
        {
          "output_type": "execute_result",
          "data": {
            "text/plain": [
              "{1, 2, 3}"
            ]
          },
          "metadata": {
            "tags": []
          },
          "execution_count": 30
        }
      ]
    },
    {
      "cell_type": "code",
      "metadata": {
        "colab": {
          "base_uri": "https://localhost:8080/"
        },
        "id": "9v2Cd63MXGM1",
        "outputId": "b54cb880-447d-47d2-8292-efdd5d7ede70"
      },
      "source": [
        "a"
      ],
      "execution_count": 31,
      "outputs": [
        {
          "output_type": "execute_result",
          "data": {
            "text/plain": [
              "(1, 2, 2, 3)"
            ]
          },
          "metadata": {
            "tags": []
          },
          "execution_count": 31
        }
      ]
    },
    {
      "cell_type": "code",
      "metadata": {
        "id": "pVni2r0tXHET"
      },
      "source": [
        "d = set(b)"
      ],
      "execution_count": 32,
      "outputs": []
    },
    {
      "cell_type": "code",
      "metadata": {
        "colab": {
          "base_uri": "https://localhost:8080/"
        },
        "id": "YbvjBAEtXV6t",
        "outputId": "26abfaaf-ede1-4769-b697-8d99f4e94a90"
      },
      "source": [
        "d"
      ],
      "execution_count": 33,
      "outputs": [
        {
          "output_type": "execute_result",
          "data": {
            "text/plain": [
              "{10, 20, 30}"
            ]
          },
          "metadata": {
            "tags": []
          },
          "execution_count": 33
        }
      ]
    },
    {
      "cell_type": "code",
      "metadata": {
        "colab": {
          "base_uri": "https://localhost:8080/"
        },
        "id": "k_MHKjDsXXOb",
        "outputId": "44fcdd89-8c90-48b0-8467-6544822d4f26"
      },
      "source": [
        "b"
      ],
      "execution_count": 34,
      "outputs": [
        {
          "output_type": "execute_result",
          "data": {
            "text/plain": [
              "[10, 20, 30, 30]"
            ]
          },
          "metadata": {
            "tags": []
          },
          "execution_count": 34
        }
      ]
    },
    {
      "cell_type": "code",
      "metadata": {
        "id": "J_psgWnYXXea"
      },
      "source": [
        "a = set(a)\n",
        "b = set(b)"
      ],
      "execution_count": 35,
      "outputs": []
    },
    {
      "cell_type": "code",
      "metadata": {
        "colab": {
          "base_uri": "https://localhost:8080/"
        },
        "id": "ftNtKDeKXryG",
        "outputId": "2ca8c590-e0f0-463e-af6a-5d0a20eaeaa8"
      },
      "source": [
        "a"
      ],
      "execution_count": 36,
      "outputs": [
        {
          "output_type": "execute_result",
          "data": {
            "text/plain": [
              "{1, 2, 3}"
            ]
          },
          "metadata": {
            "tags": []
          },
          "execution_count": 36
        }
      ]
    },
    {
      "cell_type": "code",
      "metadata": {
        "colab": {
          "base_uri": "https://localhost:8080/"
        },
        "id": "M2PhcmMHXscj",
        "outputId": "f9868ff3-ad7d-497a-bcc7-5a9ad2a4a777"
      },
      "source": [
        "b"
      ],
      "execution_count": 37,
      "outputs": [
        {
          "output_type": "execute_result",
          "data": {
            "text/plain": [
              "{10, 20, 30}"
            ]
          },
          "metadata": {
            "tags": []
          },
          "execution_count": 37
        }
      ]
    },
    {
      "cell_type": "code",
      "metadata": {
        "id": "H5SOgHc4Xsol"
      },
      "source": [
        "a.add(100)"
      ],
      "execution_count": 38,
      "outputs": []
    },
    {
      "cell_type": "code",
      "metadata": {
        "id": "ngWyfsaYXuLr"
      },
      "source": [
        "b.update({100,200,300})"
      ],
      "execution_count": 39,
      "outputs": []
    },
    {
      "cell_type": "code",
      "metadata": {
        "id": "1hAmZVHgXve3"
      },
      "source": [
        "b"
      ],
      "execution_count": null,
      "outputs": []
    },
    {
      "cell_type": "code",
      "metadata": {
        "id": "acDpreerYAhv"
      },
      "source": [
        "a.clear()"
      ],
      "execution_count": 51,
      "outputs": []
    },
    {
      "cell_type": "code",
      "metadata": {
        "id": "uLPWRh3oZEEc"
      },
      "source": [
        "a.update({100, 200, 500})"
      ],
      "execution_count": 52,
      "outputs": []
    },
    {
      "cell_type": "code",
      "metadata": {
        "colab": {
          "base_uri": "https://localhost:8080/"
        },
        "id": "uoZOig9SYHTu",
        "outputId": "6c084235-0e14-4a15-bfb1-36453fd476c5"
      },
      "source": [
        "a & b"
      ],
      "execution_count": 53,
      "outputs": [
        {
          "output_type": "execute_result",
          "data": {
            "text/plain": [
              "{100, 200}"
            ]
          },
          "metadata": {
            "tags": []
          },
          "execution_count": 53
        }
      ]
    },
    {
      "cell_type": "code",
      "metadata": {
        "colab": {
          "base_uri": "https://localhost:8080/"
        },
        "id": "KLiffxOJYxHV",
        "outputId": "2410cf1c-e10b-459d-d61e-2935ef90fbbc"
      },
      "source": [
        "a | b"
      ],
      "execution_count": 54,
      "outputs": [
        {
          "output_type": "execute_result",
          "data": {
            "text/plain": [
              "{10, 20, 30, 100, 200, 300, 500}"
            ]
          },
          "metadata": {
            "tags": []
          },
          "execution_count": 54
        }
      ]
    },
    {
      "cell_type": "code",
      "metadata": {
        "colab": {
          "base_uri": "https://localhost:8080/"
        },
        "id": "2HJWyOKTYyPp",
        "outputId": "61f63e9e-32ee-4058-a87f-627dd7a84695"
      },
      "source": [
        "a - b"
      ],
      "execution_count": 55,
      "outputs": [
        {
          "output_type": "execute_result",
          "data": {
            "text/plain": [
              "{500}"
            ]
          },
          "metadata": {
            "tags": []
          },
          "execution_count": 55
        }
      ]
    },
    {
      "cell_type": "code",
      "metadata": {
        "colab": {
          "base_uri": "https://localhost:8080/"
        },
        "id": "DFs-_iXyY4-d",
        "outputId": "1db34b20-fc6a-47e8-ab4d-7e186a4f358c"
      },
      "source": [
        "b - a"
      ],
      "execution_count": 56,
      "outputs": [
        {
          "output_type": "execute_result",
          "data": {
            "text/plain": [
              "{10, 20, 30, 300}"
            ]
          },
          "metadata": {
            "tags": []
          },
          "execution_count": 56
        }
      ]
    },
    {
      "cell_type": "code",
      "metadata": {
        "id": "vrougxOlY6gV"
      },
      "source": [
        "lst = [10, 50, 30]\n",
        "tp = ('a', 'b', 'c')"
      ],
      "execution_count": 57,
      "outputs": []
    },
    {
      "cell_type": "code",
      "metadata": {
        "colab": {
          "base_uri": "https://localhost:8080/"
        },
        "id": "C2X2kDOwZd7E",
        "outputId": "719089c9-63d6-449a-a7a8-15b0792de1da"
      },
      "source": [
        "for item in lst:\n",
        "  print(item)"
      ],
      "execution_count": 59,
      "outputs": [
        {
          "output_type": "stream",
          "text": [
            "10\n",
            "50\n",
            "30\n"
          ],
          "name": "stdout"
        }
      ]
    },
    {
      "cell_type": "code",
      "metadata": {
        "colab": {
          "base_uri": "https://localhost:8080/"
        },
        "id": "CmsulRwiZ5aC",
        "outputId": "5fb1b47a-5e9f-4b4e-91e9-cc47cd34347a"
      },
      "source": [
        "for item in tp:\n",
        "  print(item)"
      ],
      "execution_count": 60,
      "outputs": [
        {
          "output_type": "stream",
          "text": [
            "a\n",
            "b\n",
            "c\n"
          ],
          "name": "stdout"
        }
      ]
    },
    {
      "cell_type": "code",
      "metadata": {
        "colab": {
          "base_uri": "https://localhost:8080/"
        },
        "id": "y2rDpDYiZ9Mj",
        "outputId": "3bb084ea-8987-4a74-9567-0581bf40e488"
      },
      "source": [
        "tp, lst"
      ],
      "execution_count": 62,
      "outputs": [
        {
          "output_type": "execute_result",
          "data": {
            "text/plain": [
              "(('a', 'b', 'c'), [10, 50, 30])"
            ]
          },
          "metadata": {
            "tags": []
          },
          "execution_count": 62
        }
      ]
    },
    {
      "cell_type": "code",
      "metadata": {
        "colab": {
          "base_uri": "https://localhost:8080/"
        },
        "id": "Zuao0atpaNiA",
        "outputId": "a45cb908-58f2-467c-a5af-b62d1f7f3d4e"
      },
      "source": [
        "zip(tp, lst)"
      ],
      "execution_count": 63,
      "outputs": [
        {
          "output_type": "execute_result",
          "data": {
            "text/plain": [
              "<zip at 0x7fccc591a050>"
            ]
          },
          "metadata": {
            "tags": []
          },
          "execution_count": 63
        }
      ]
    },
    {
      "cell_type": "code",
      "metadata": {
        "colab": {
          "base_uri": "https://localhost:8080/"
        },
        "id": "9weUoNK1d3JW",
        "outputId": "8e3d89fc-42e5-4e9f-e011-a6b818502e88"
      },
      "source": [
        "for item in zip(tp, lst) :\n",
        "  print(item)"
      ],
      "execution_count": 65,
      "outputs": [
        {
          "output_type": "stream",
          "text": [
            "('a', 10)\n",
            "('b', 50)\n",
            "('c', 30)\n"
          ],
          "name": "stdout"
        }
      ]
    },
    {
      "cell_type": "code",
      "metadata": {
        "id": "31MPidV_eHCv"
      },
      "source": [
        "dt = dict(zip(tp, lst))"
      ],
      "execution_count": 67,
      "outputs": []
    },
    {
      "cell_type": "code",
      "metadata": {
        "colab": {
          "base_uri": "https://localhost:8080/"
        },
        "id": "GMZFtmQjeVc0",
        "outputId": "491f3b80-e030-4847-a427-a0bfb13b0097"
      },
      "source": [
        "dt"
      ],
      "execution_count": 68,
      "outputs": [
        {
          "output_type": "execute_result",
          "data": {
            "text/plain": [
              "{'a': 10, 'b': 50, 'c': 30}"
            ]
          },
          "metadata": {
            "tags": []
          },
          "execution_count": 68
        }
      ]
    },
    {
      "cell_type": "code",
      "metadata": {
        "id": "XPcneLE4eaXV"
      },
      "source": [
        "temp = [10.8,  8.5,  8.7,  7.9,  5.1,\n",
        "         8.1,  8.2, 10.4,   11,  9.9,\n",
        "         7.8,  9.5, 11.6,  8.2,  7.7,\n",
        "         6.6, 11.1, 12.2, 12.6, 10.4,\n",
        "        13.7, 14.1, 12.6, 11.5,   13,\n",
        "        14.5, 13.7,  9.4, 10.4, 11.6, 12.9]"
      ],
      "execution_count": 69,
      "outputs": []
    },
    {
      "cell_type": "code",
      "metadata": {
        "colab": {
          "base_uri": "https://localhost:8080/"
        },
        "id": "i9eSt2dle1Um",
        "outputId": "a639308d-1f52-44a3-bb3f-075c3896f671"
      },
      "source": [
        "temp"
      ],
      "execution_count": 70,
      "outputs": [
        {
          "output_type": "execute_result",
          "data": {
            "text/plain": [
              "[10.8,\n",
              " 8.5,\n",
              " 8.7,\n",
              " 7.9,\n",
              " 5.1,\n",
              " 8.1,\n",
              " 8.2,\n",
              " 10.4,\n",
              " 11,\n",
              " 9.9,\n",
              " 7.8,\n",
              " 9.5,\n",
              " 11.6,\n",
              " 8.2,\n",
              " 7.7,\n",
              " 6.6,\n",
              " 11.1,\n",
              " 12.2,\n",
              " 12.6,\n",
              " 10.4,\n",
              " 13.7,\n",
              " 14.1,\n",
              " 12.6,\n",
              " 11.5,\n",
              " 13,\n",
              " 14.5,\n",
              " 13.7,\n",
              " 9.4,\n",
              " 10.4,\n",
              " 11.6,\n",
              " 12.9]"
            ]
          },
          "metadata": {
            "tags": []
          },
          "execution_count": 70
        }
      ]
    },
    {
      "cell_type": "code",
      "metadata": {
        "colab": {
          "base_uri": "https://localhost:8080/"
        },
        "id": "orl9-2Qqe2B3",
        "outputId": "f2a59dc3-f94c-4a73-d8ef-8290e752bc0f"
      },
      "source": [
        "temp[0]"
      ],
      "execution_count": 71,
      "outputs": [
        {
          "output_type": "execute_result",
          "data": {
            "text/plain": [
              "10.8"
            ]
          },
          "metadata": {
            "tags": []
          },
          "execution_count": 71
        }
      ]
    },
    {
      "cell_type": "code",
      "metadata": {
        "colab": {
          "base_uri": "https://localhost:8080/"
        },
        "id": "OVnuEGqRe7Gd",
        "outputId": "219b703d-afcd-4063-fcf4-db87fb15c493"
      },
      "source": [
        "max(temp)"
      ],
      "execution_count": 72,
      "outputs": [
        {
          "output_type": "execute_result",
          "data": {
            "text/plain": [
              "14.5"
            ]
          },
          "metadata": {
            "tags": []
          },
          "execution_count": 72
        }
      ]
    },
    {
      "cell_type": "code",
      "metadata": {
        "colab": {
          "base_uri": "https://localhost:8080/"
        },
        "id": "QdK_a1RlfJK-",
        "outputId": "93a4e6a1-073f-46fc-bb45-e4fd3245d295"
      },
      "source": [
        "print(f'2020년 3월의 최고 기온 : {max(temp):6.2f} 도')"
      ],
      "execution_count": 74,
      "outputs": [
        {
          "output_type": "stream",
          "text": [
            "2020년 3월의 최고 기온 :  14.50 도\n"
          ],
          "name": "stdout"
        }
      ]
    },
    {
      "cell_type": "code",
      "metadata": {
        "colab": {
          "base_uri": "https://localhost:8080/"
        },
        "id": "Qbenv3StfZwa",
        "outputId": "539ab989-55c9-476c-e3a0-391933b13bb0"
      },
      "source": [
        "min(temp)"
      ],
      "execution_count": 76,
      "outputs": [
        {
          "output_type": "execute_result",
          "data": {
            "text/plain": [
              "5.1"
            ]
          },
          "metadata": {
            "tags": []
          },
          "execution_count": 76
        }
      ]
    },
    {
      "cell_type": "code",
      "metadata": {
        "colab": {
          "base_uri": "https://localhost:8080/"
        },
        "id": "X1aOHrtCf5JR",
        "outputId": "25064cf8-bbb8-46fb-eacd-698df19bcb8f"
      },
      "source": [
        "print(f'2020년 3월의 최저 기온 : {min(temp):6.2f} 도')"
      ],
      "execution_count": 77,
      "outputs": [
        {
          "output_type": "stream",
          "text": [
            "2020년 3월의 최저 기온 :   5.10 도\n"
          ],
          "name": "stdout"
        }
      ]
    },
    {
      "cell_type": "code",
      "metadata": {
        "colab": {
          "base_uri": "https://localhost:8080/"
        },
        "id": "C6KYFndWf_8S",
        "outputId": "1989b602-7d53-44f6-d157-36d709c40d1d"
      },
      "source": [
        "avg = sum(temp) / len(temp)\n",
        "avg"
      ],
      "execution_count": 78,
      "outputs": [
        {
          "output_type": "execute_result",
          "data": {
            "text/plain": [
              "10.441935483870964"
            ]
          },
          "metadata": {
            "tags": []
          },
          "execution_count": 78
        }
      ]
    },
    {
      "cell_type": "code",
      "metadata": {
        "colab": {
          "base_uri": "https://localhost:8080/"
        },
        "id": "nDuqlZZIgNCm",
        "outputId": "dc19acff-41d1-46f4-88cd-786d4431f5ff"
      },
      "source": [
        "print(f'2020년 3월의 vudrbs rldhs : {avg:6.2f} 도')"
      ],
      "execution_count": 79,
      "outputs": [
        {
          "output_type": "stream",
          "text": [
            "2020년 3월의 vudrbs rldhs :  10.44 도\n"
          ],
          "name": "stdout"
        }
      ]
    },
    {
      "cell_type": "code",
      "metadata": {
        "id": "nzJQFk4Lgcz-"
      },
      "source": [
        "y    = [2010, 2011, 2012, 2013, 2014, 2015, 2016, 2017, 2018, 2019]\n",
        "yavg = [14.9, 14.6, 14.5, 15.3, 15.1, 15.4, 15.7, 15.2, 15.1, 15.7]\n",
        "ymax = [34.1,   33, 34.5,   35, 32.9, 33.5, 37.3, 36.2, 36.4,   35]\n",
        "ymin = [  19, 18.8, 18.6, 19.5, 19.2, 19.5, 19.8, 19.6, 19.2, 19.8]"
      ],
      "execution_count": 80,
      "outputs": []
    },
    {
      "cell_type": "code",
      "metadata": {
        "id": "yMp7B6EchdLf"
      },
      "source": [
        "yodd = [item for item in y if item % 2 == 1]"
      ],
      "execution_count": 82,
      "outputs": []
    },
    {
      "cell_type": "code",
      "metadata": {
        "colab": {
          "base_uri": "https://localhost:8080/"
        },
        "id": "OrlHiCOniT_U",
        "outputId": "4d23de8a-2195-4560-c577-8d371b6ee229"
      },
      "source": [
        "yodd"
      ],
      "execution_count": 83,
      "outputs": [
        {
          "output_type": "execute_result",
          "data": {
            "text/plain": [
              "[2011, 2013, 2015, 2017, 2019]"
            ]
          },
          "metadata": {
            "tags": []
          },
          "execution_count": 83
        }
      ]
    },
    {
      "cell_type": "code",
      "metadata": {
        "id": "SQVQspp2iGYN"
      },
      "source": [
        "for item in y:\n",
        "  if item % 2 == 1:\n",
        "    item"
      ],
      "execution_count": 84,
      "outputs": []
    },
    {
      "cell_type": "code",
      "metadata": {
        "colab": {
          "base_uri": "https://localhost:8080/"
        },
        "id": "wFRjQKcHiohF",
        "outputId": "c85908e4-6178-4816-e8c1-74a66eb493e5"
      },
      "source": [
        "y = [str(item) for item in y]\n",
        "print(y)"
      ],
      "execution_count": 86,
      "outputs": [
        {
          "output_type": "stream",
          "text": [
            "['2010', '2011', '2012', '2013', '2014', '2015', '2016', '2017', '2018', '2019']\n"
          ],
          "name": "stdout"
        }
      ]
    },
    {
      "cell_type": "code",
      "metadata": {
        "id": "7a4FhsTfio3-"
      },
      "source": [
        "ytemp = dict(zip(y, yavg))"
      ],
      "execution_count": 97,
      "outputs": []
    },
    {
      "cell_type": "code",
      "metadata": {
        "colab": {
          "base_uri": "https://localhost:8080/"
        },
        "id": "iadO_qgCjnTd",
        "outputId": "b0a5df5f-2bee-4051-e248-db1eda2757c9"
      },
      "source": [
        "ytemp"
      ],
      "execution_count": 98,
      "outputs": [
        {
          "output_type": "execute_result",
          "data": {
            "text/plain": [
              "{'2010': 14.9,\n",
              " '2011': 14.6,\n",
              " '2012': 14.5,\n",
              " '2013': 15.3,\n",
              " '2014': 15.1,\n",
              " '2015': 15.4,\n",
              " '2016': 15.7,\n",
              " '2017': 15.2,\n",
              " '2018': 15.1,\n",
              " '2019': 15.7}"
            ]
          },
          "metadata": {
            "tags": []
          },
          "execution_count": 98
        }
      ]
    },
    {
      "cell_type": "code",
      "metadata": {
        "colab": {
          "base_uri": "https://localhost:8080/"
        },
        "id": "y2smE6Wkiwp6",
        "outputId": "6faedf7f-728f-4a31-f942-569a31958d03"
      },
      "source": [
        "mintemp = min(ytemp.values())\n",
        "mintemp"
      ],
      "execution_count": 92,
      "outputs": [
        {
          "output_type": "execute_result",
          "data": {
            "text/plain": [
              "14.5"
            ]
          },
          "metadata": {
            "tags": []
          },
          "execution_count": 92
        }
      ]
    },
    {
      "cell_type": "code",
      "metadata": {
        "id": "-8urEda5i7M3"
      },
      "source": [
        "ryear = []"
      ],
      "execution_count": 93,
      "outputs": []
    },
    {
      "cell_type": "code",
      "metadata": {
        "id": "ZaFntT-1jFGX"
      },
      "source": [
        "for year, temp in ytemp. items():\n",
        "  if temp == mintemp:\n",
        "    ryear.append(year)"
      ],
      "execution_count": 101,
      "outputs": []
    },
    {
      "cell_type": "code",
      "metadata": {
        "colab": {
          "base_uri": "https://localhost:8080/"
        },
        "id": "o4yp7V7-jHwg",
        "outputId": "e8a17436-f65e-4473-8cd6-96b3b3b90589"
      },
      "source": [
        "ryear"
      ],
      "execution_count": 102,
      "outputs": [
        {
          "output_type": "execute_result",
          "data": {
            "text/plain": [
              "['2012']"
            ]
          },
          "metadata": {
            "tags": []
          },
          "execution_count": 102
        }
      ]
    },
    {
      "cell_type": "code",
      "metadata": {
        "colab": {
          "base_uri": "https://localhost:8080/"
        },
        "id": "gVcnv0tLjsZh",
        "outputId": "7680459e-f45c-48d2-963c-df0ec26f60fb"
      },
      "source": [
        "x= int(input('값 입력 : '))"
      ],
      "execution_count": 103,
      "outputs": [
        {
          "output_type": "stream",
          "text": [
            "값 입력 : 13\n"
          ],
          "name": "stdout"
        }
      ]
    },
    {
      "cell_type": "code",
      "metadata": {
        "colab": {
          "base_uri": "https://localhost:8080/"
        },
        "id": "3ULpPFodkMDl",
        "outputId": "bd55b3f2-922c-4d25-a056-a171a592b2d4"
      },
      "source": [
        "x\n",
        "if x % 2 == 0:\n",
        "  print(\"짝수\")\n",
        "else :\n",
        "  print('홀수')"
      ],
      "execution_count": 108,
      "outputs": [
        {
          "output_type": "stream",
          "text": [
            "홀수\n"
          ],
          "name": "stdout"
        }
      ]
    },
    {
      "cell_type": "code",
      "metadata": {
        "colab": {
          "base_uri": "https://localhost:8080/"
        },
        "id": "bZSNEl7XkhmT",
        "outputId": "cd0f6568-f2f8-4d82-dc45-c777e08e7729"
      },
      "source": [
        "x = float(input('성적입력 : '))"
      ],
      "execution_count": 112,
      "outputs": [
        {
          "output_type": "stream",
          "text": [
            "성적입력 : 55.9\n"
          ],
          "name": "stdout"
        }
      ]
    },
    {
      "cell_type": "code",
      "metadata": {
        "colab": {
          "base_uri": "https://localhost:8080/"
        },
        "id": "8gWs6rdVki8t",
        "outputId": "c0993134-d772-416f-8aed-06c91a45d255"
      },
      "source": [
        "if x >=70:\n",
        "  print('Pass')\n",
        "elif x >= 60:\n",
        "  print('재시험')\n",
        "else :\n",
        "  priint('Fail')"
      ],
      "execution_count": 111,
      "outputs": [
        {
          "output_type": "stream",
          "text": [
            "Pass\n"
          ],
          "name": "stdout"
        }
      ]
    },
    {
      "cell_type": "code",
      "metadata": {
        "id": "ltIzeaOclEkR"
      },
      "source": [
        "name = '안녕하세요'"
      ],
      "execution_count": 113,
      "outputs": []
    },
    {
      "cell_type": "code",
      "metadata": {
        "colab": {
          "base_uri": "https://localhost:8080/"
        },
        "id": "bONyTaNllcn5",
        "outputId": "1c780567-524c-47f3-b7f9-f6a5b07066d7"
      },
      "source": [
        "'안' in name"
      ],
      "execution_count": 114,
      "outputs": [
        {
          "output_type": "execute_result",
          "data": {
            "text/plain": [
              "True"
            ]
          },
          "metadata": {
            "tags": []
          },
          "execution_count": 114
        }
      ]
    },
    {
      "cell_type": "code",
      "metadata": {
        "colab": {
          "base_uri": "https://localhost:8080/"
        },
        "id": "IJg3uIavln34",
        "outputId": "95c50fde-9f12-4b1b-9f98-3b56a781036d"
      },
      "source": [
        "'go' in name"
      ],
      "execution_count": 115,
      "outputs": [
        {
          "output_type": "execute_result",
          "data": {
            "text/plain": [
              "False"
            ]
          },
          "metadata": {
            "tags": []
          },
          "execution_count": 115
        }
      ]
    },
    {
      "cell_type": "code",
      "metadata": {
        "colab": {
          "base_uri": "https://localhost:8080/"
        },
        "id": "l5L9kleSlpb3",
        "outputId": "a6cf60c2-fed6-43c2-86ea-2b5b72f6054c"
      },
      "source": [
        "'안녕' in name"
      ],
      "execution_count": 116,
      "outputs": [
        {
          "output_type": "execute_result",
          "data": {
            "text/plain": [
              "True"
            ]
          },
          "metadata": {
            "tags": []
          },
          "execution_count": 116
        }
      ]
    },
    {
      "cell_type": "code",
      "metadata": {
        "colab": {
          "base_uri": "https://localhost:8080/"
        },
        "id": "0YJvVRzjlrZw",
        "outputId": "d37c10a2-ce52-4ca7-fbee-50ffdbfaa93a"
      },
      "source": [
        "'안세' in name"
      ],
      "execution_count": 117,
      "outputs": [
        {
          "output_type": "execute_result",
          "data": {
            "text/plain": [
              "False"
            ]
          },
          "metadata": {
            "tags": []
          },
          "execution_count": 117
        }
      ]
    },
    {
      "cell_type": "code",
      "metadata": {
        "colab": {
          "base_uri": "https://localhost:8080/"
        },
        "id": "Gzn2cuejltvP",
        "outputId": "bbdb5989-8de5-44ef-8de9-0c6f0f64c8aa"
      },
      "source": [
        "range(5)"
      ],
      "execution_count": 118,
      "outputs": [
        {
          "output_type": "execute_result",
          "data": {
            "text/plain": [
              "range(0, 5)"
            ]
          },
          "metadata": {
            "tags": []
          },
          "execution_count": 118
        }
      ]
    },
    {
      "cell_type": "code",
      "metadata": {
        "colab": {
          "base_uri": "https://localhost:8080/"
        },
        "id": "UHnu-xSOl2yn",
        "outputId": "bdbdb45b-6ff4-45bf-8f9b-6e0a226c91ce"
      },
      "source": [
        "list(range(5))"
      ],
      "execution_count": 119,
      "outputs": [
        {
          "output_type": "execute_result",
          "data": {
            "text/plain": [
              "[0, 1, 2, 3, 4]"
            ]
          },
          "metadata": {
            "tags": []
          },
          "execution_count": 119
        }
      ]
    },
    {
      "cell_type": "code",
      "metadata": {
        "colab": {
          "base_uri": "https://localhost:8080/"
        },
        "id": "c8S6-nnWmBaF",
        "outputId": "d4bf1f11-5535-4b8c-8a39-403cb60d5f75"
      },
      "source": [
        "5 in list(range(5))"
      ],
      "execution_count": 120,
      "outputs": [
        {
          "output_type": "execute_result",
          "data": {
            "text/plain": [
              "False"
            ]
          },
          "metadata": {
            "tags": []
          },
          "execution_count": 120
        }
      ]
    },
    {
      "cell_type": "code",
      "metadata": {
        "colab": {
          "base_uri": "https://localhost:8080/"
        },
        "id": "SEhHwOsPmGaW",
        "outputId": "723cda56-f822-430e-ef9e-e0cfcabf8a78"
      },
      "source": [
        "1 in list(range(5))"
      ],
      "execution_count": 121,
      "outputs": [
        {
          "output_type": "execute_result",
          "data": {
            "text/plain": [
              "True"
            ]
          },
          "metadata": {
            "tags": []
          },
          "execution_count": 121
        }
      ]
    },
    {
      "cell_type": "code",
      "metadata": {
        "id": "PRFI69mMmMZ8"
      },
      "source": [
        "d = {'a':1, 'b':2}"
      ],
      "execution_count": 122,
      "outputs": []
    },
    {
      "cell_type": "code",
      "metadata": {
        "colab": {
          "base_uri": "https://localhost:8080/"
        },
        "id": "ie3QtNQ4mU7Z",
        "outputId": "c098d92b-b803-48f1-c13f-baf6d4f13256"
      },
      "source": [
        "'b' in d"
      ],
      "execution_count": 123,
      "outputs": [
        {
          "output_type": "execute_result",
          "data": {
            "text/plain": [
              "True"
            ]
          },
          "metadata": {
            "tags": []
          },
          "execution_count": 123
        }
      ]
    },
    {
      "cell_type": "code",
      "metadata": {
        "colab": {
          "base_uri": "https://localhost:8080/"
        },
        "id": "cDfzASYnmWYM",
        "outputId": "f01807a0-a922-4052-fcaa-706fc61c3446"
      },
      "source": [
        "1 in d"
      ],
      "execution_count": 124,
      "outputs": [
        {
          "output_type": "execute_result",
          "data": {
            "text/plain": [
              "False"
            ]
          },
          "metadata": {
            "tags": []
          },
          "execution_count": 124
        }
      ]
    },
    {
      "cell_type": "code",
      "metadata": {
        "id": "evDYxeoGm2w8"
      },
      "source": [
        "a = '안녕하세요'"
      ],
      "execution_count": 128,
      "outputs": []
    },
    {
      "cell_type": "code",
      "metadata": {
        "colab": {
          "base_uri": "https://localhost:8080/",
          "height": 35
        },
        "id": "RTCn534dmmL8",
        "outputId": "f03055da-faf4-4ab7-cc5e-12a16b20fd9f"
      },
      "source": [
        "a"
      ],
      "execution_count": 129,
      "outputs": [
        {
          "output_type": "execute_result",
          "data": {
            "application/vnd.google.colaboratory.intrinsic+json": {
              "type": "string"
            },
            "text/plain": [
              "'안녕하세요'"
            ]
          },
          "metadata": {
            "tags": []
          },
          "execution_count": 129
        }
      ]
    },
    {
      "cell_type": "code",
      "metadata": {
        "colab": {
          "base_uri": "https://localhost:8080/"
        },
        "id": "giJ7m4eGmnOR",
        "outputId": "e09ff258-111b-4f22-9177-14f772346dfa"
      },
      "source": [
        "for i in a:\n",
        "  print(i)"
      ],
      "execution_count": 130,
      "outputs": [
        {
          "output_type": "stream",
          "text": [
            "안\n",
            "녕\n",
            "하\n",
            "세\n",
            "요\n"
          ],
          "name": "stdout"
        }
      ]
    },
    {
      "cell_type": "code",
      "metadata": {
        "id": "XhIE8_R5muIp"
      },
      "source": [
        "lst = list(range(5))"
      ],
      "execution_count": 127,
      "outputs": []
    },
    {
      "cell_type": "code",
      "metadata": {
        "colab": {
          "base_uri": "https://localhost:8080/"
        },
        "id": "fwfu9NhImzhC",
        "outputId": "e43f0bc9-b537-43f6-cdd3-a418cd5a6330"
      },
      "source": [
        "for item in lst:\n",
        "  print(item)"
      ],
      "execution_count": 131,
      "outputs": [
        {
          "output_type": "stream",
          "text": [
            "0\n",
            "1\n",
            "2\n",
            "3\n",
            "4\n"
          ],
          "name": "stdout"
        }
      ]
    },
    {
      "cell_type": "code",
      "metadata": {
        "colab": {
          "base_uri": "https://localhost:8080/"
        },
        "id": "uKSUp9WXm_XP",
        "outputId": "c4c1bf5a-c448-49ef-80d7-1b8fc668e43f"
      },
      "source": [
        "for item in lst:\n",
        "  print(item)"
      ],
      "execution_count": 132,
      "outputs": [
        {
          "output_type": "stream",
          "text": [
            "0\n",
            "1\n",
            "2\n",
            "3\n",
            "4\n"
          ],
          "name": "stdout"
        }
      ]
    },
    {
      "cell_type": "code",
      "metadata": {
        "id": "b5Osm2FqnATF"
      },
      "source": [
        "dt = {\n",
        "    'a':1,\n",
        "    'b':2\n",
        "}"
      ],
      "execution_count": 133,
      "outputs": []
    },
    {
      "cell_type": "code",
      "metadata": {
        "colab": {
          "base_uri": "https://localhost:8080/"
        },
        "id": "AQsw6BganKEH",
        "outputId": "d2aa11b9-0ddc-44e3-96a0-9872540616ba"
      },
      "source": [
        "dt"
      ],
      "execution_count": 134,
      "outputs": [
        {
          "output_type": "execute_result",
          "data": {
            "text/plain": [
              "{'a': 1, 'b': 2}"
            ]
          },
          "metadata": {
            "tags": []
          },
          "execution_count": 134
        }
      ]
    },
    {
      "cell_type": "code",
      "metadata": {
        "colab": {
          "base_uri": "https://localhost:8080/"
        },
        "id": "juDpnNFYnLGN",
        "outputId": "46b3ffb1-c95d-4f6a-b303-9fe50aad6399"
      },
      "source": [
        "for item in dt:\n",
        "  print(item)"
      ],
      "execution_count": 135,
      "outputs": [
        {
          "output_type": "stream",
          "text": [
            "a\n",
            "b\n"
          ],
          "name": "stdout"
        }
      ]
    },
    {
      "cell_type": "code",
      "metadata": {
        "colab": {
          "base_uri": "https://localhost:8080/"
        },
        "id": "jwpLj_k-nOpP",
        "outputId": "0717a1aa-7761-4282-d3c9-297f8dd224c5"
      },
      "source": [
        "for item in d.values():\n",
        "  print(item)"
      ],
      "execution_count": 136,
      "outputs": [
        {
          "output_type": "stream",
          "text": [
            "1\n",
            "2\n"
          ],
          "name": "stdout"
        }
      ]
    },
    {
      "cell_type": "code",
      "metadata": {
        "colab": {
          "base_uri": "https://localhost:8080/"
        },
        "id": "CEF1gBxUnYQI",
        "outputId": "2967eb9d-1db2-4582-d3cc-7d1d84f969a5"
      },
      "source": [
        "for key, value in d.items():\n",
        "  print(key, value)"
      ],
      "execution_count": 137,
      "outputs": [
        {
          "output_type": "stream",
          "text": [
            "a 1\n",
            "b 2\n"
          ],
          "name": "stdout"
        }
      ]
    },
    {
      "cell_type": "code",
      "metadata": {
        "id": "eRz-2FYGnZ3h"
      },
      "source": [
        "ke"
      ],
      "execution_count": null,
      "outputs": []
    }
  ]
}