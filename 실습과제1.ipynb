{
  "nbformat": 4,
  "nbformat_minor": 0,
  "metadata": {
    "colab": {
      "name": "실습과제1.ipynb",
      "provenance": [],
      "collapsed_sections": [],
      "authorship_tag": "ABX9TyPOE6DGrTP6HCqXg7gtvuNQ",
      "include_colab_link": true
    },
    "kernelspec": {
      "name": "python3",
      "display_name": "Python 3"
    }
  },
  "cells": [
    {
      "cell_type": "markdown",
      "metadata": {
        "id": "view-in-github",
        "colab_type": "text"
      },
      "source": [
        "<a href=\"https://colab.research.google.com/github/bmt21411/bmt_python/blob/main/%EC%8B%A4%EC%8A%B5%EA%B3%BC%EC%A0%9C1.ipynb\" target=\"_parent\"><img src=\"https://colab.research.google.com/assets/colab-badge.svg\" alt=\"Open In Colab\"/></a>"
      ]
    },
    {
      "cell_type": "markdown",
      "metadata": {
        "id": "k2Lny6uKNxNL"
      },
      "source": [
        "## 기초문법"
      ]
    },
    {
      "cell_type": "code",
      "metadata": {
        "id": "SEi2xR6tNbmo"
      },
      "source": [
        "names = ['정밀','폴리','산설','로봇','메카','전기']"
      ],
      "execution_count": null,
      "outputs": []
    },
    {
      "cell_type": "code",
      "metadata": {
        "colab": {
          "base_uri": "https://localhost:8080/"
        },
        "id": "hUxPO-tLOqAW",
        "outputId": "a3018f0e-d325-4ac1-ed1f-092b04472509"
      },
      "source": [
        "names"
      ],
      "execution_count": null,
      "outputs": [
        {
          "output_type": "execute_result",
          "data": {
            "text/plain": [
              "['정밀', '폴리', '산설', '로봇', '메카', '전기']"
            ]
          },
          "metadata": {
            "tags": []
          },
          "execution_count": 2
        }
      ]
    },
    {
      "cell_type": "code",
      "metadata": {
        "colab": {
          "base_uri": "https://localhost:8080/",
          "height": 35
        },
        "id": "wRr9npNXOx8t",
        "outputId": "d8127f6a-1dd0-4238-cd0e-a60d64bb4db3"
      },
      "source": [
        "names[0]"
      ],
      "execution_count": null,
      "outputs": [
        {
          "output_type": "execute_result",
          "data": {
            "application/vnd.google.colaboratory.intrinsic+json": {
              "type": "string"
            },
            "text/plain": [
              "'정밀'"
            ]
          },
          "metadata": {
            "tags": []
          },
          "execution_count": 19
        }
      ]
    },
    {
      "cell_type": "code",
      "metadata": {
        "colab": {
          "base_uri": "https://localhost:8080/",
          "height": 35
        },
        "id": "RBVtPL_CO3qu",
        "outputId": "9d0b9cbc-f799-4ebb-d5ee-b50b0cfd4490"
      },
      "source": [
        "names[-1]"
      ],
      "execution_count": null,
      "outputs": [
        {
          "output_type": "execute_result",
          "data": {
            "application/vnd.google.colaboratory.intrinsic+json": {
              "type": "string"
            },
            "text/plain": [
              "'전기'"
            ]
          },
          "metadata": {
            "tags": []
          },
          "execution_count": 20
        }
      ]
    },
    {
      "cell_type": "code",
      "metadata": {
        "colab": {
          "base_uri": "https://localhost:8080/"
        },
        "id": "2N6ELOcWPC7Z",
        "outputId": "2790da6b-0fc4-43fd-fc26-101e0f57e76d"
      },
      "source": [
        "names"
      ],
      "execution_count": null,
      "outputs": [
        {
          "output_type": "execute_result",
          "data": {
            "text/plain": [
              "['정밀', '폴리', '산설', '로봇', '메카', '전기']"
            ]
          },
          "metadata": {
            "tags": []
          },
          "execution_count": 21
        }
      ]
    },
    {
      "cell_type": "code",
      "metadata": {
        "id": "jn3RrnbEQJYI"
      },
      "source": [
        "names.append('부산기계')"
      ],
      "execution_count": null,
      "outputs": []
    },
    {
      "cell_type": "code",
      "metadata": {
        "colab": {
          "base_uri": "https://localhost:8080/"
        },
        "id": "KGi7UynSQZFg",
        "outputId": "b27bad1f-d265-4c6c-a0dc-3cd184ad36a2"
      },
      "source": [
        "names"
      ],
      "execution_count": null,
      "outputs": [
        {
          "output_type": "execute_result",
          "data": {
            "text/plain": [
              "['정밀', '폴리', '산설', '로봇', '메카', '전기', '부산기계']"
            ]
          },
          "metadata": {
            "tags": []
          },
          "execution_count": 23
        }
      ]
    },
    {
      "cell_type": "code",
      "metadata": {
        "colab": {
          "base_uri": "https://localhost:8080/"
        },
        "id": "YdP41lS_QeyS",
        "outputId": "33ae144f-980e-452c-af6e-4228383f04de"
      },
      "source": [
        "for name in names:\n",
        "  if len(name) > 2:\n",
        "    print(name,'공업고등학교')\n",
        "    print(name+'공업고등학교')\n",
        "  else:\n",
        "    print(name,'전공')"
      ],
      "execution_count": null,
      "outputs": [
        {
          "output_type": "stream",
          "text": [
            "정밀 전공\n",
            "폴리 전공\n",
            "산설 전공\n",
            "로봇 전공\n",
            "메카 전공\n",
            "전기 전공\n",
            "부산기계 공업고등학교\n",
            "부산기계공업고등학교\n"
          ],
          "name": "stdout"
        }
      ]
    },
    {
      "cell_type": "code",
      "metadata": {
        "colab": {
          "base_uri": "https://localhost:8080/"
        },
        "id": "vYkuSwy2Q99a",
        "outputId": "ca1bd83f-c006-4a67-e1ea-9145b8b3506c"
      },
      "source": [
        "# 출력 print함수 공부\n",
        "\n",
        "print(20**4)"
      ],
      "execution_count": null,
      "outputs": [
        {
          "output_type": "stream",
          "text": [
            "160000\n"
          ],
          "name": "stdout"
        }
      ]
    },
    {
      "cell_type": "code",
      "metadata": {
        "colab": {
          "base_uri": "https://localhost:8080/"
        },
        "id": "AeJfDGGcXOGk",
        "outputId": "782193c1-87d5-485c-f323-37af2c5f86ab"
      },
      "source": [
        "print('안녕하세요 전기과 여러분')"
      ],
      "execution_count": null,
      "outputs": [
        {
          "output_type": "stream",
          "text": [
            "안녕하세요 전기과 여러분\n"
          ],
          "name": "stdout"
        }
      ]
    },
    {
      "cell_type": "code",
      "metadata": {
        "colab": {
          "base_uri": "https://localhost:8080/"
        },
        "id": "dANP5LJWXifx",
        "outputId": "042206ba-c47b-40be-ed28-3300e629cd4d"
      },
      "source": [
        "school = '부산기계공고' #문자열 변수 선언 및 초기화\n",
        "print(school)"
      ],
      "execution_count": null,
      "outputs": [
        {
          "output_type": "stream",
          "text": [
            "부산기계공고\n"
          ],
          "name": "stdout"
        }
      ]
    },
    {
      "cell_type": "code",
      "metadata": {
        "colab": {
          "base_uri": "https://localhost:8080/"
        },
        "id": "F6Q_OcSqXugp",
        "outputId": "d27d4d43-49be-42b4-d99c-1cc93918eb8e"
      },
      "source": [
        "print('부산기계공고')"
      ],
      "execution_count": null,
      "outputs": [
        {
          "output_type": "stream",
          "text": [
            "부산기계공고\n"
          ],
          "name": "stdout"
        }
      ]
    },
    {
      "cell_type": "code",
      "metadata": {
        "colab": {
          "base_uri": "https://localhost:8080/"
        },
        "id": "wNouOtlaXzo4",
        "outputId": "f04b19eb-7a72-4f0f-8ce6-e691ec9e944c"
      },
      "source": [
        "a = 1024\n",
        "print(a)"
      ],
      "execution_count": null,
      "outputs": [
        {
          "output_type": "stream",
          "text": [
            "1024\n"
          ],
          "name": "stdout"
        }
      ]
    },
    {
      "cell_type": "code",
      "metadata": {
        "colab": {
          "base_uri": "https://localhost:8080/"
        },
        "id": "SOMQ8EN0YDgS",
        "outputId": "273ef868-06a3-4709-a4a2-6cb552f5541b"
      },
      "source": [
        "name = '전기과'\n",
        "print(name,'화이팅~!!!')"
      ],
      "execution_count": null,
      "outputs": [
        {
          "output_type": "stream",
          "text": [
            "전기과 화이팅~!!!\n"
          ],
          "name": "stdout"
        }
      ]
    },
    {
      "cell_type": "code",
      "metadata": {
        "colab": {
          "base_uri": "https://localhost:8080/"
        },
        "id": "clalERc_YGUz",
        "outputId": "b57b978b-4343-4a4e-d919-81689a2b507c"
      },
      "source": [
        "print(f'{school} {name} 화이팅~~!')"
      ],
      "execution_count": null,
      "outputs": [
        {
          "output_type": "stream",
          "text": [
            "부산기계공고 전기과 화이팅~~!\n"
          ],
          "name": "stdout"
        }
      ]
    },
    {
      "cell_type": "code",
      "metadata": {
        "colab": {
          "base_uri": "https://localhost:8080/"
        },
        "id": "XXLHsRgpYZ6V",
        "outputId": "a5cd685b-9748-4510-e2ae-8cfd5f6ef9e6"
      },
      "source": [
        "name = input()"
      ],
      "execution_count": null,
      "outputs": [
        {
          "output_type": "stream",
          "text": [
            "1234\n"
          ],
          "name": "stdout"
        }
      ]
    },
    {
      "cell_type": "code",
      "metadata": {
        "colab": {
          "base_uri": "https://localhost:8080/"
        },
        "id": "sASMlxmgYzov",
        "outputId": "7d244ed3-eb5e-4906-9e37-8b661072a1fe"
      },
      "source": [
        "print(name)"
      ],
      "execution_count": null,
      "outputs": [
        {
          "output_type": "stream",
          "text": [
            "이태경\n"
          ],
          "name": "stdout"
        }
      ]
    },
    {
      "cell_type": "code",
      "metadata": {
        "colab": {
          "base_uri": "https://localhost:8080/"
        },
        "id": "vJ9GdCPzY8ok",
        "outputId": "fc75a803-7db3-4fbf-b7a3-8e1c1301b695"
      },
      "source": [
        "print(f'{name}님 반가워요~!')"
      ],
      "execution_count": null,
      "outputs": [
        {
          "output_type": "stream",
          "text": [
            "이태경님 반가워요~!\n"
          ],
          "name": "stdout"
        }
      ]
    },
    {
      "cell_type": "code",
      "metadata": {
        "colab": {
          "base_uri": "https://localhost:8080/"
        },
        "id": "wpHNvFNEZEOm",
        "outputId": "93383117-03e2-447e-8459-69489828731f"
      },
      "source": [
        "age = int(input('나이 입력 : '))\n",
        "\n",
        "print(age - 1)"
      ],
      "execution_count": null,
      "outputs": [
        {
          "output_type": "stream",
          "text": [
            "나이 입력 : 18\n",
            "17\n"
          ],
          "name": "stdout"
        }
      ]
    },
    {
      "cell_type": "code",
      "metadata": {
        "colab": {
          "base_uri": "https://localhost:8080/"
        },
        "id": "HojAwhYqZe5v",
        "outputId": "fbcadbfd-7c3b-471b-dc50-a236e30d7fc8"
      },
      "source": [
        "key = 'pass' \n",
        "\n",
        "  while True:\n",
        "    pwd = input('비밀키를 입력 : ')\n",
        "    if key == pwd:\n",
        "      print('암호가 해제되었습니다.')\n",
        "      break\n",
        "    else :\n",
        "      print('다시 입력 해주세요')"
      ],
      "execution_count": null,
      "outputs": [
        {
          "output_type": "stream",
          "text": [
            "비밀키를 입력 : um\n",
            "다시 입력 해주세요\n",
            "비밀키를 입력 : jun\n",
            "다시 입력 해주세요\n",
            "비밀키를 입력 : sik\n",
            "다시 입력 해주세요\n",
            "비밀키를 입력 : pass\n",
            "암호가 해제되었습니다.\n"
          ],
          "name": "stdout"
        }
      ]
    },
    {
      "cell_type": "code",
      "metadata": {
        "colab": {
          "base_uri": "https://localhost:8080/"
        },
        "id": "2ZLiFf-paeis",
        "outputId": "5fc65e5b-4adc-415f-8eb7-8965e05577d4"
      },
      "source": [
        "age = input('나이 입력 : ')\n",
        "\n",
        "age = int(age)\n",
        "\n",
        "print(age - 1)"
      ],
      "execution_count": null,
      "outputs": [
        {
          "output_type": "stream",
          "text": [
            "나이 입력 : 18\n",
            "17\n"
          ],
          "name": "stdout"
        }
      ]
    },
    {
      "cell_type": "code",
      "metadata": {
        "colab": {
          "base_uri": "https://localhost:8080/"
        },
        "id": "SeBIUpXebtZX",
        "outputId": "c298d636-9c61-4399-da8f-84db428437fa"
      },
      "source": [
        "name = input('이름입력 : ')\n",
        "age = int(input('나이입력 : '))\n",
        "\n",
        "print(f'안녕하세요! {name}님! 당신의 만 나이는 {age-1}입니다.')"
      ],
      "execution_count": null,
      "outputs": [
        {
          "output_type": "stream",
          "text": [
            "이름입력 : 이태경\n",
            "나이입력 : 18\n",
            "안녕하세요! 이태경님! 당신의 만 나이는 17입니다.\n"
          ],
          "name": "stdout"
        }
      ]
    },
    {
      "cell_type": "code",
      "metadata": {
        "colab": {
          "base_uri": "https://localhost:8080/"
        },
        "id": "VuE74_WAcH_m",
        "outputId": "36a64c34-d11c-4453-fb62-e7c668e4bc80"
      },
      "source": [
        "print(10 * 2)"
      ],
      "execution_count": null,
      "outputs": [
        {
          "output_type": "stream",
          "text": [
            "20\n"
          ],
          "name": "stdout"
        }
      ]
    },
    {
      "cell_type": "code",
      "metadata": {
        "colab": {
          "base_uri": "https://localhost:8080/"
        },
        "id": "BZamkDOxcaaI",
        "outputId": "24cc6e49-8ad0-495c-ef1e-d178482e15b7"
      },
      "source": [
        "10 ** 2"
      ],
      "execution_count": null,
      "outputs": [
        {
          "output_type": "execute_result",
          "data": {
            "text/plain": [
              "100"
            ]
          },
          "metadata": {
            "tags": []
          },
          "execution_count": 61
        }
      ]
    },
    {
      "cell_type": "code",
      "metadata": {
        "colab": {
          "base_uri": "https://localhost:8080/"
        },
        "id": "kS2QAglcccYL",
        "outputId": "e7047b00-9e33-406e-8deb-b0d02a0377a8"
      },
      "source": [
        "10 % 3"
      ],
      "execution_count": null,
      "outputs": [
        {
          "output_type": "execute_result",
          "data": {
            "text/plain": [
              "1"
            ]
          },
          "metadata": {
            "tags": []
          },
          "execution_count": 63
        }
      ]
    },
    {
      "cell_type": "code",
      "metadata": {
        "colab": {
          "base_uri": "https://localhost:8080/"
        },
        "id": "N5cbzVpYcheN",
        "outputId": "1b0902df-f112-42a0-d256-e676f7117aba"
      },
      "source": [
        "10 // 3"
      ],
      "execution_count": null,
      "outputs": [
        {
          "output_type": "execute_result",
          "data": {
            "text/plain": [
              "3"
            ]
          },
          "metadata": {
            "tags": []
          },
          "execution_count": 64
        }
      ]
    },
    {
      "cell_type": "code",
      "metadata": {
        "colab": {
          "base_uri": "https://localhost:8080/"
        },
        "id": "5-CL40I5c2Q-",
        "outputId": "b6fc4066-18d4-4201-855c-f6e2a30e48d9"
      },
      "source": [
        "10 / 3"
      ],
      "execution_count": null,
      "outputs": [
        {
          "output_type": "execute_result",
          "data": {
            "text/plain": [
              "3.3333333333333335"
            ]
          },
          "metadata": {
            "tags": []
          },
          "execution_count": 66
        }
      ]
    },
    {
      "cell_type": "code",
      "metadata": {
        "colab": {
          "base_uri": "https://localhost:8080/"
        },
        "id": "XSnQWNZ8dD_2",
        "outputId": "dd53ed17-d7a7-43f8-a349-68cd3adcbf37"
      },
      "source": [
        "10 >= 2"
      ],
      "execution_count": null,
      "outputs": [
        {
          "output_type": "execute_result",
          "data": {
            "text/plain": [
              "True"
            ]
          },
          "metadata": {
            "tags": []
          },
          "execution_count": 67
        }
      ]
    },
    {
      "cell_type": "code",
      "metadata": {
        "colab": {
          "base_uri": "https://localhost:8080/"
        },
        "id": "SodWkmsUdbir",
        "outputId": "22bea29a-3a9a-48b8-8200-2a424df93a1c"
      },
      "source": [
        "10 <= 2"
      ],
      "execution_count": null,
      "outputs": [
        {
          "output_type": "execute_result",
          "data": {
            "text/plain": [
              "False"
            ]
          },
          "metadata": {
            "tags": []
          },
          "execution_count": 68
        }
      ]
    },
    {
      "cell_type": "code",
      "metadata": {
        "colab": {
          "base_uri": "https://localhost:8080/"
        },
        "id": "QkNh7PBWddGq",
        "outputId": "668e860f-9439-49d2-cd64-3f999d69a086"
      },
      "source": [
        "10 == 2"
      ],
      "execution_count": null,
      "outputs": [
        {
          "output_type": "execute_result",
          "data": {
            "text/plain": [
              "False"
            ]
          },
          "metadata": {
            "tags": []
          },
          "execution_count": 69
        }
      ]
    },
    {
      "cell_type": "code",
      "metadata": {
        "colab": {
          "base_uri": "https://localhost:8080/"
        },
        "id": "S74vHAbGdrxm",
        "outputId": "ebda6629-e996-45c9-bd43-7b4430ee2faf"
      },
      "source": [
        "10 != 2"
      ],
      "execution_count": null,
      "outputs": [
        {
          "output_type": "execute_result",
          "data": {
            "text/plain": [
              "True"
            ]
          },
          "metadata": {
            "tags": []
          },
          "execution_count": 71
        }
      ]
    },
    {
      "cell_type": "code",
      "metadata": {
        "colab": {
          "base_uri": "https://localhost:8080/"
        },
        "id": "P65wSF39dtSV",
        "outputId": "6b4579b6-fe11-41bf-ba39-aa7ec41f2b8b"
      },
      "source": [
        "10%2 == 1"
      ],
      "execution_count": null,
      "outputs": [
        {
          "output_type": "execute_result",
          "data": {
            "text/plain": [
              "False"
            ]
          },
          "metadata": {
            "tags": []
          },
          "execution_count": 72
        }
      ]
    },
    {
      "cell_type": "code",
      "metadata": {
        "colab": {
          "base_uri": "https://localhost:8080/"
        },
        "id": "axF4NW0ed6NO",
        "outputId": "ad3d65d2-1fc0-43d4-8bc4-0b01731655fc"
      },
      "source": [
        "1==1 and 2!=1"
      ],
      "execution_count": null,
      "outputs": [
        {
          "output_type": "execute_result",
          "data": {
            "text/plain": [
              "True"
            ]
          },
          "metadata": {
            "tags": []
          },
          "execution_count": 74
        }
      ]
    },
    {
      "cell_type": "code",
      "metadata": {
        "colab": {
          "base_uri": "https://localhost:8080/"
        },
        "id": "yorcpyGpeWxS",
        "outputId": "722240ba-cead-44c2-d547-987ca1e92498"
      },
      "source": [
        "10 > 5 or 10 == 5"
      ],
      "execution_count": null,
      "outputs": [
        {
          "output_type": "execute_result",
          "data": {
            "text/plain": [
              "True"
            ]
          },
          "metadata": {
            "tags": []
          },
          "execution_count": 76
        }
      ]
    },
    {
      "cell_type": "code",
      "metadata": {
        "colab": {
          "base_uri": "https://localhost:8080/"
        },
        "id": "kJW-cTUGehvC",
        "outputId": "c117aa00-5bee-41e3-be5f-11c84d835ce8"
      },
      "source": [
        "not 10 < 5"
      ],
      "execution_count": null,
      "outputs": [
        {
          "output_type": "execute_result",
          "data": {
            "text/plain": [
              "True"
            ]
          },
          "metadata": {
            "tags": []
          },
          "execution_count": 78
        }
      ]
    },
    {
      "cell_type": "code",
      "metadata": {
        "id": "Mh8hgNGMezPE"
      },
      "source": [
        ""
      ],
      "execution_count": null,
      "outputs": []
    }
  ]
}