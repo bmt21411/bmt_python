{
  "nbformat": 4,
  "nbformat_minor": 0,
  "metadata": {
    "colab": {
      "name": "4주차_21411.ipynb",
      "provenance": [],
      "authorship_tag": "ABX9TyM9ru0P8PeU/5g841pslZHk",
      "include_colab_link": true
    },
    "kernelspec": {
      "name": "python3",
      "display_name": "Python 3"
    },
    "language_info": {
      "name": "python"
    }
  },
  "cells": [
    {
      "cell_type": "markdown",
      "metadata": {
        "id": "view-in-github",
        "colab_type": "text"
      },
      "source": [
        "<a href=\"https://colab.research.google.com/github/bmt21411/bmt_python/blob/main/4%EC%A3%BC%EC%B0%A8_21411.ipynb\" target=\"_parent\"><img src=\"https://colab.research.google.com/assets/colab-badge.svg\" alt=\"Open In Colab\"/></a>"
      ]
    },
    {
      "cell_type": "code",
      "metadata": {
        "colab": {
          "base_uri": "https://localhost:8080/"
        },
        "id": "EbNLV2EhNBwh",
        "outputId": "498384cb-4675-443d-9576-3183d2f419cc"
      },
      "source": [
        "print('Hello World', end='\\n')\n",
        "print('Busan')"
      ],
      "execution_count": null,
      "outputs": [
        {
          "output_type": "stream",
          "text": [
            "Hello World\n",
            "Busan\n"
          ],
          "name": "stdout"
        }
      ]
    },
    {
      "cell_type": "code",
      "metadata": {
        "colab": {
          "base_uri": "https://localhost:8080/"
        },
        "id": "FsQu5CzVPVgu",
        "outputId": "cf91ddbe-8db9-4ded-9cc3-c3d1d426ad52"
      },
      "source": [
        "print('Hello','World','Busan')\n",
        "print('Hello'*3)"
      ],
      "execution_count": null,
      "outputs": [
        {
          "output_type": "stream",
          "text": [
            "Hello World Busan\n",
            "HelloHelloHello\n"
          ],
          "name": "stdout"
        }
      ]
    },
    {
      "cell_type": "code",
      "metadata": {
        "colab": {
          "base_uri": "https://localhost:8080/"
        },
        "id": "XR7AvJEKQISY",
        "outputId": "5664836e-3259-4928-cd70-d021dbfb478b"
      },
      "source": [
        "print('Hello\\nPython')"
      ],
      "execution_count": null,
      "outputs": [
        {
          "output_type": "stream",
          "text": [
            "Hello\n",
            "Python\n"
          ],
          "name": "stdout"
        }
      ]
    },
    {
      "cell_type": "code",
      "metadata": {
        "colab": {
          "base_uri": "https://localhost:8080/"
        },
        "id": "FWR0DilcRS6t",
        "outputId": "1f0e1936-e2db-46f1-cf74-3a02c26ef8ab"
      },
      "source": [
        "x = input()"
      ],
      "execution_count": null,
      "outputs": [
        {
          "output_type": "stream",
          "text": [
            "안녕하세요\n"
          ],
          "name": "stdout"
        }
      ]
    },
    {
      "cell_type": "code",
      "metadata": {
        "colab": {
          "base_uri": "https://localhost:8080/"
        },
        "id": "DlofhNxfSLbo",
        "outputId": "f8a8c9bb-33fe-4e22-a0fd-d8b1d2801a06"
      },
      "source": [
        "x = input('x 입력 : ')\n",
        "y = input('y 입력 : ')"
      ],
      "execution_count": null,
      "outputs": [
        {
          "output_type": "stream",
          "text": [
            "x 입력 : 10\n",
            "y 입력 : 20\n"
          ],
          "name": "stdout"
        }
      ]
    },
    {
      "cell_type": "code",
      "metadata": {
        "colab": {
          "base_uri": "https://localhost:8080/"
        },
        "id": "B58D0oBbSfLo",
        "outputId": "b7360dbe-4671-4fc6-fb62-bf8506f314a0"
      },
      "source": [
        "print(x, '+', y, '=', x+y)"
      ],
      "execution_count": null,
      "outputs": [
        {
          "output_type": "stream",
          "text": [
            "10 + 20 = 1020\n"
          ],
          "name": "stdout"
        }
      ]
    },
    {
      "cell_type": "code",
      "metadata": {
        "id": "qi2kkrevS6M4"
      },
      "source": [
        "x = int(x)\n",
        "y = int(y)"
      ],
      "execution_count": null,
      "outputs": []
    },
    {
      "cell_type": "code",
      "metadata": {
        "colab": {
          "base_uri": "https://localhost:8080/"
        },
        "id": "WwuZhzLbS_9Y",
        "outputId": "da1c6114-9028-4fc5-a538-209691f6900a"
      },
      "source": [
        "print(x, '+', y, '=', x+y)"
      ],
      "execution_count": null,
      "outputs": [
        {
          "output_type": "stream",
          "text": [
            "10 + 20 = 30\n"
          ],
          "name": "stdout"
        }
      ]
    },
    {
      "cell_type": "code",
      "metadata": {
        "colab": {
          "base_uri": "https://localhost:8080/"
        },
        "id": "u4PgAxtaTDgY",
        "outputId": "0b8e2de3-ea72-49c9-db6a-927833c77afa"
      },
      "source": [
        "x = int(input('x 정수 입력 : '))\n",
        "y = int(input('y 정수 입력 : '))"
      ],
      "execution_count": null,
      "outputs": [
        {
          "output_type": "stream",
          "text": [
            "x 정수 입력 : 10\n",
            "y 정수 입력 : 20\n"
          ],
          "name": "stdout"
        }
      ]
    },
    {
      "cell_type": "code",
      "metadata": {
        "colab": {
          "base_uri": "https://localhost:8080/"
        },
        "id": "Jx_piuYZTuoP",
        "outputId": "a0ecebe2-a18e-4f0a-9d09-6b1b48920239"
      },
      "source": [
        "print(x, '+', y, '=', (x + y))\n",
        "print(x, '-', y, '=', (x - y))\n",
        "print(x, 'x', y, '=', (x * y))\n",
        "print(x, '/', y, '=', (x / y))"
      ],
      "execution_count": null,
      "outputs": [
        {
          "output_type": "stream",
          "text": [
            "10 + 20 = 30\n",
            "10 - 20 = -10\n",
            "10 x 20 = 200\n",
            "10 / 20 = 0.5\n"
          ],
          "name": "stdout"
        }
      ]
    },
    {
      "cell_type": "code",
      "metadata": {
        "colab": {
          "base_uri": "https://localhost:8080/"
        },
        "id": "VoyOjCo3T1Mo",
        "outputId": "b9e4bbf4-d0a9-4215-a81d-8ff566f8bf8c"
      },
      "source": [
        "weight = float(input('weight(kg) : '))\n",
        "height = float(input('height(cm) : '))"
      ],
      "execution_count": null,
      "outputs": [
        {
          "output_type": "stream",
          "text": [
            "weight(kg) : 61\n",
            "height(cm) : 173\n"
          ],
          "name": "stdout"
        }
      ]
    },
    {
      "cell_type": "code",
      "metadata": {
        "id": "mZoeHEw7UuKo"
      },
      "source": [
        "BMI = weight / (height/100)**2"
      ],
      "execution_count": null,
      "outputs": []
    },
    {
      "cell_type": "code",
      "metadata": {
        "colab": {
          "base_uri": "https://localhost:8080/"
        },
        "id": "QE6XB8a9VBm4",
        "outputId": "6fc4d724-9b84-4f53-9b0e-9e4104f19c68"
      },
      "source": [
        "print(f'BMI : {BMI:.2f}')"
      ],
      "execution_count": null,
      "outputs": [
        {
          "output_type": "stream",
          "text": [
            "BMI : 20.38\n"
          ],
          "name": "stdout"
        }
      ]
    },
    {
      "cell_type": "code",
      "metadata": {
        "colab": {
          "base_uri": "https://localhost:8080/"
        },
        "id": "wX0yUE09VHio",
        "outputId": "3c035669-6593-4473-f462-aff4f9fb0554"
      },
      "source": [
        "if BMI > 20 : \n",
        "  print('넌 살좀 빼야돼!!!👌👌')\n",
        "elif BMI > 30 :\n",
        "  print('넌 헬스장 가야돼!!!👌👌')\n",
        "elif BMI > 0 and BMI <= 20:\n",
        "  print('넌 괜찮아')\n",
        "else : \n",
        "  print('먼가 이상해')"
      ],
      "execution_count": null,
      "outputs": [
        {
          "output_type": "stream",
          "text": [
            "넌 살좀 빼야돼!!!👌👌\n"
          ],
          "name": "stdout"
        }
      ]
    },
    {
      "cell_type": "code",
      "metadata": {
        "colab": {
          "base_uri": "https://localhost:8080/",
          "height": 35
        },
        "id": "PvnF1BQpVlsX",
        "outputId": "4a023be1-1e18-42b1-f407-aa1a41bbcc98"
      },
      "source": [
        "x = 'Hello Python'\n",
        "x"
      ],
      "execution_count": null,
      "outputs": [
        {
          "output_type": "execute_result",
          "data": {
            "application/vnd.google.colaboratory.intrinsic+json": {
              "type": "string"
            },
            "text/plain": [
              "'Hello Python'"
            ]
          },
          "metadata": {
            "tags": []
          },
          "execution_count": 36
        }
      ]
    },
    {
      "cell_type": "code",
      "metadata": {
        "colab": {
          "base_uri": "https://localhost:8080/"
        },
        "id": "sZyJFreqao6p",
        "outputId": "224f4396-f44e-43b9-f9ec-faaba40cdb29"
      },
      "source": [
        "len(x)"
      ],
      "execution_count": null,
      "outputs": [
        {
          "output_type": "execute_result",
          "data": {
            "text/plain": [
              "12"
            ]
          },
          "metadata": {
            "tags": []
          },
          "execution_count": 35
        }
      ]
    },
    {
      "cell_type": "code",
      "metadata": {
        "colab": {
          "base_uri": "https://localhost:8080/",
          "height": 35
        },
        "id": "WdLVqKZpbWE4",
        "outputId": "9517c35a-2793-48f2-9dd5-286e1d9fcdd2"
      },
      "source": [
        "x"
      ],
      "execution_count": null,
      "outputs": [
        {
          "output_type": "execute_result",
          "data": {
            "application/vnd.google.colaboratory.intrinsic+json": {
              "type": "string"
            },
            "text/plain": [
              "'Hello Python'"
            ]
          },
          "metadata": {
            "tags": []
          },
          "execution_count": 37
        }
      ]
    },
    {
      "cell_type": "code",
      "metadata": {
        "colab": {
          "base_uri": "https://localhost:8080/"
        },
        "id": "cpLKKpdXbhNo",
        "outputId": "422602ee-7f90-44f1-804b-bbf920ac3677"
      },
      "source": [
        "x.count('H')"
      ],
      "execution_count": null,
      "outputs": [
        {
          "output_type": "execute_result",
          "data": {
            "text/plain": [
              "1"
            ]
          },
          "metadata": {
            "tags": []
          },
          "execution_count": 39
        }
      ]
    },
    {
      "cell_type": "code",
      "metadata": {
        "colab": {
          "base_uri": "https://localhost:8080/",
          "height": 35
        },
        "id": "0C6K_D3UbjFI",
        "outputId": "d7ec1e7e-d06d-4c32-d6fe-2ffe5f9df747"
      },
      "source": [
        "x"
      ],
      "execution_count": null,
      "outputs": [
        {
          "output_type": "execute_result",
          "data": {
            "application/vnd.google.colaboratory.intrinsic+json": {
              "type": "string"
            },
            "text/plain": [
              "'Hello Python'"
            ]
          },
          "metadata": {
            "tags": []
          },
          "execution_count": 40
        }
      ]
    },
    {
      "cell_type": "code",
      "metadata": {
        "colab": {
          "base_uri": "https://localhost:8080/"
        },
        "id": "FNi2X7zCb_oX",
        "outputId": "84b96a62-110d-4fa9-aec2-156af098b04d"
      },
      "source": [
        "x.find('H')"
      ],
      "execution_count": null,
      "outputs": [
        {
          "output_type": "execute_result",
          "data": {
            "text/plain": [
              "0"
            ]
          },
          "metadata": {
            "tags": []
          },
          "execution_count": 41
        }
      ]
    },
    {
      "cell_type": "code",
      "metadata": {
        "colab": {
          "base_uri": "https://localhost:8080/",
          "height": 35
        },
        "id": "K3x7EGZjcOJI",
        "outputId": "b1649609-25e7-4637-cb86-c3579e644d84"
      },
      "source": [
        "x[0]"
      ],
      "execution_count": null,
      "outputs": [
        {
          "output_type": "execute_result",
          "data": {
            "application/vnd.google.colaboratory.intrinsic+json": {
              "type": "string"
            },
            "text/plain": [
              "'H'"
            ]
          },
          "metadata": {
            "tags": []
          },
          "execution_count": 42
        }
      ]
    },
    {
      "cell_type": "code",
      "metadata": {
        "colab": {
          "base_uri": "https://localhost:8080/",
          "height": 35
        },
        "id": "rb6BhtCWcQfo",
        "outputId": "408c5277-8347-42f1-f8e6-4cfd85282995"
      },
      "source": [
        "x"
      ],
      "execution_count": null,
      "outputs": [
        {
          "output_type": "execute_result",
          "data": {
            "application/vnd.google.colaboratory.intrinsic+json": {
              "type": "string"
            },
            "text/plain": [
              "'Hello Python'"
            ]
          },
          "metadata": {
            "tags": []
          },
          "execution_count": 43
        }
      ]
    },
    {
      "cell_type": "code",
      "metadata": {
        "colab": {
          "base_uri": "https://localhost:8080/"
        },
        "id": "__vKyJs3cdjI",
        "outputId": "682bf651-4f2d-4181-a56d-b3301c6d7c88"
      },
      "source": [
        "x.index('Python')"
      ],
      "execution_count": null,
      "outputs": [
        {
          "output_type": "execute_result",
          "data": {
            "text/plain": [
              "6"
            ]
          },
          "metadata": {
            "tags": []
          },
          "execution_count": 44
        }
      ]
    },
    {
      "cell_type": "code",
      "metadata": {
        "colab": {
          "base_uri": "https://localhost:8080/"
        },
        "id": "DAdi7-tDigu4",
        "outputId": "8f23dd67-23bf-4e9f-853e-712cea97fe9c"
      },
      "source": [
        "print(f'x.index(\"Python\") : {x.index(\"Python\")}')"
      ],
      "execution_count": null,
      "outputs": [
        {
          "output_type": "stream",
          "text": [
            "x.index(\"Python\") : 6\n"
          ],
          "name": "stdout"
        }
      ]
    },
    {
      "cell_type": "code",
      "metadata": {
        "colab": {
          "base_uri": "https://localhost:8080/",
          "height": 35
        },
        "id": "vYHouhKWcg7n",
        "outputId": "6ec8c1f5-affc-4b85-ddf9-a72de2f711fb"
      },
      "source": [
        "x"
      ],
      "execution_count": null,
      "outputs": [
        {
          "output_type": "execute_result",
          "data": {
            "application/vnd.google.colaboratory.intrinsic+json": {
              "type": "string"
            },
            "text/plain": [
              "'Hello Python'"
            ]
          },
          "metadata": {
            "tags": []
          },
          "execution_count": 45
        }
      ]
    },
    {
      "cell_type": "code",
      "metadata": {
        "colab": {
          "base_uri": "https://localhost:8080/"
        },
        "id": "18MBuDRFcyoX",
        "outputId": "fded3943-7dde-4675-b69c-4b23bf82ab77"
      },
      "source": [
        "z = '-'.join(x)\n",
        "print(z)"
      ],
      "execution_count": null,
      "outputs": [
        {
          "output_type": "stream",
          "text": [
            "H-e-l-l-o- -P-y-t-h-o-n\n"
          ],
          "name": "stdout"
        }
      ]
    },
    {
      "cell_type": "code",
      "metadata": {
        "colab": {
          "base_uri": "https://localhost:8080/",
          "height": 35
        },
        "id": "AKPvss6Rc9TH",
        "outputId": "d15d6dd4-f4d6-46a8-a4a7-adfa5756fcdd"
      },
      "source": [
        "x"
      ],
      "execution_count": null,
      "outputs": [
        {
          "output_type": "execute_result",
          "data": {
            "application/vnd.google.colaboratory.intrinsic+json": {
              "type": "string"
            },
            "text/plain": [
              "'Hello Python'"
            ]
          },
          "metadata": {
            "tags": []
          },
          "execution_count": 47
        }
      ]
    },
    {
      "cell_type": "code",
      "metadata": {
        "colab": {
          "base_uri": "https://localhost:8080/"
        },
        "id": "92_RYh6-irHA",
        "outputId": "255d3b35-b608-4e56-ea9a-1c3ab3f199f6"
      },
      "source": [
        "x.upper()\n",
        "print(f'x.upper() : {x.upper()}')"
      ],
      "execution_count": null,
      "outputs": [
        {
          "output_type": "stream",
          "text": [
            "x.upper() : HELLO PYTHON\n"
          ],
          "name": "stdout"
        }
      ]
    },
    {
      "cell_type": "code",
      "metadata": {
        "colab": {
          "base_uri": "https://localhost:8080/",
          "height": 35
        },
        "id": "5vkqF9Bwiudx",
        "outputId": "89794f7d-5f35-45a3-a9cd-a690c2c82f0e"
      },
      "source": [
        "x"
      ],
      "execution_count": null,
      "outputs": [
        {
          "output_type": "execute_result",
          "data": {
            "application/vnd.google.colaboratory.intrinsic+json": {
              "type": "string"
            },
            "text/plain": [
              "'Hello Python'"
            ]
          },
          "metadata": {
            "tags": []
          },
          "execution_count": 67
        }
      ]
    },
    {
      "cell_type": "code",
      "metadata": {
        "colab": {
          "base_uri": "https://localhost:8080/"
        },
        "id": "ykfJ4O7tiv2I",
        "outputId": "366dae1e-ba48-4785-e5be-86bb65b803dc"
      },
      "source": [
        "x.lower()\n",
        "print(f'x.lower() : {x.lower()}')"
      ],
      "execution_count": null,
      "outputs": [
        {
          "output_type": "stream",
          "text": [
            "x.lower() : hello python\n"
          ],
          "name": "stdout"
        }
      ]
    },
    {
      "cell_type": "code",
      "metadata": {
        "colab": {
          "base_uri": "https://localhost:8080/",
          "height": 35
        },
        "id": "NndFzj7IizyY",
        "outputId": "156edff2-c83e-4fab-8193-ff12bb31cfb3"
      },
      "source": [
        "x"
      ],
      "execution_count": null,
      "outputs": [
        {
          "output_type": "execute_result",
          "data": {
            "application/vnd.google.colaboratory.intrinsic+json": {
              "type": "string"
            },
            "text/plain": [
              "'Hello Python'"
            ]
          },
          "metadata": {
            "tags": []
          },
          "execution_count": 69
        }
      ]
    },
    {
      "cell_type": "code",
      "metadata": {
        "colab": {
          "base_uri": "https://localhost:8080/",
          "height": 35
        },
        "id": "FQkWQPXLdJpX",
        "outputId": "9b3b9480-acea-4271-cf3c-2366460aa898"
      },
      "source": [
        "x.replace('O', '😊')"
      ],
      "execution_count": null,
      "outputs": [
        {
          "output_type": "execute_result",
          "data": {
            "application/vnd.google.colaboratory.intrinsic+json": {
              "type": "string"
            },
            "text/plain": [
              "'Hello Python'"
            ]
          },
          "metadata": {
            "tags": []
          },
          "execution_count": 49
        }
      ]
    },
    {
      "cell_type": "code",
      "metadata": {
        "colab": {
          "base_uri": "https://localhost:8080/",
          "height": 35
        },
        "id": "9cAhOIvhi2hI",
        "outputId": "af5cacdb-691c-4a54-bb82-af419f038dac"
      },
      "source": [
        "x"
      ],
      "execution_count": null,
      "outputs": [
        {
          "output_type": "execute_result",
          "data": {
            "application/vnd.google.colaboratory.intrinsic+json": {
              "type": "string"
            },
            "text/plain": [
              "'Hello Python'"
            ]
          },
          "metadata": {
            "tags": []
          },
          "execution_count": 70
        }
      ]
    },
    {
      "cell_type": "code",
      "metadata": {
        "colab": {
          "base_uri": "https://localhost:8080/"
        },
        "id": "SdT_x4bri3aY",
        "outputId": "6b493aed-5175-4cd6-92a5-8f423c3a9b1b"
      },
      "source": [
        "y = '-'.join(x)\n",
        "print(y)"
      ],
      "execution_count": null,
      "outputs": [
        {
          "output_type": "stream",
          "text": [
            "H-e-l-l-o- -P-y-t-h-o-n\n"
          ],
          "name": "stdout"
        }
      ]
    },
    {
      "cell_type": "code",
      "metadata": {
        "colab": {
          "base_uri": "https://localhost:8080/"
        },
        "id": "Z-zf0Dgbi5cI",
        "outputId": "40fdfcb8-4eb5-4628-a34f-252b0e9e2342"
      },
      "source": [
        "y.split(\"-\")\n",
        "print(f'y.split(\"-\") : {y.split(\"-\")}')"
      ],
      "execution_count": null,
      "outputs": [
        {
          "output_type": "stream",
          "text": [
            "y.split(\"-\") : ['H', 'e', 'l', 'l', 'o', ' ', 'P', 'y', 't', 'h', 'o', 'n']\n"
          ],
          "name": "stdout"
        }
      ]
    },
    {
      "cell_type": "code",
      "metadata": {
        "colab": {
          "base_uri": "https://localhost:8080/"
        },
        "id": "eAUNJU7ldiUI",
        "outputId": "d226001b-0aa2-43dd-8c5f-067fa2a2ae44"
      },
      "source": [
        "corona = '''\n",
        "코로나(corona)는 라틴말로 왕관을 뜻하며 통상 태양을 둘러싼 외곽의 빛(광환)을 지칭한다.\n",
        "코로나 바이러스라는 이름은 전자현미경으로 이 바이러스를 관찰했을 때 마치 코로나와 유사한 모양을 띠어 붙여진 이름이다.\n",
        "이번에 중국의 우환에서 시작된 코로나 바이러스는 2019년에 발견된 새로운 코로나 바이러스라는 뜻으로 2019-nCov로 붙여졌다.\n",
        "nCov는 novel(새로운) Cov(코로나 바이러스)라는 뜻이다.\n",
        "'''\n",
        "\n",
        "print('-'*50)\n",
        "sentence = corona.count('.')\n",
        "print(f'{sentence} 개의 문장으로 이루어짐')\n",
        "print(corona.replace('\\n','').split('.'))\n",
        "\n",
        "\n",
        "print('-'*50)\n",
        "\n",
        "\n",
        "str = input('찾으려는 단어를 입력하시요 : ')\n",
        "cnt = corona.count(str)\n",
        "print(f\"'{str}'(은/는) {cnt} 번 언급됨\")"
      ],
      "execution_count": null,
      "outputs": [
        {
          "output_type": "stream",
          "text": [
            "--------------------------------------------------\n",
            "4 개의 문장으로 이루어짐\n",
            "['코로나(corona)는 라틴말로 왕관을 뜻하며 통상 태양을 둘러싼 외곽의 빛(광환)을 지칭한다', '코로나 바이러스라는 이름은 전자현미경으로 이 바이러스를 관찰했을 때 마치 코로나와 유사한 모양을 띠어 붙여진 이름이다', '이번에 중국의 우환에서 시작된 코로나 바이러스는 2019년에 발견된 새로운 코로나 바이러스라는 뜻으로 2019-nCov로 붙여졌다', 'nCov는 novel(새로운) Cov(코로나 바이러스)라는 뜻이다', '']\n",
            "--------------------------------------------------\n",
            "찾으려는 단어를 입력하시요 : 바이러스\n",
            "'바이러스'(은/는) 5 번 언급됨\n"
          ],
          "name": "stdout"
        }
      ]
    },
    {
      "cell_type": "code",
      "metadata": {
        "colab": {
          "base_uri": "https://localhost:8080/"
        },
        "id": "5R0qCWQBeY_Y",
        "outputId": "d291e81e-c96c-4073-9b26-57267b275e1b"
      },
      "source": [
        "anysong = '''\n",
        "왜들 그리 다운돼있어? 뭐가 문제야 say something\n",
        "분위기가 겁나 싸해 요새는 이런 게 유행인가\n",
        "왜들 그리 재미없어? 아 그건 나도 마찬가지\n",
        "Tell me what I got to do 급한 대로 블루투스 켜\n",
        "아무 노래나 일단 틀어 아무거나 신나는 걸로\n",
        "아무렇게나 춤춰 아무렇지 않아 보이게\n",
        "아무 생각 하기 싫어 아무개로 살래 잠시\n",
        "I'm sick and tired of my every day, keep it up 한 곡 더\n",
        "아무 노래나 일단 틀어 아무렴 어때 it's so boring\n",
        "아무래도 refresh가 시급한 듯해 쌓여가 스트레스가\n",
        "배꼽 빠질 만큼만 폭소하고 싶은 날이야\n",
        "What up my dawgs? 어디야 너희 올 때 병맥주랑 까까 몇 개 사 와 uh\n",
        "클럽은 구미가 잘 안 당겨 우리 집 거실로 빨랑 모여\n",
        "외부인은 요령껏 차단 시켜 밤새 수다 떨 시간도 모자라\n",
        "누군 힘들어 죽겠고 누군 축제 괜히 싱숭생숭 I want my youth back\n",
        "좀 전까지 왁자지껄 하다 한 명 두 명씩 자릴 떠\n",
        "왜들 그리 다운돼있어? 뭐가 문제야 say something\n",
        "분위기가 겁나 싸해 요새는 이런 게 유행인가\n",
        "왜들 그리 재미없어? 아 그건 나도 마찬가지\n",
        "Tell me what I got to do 급한 대로 블루투스 켜\n",
        "아무 노래나 일단 틀어 아무거나 신나는 걸로\n",
        "아무렇게나 춤춰 아무렇지 않아 보이게\n",
        "아무 생각 하기 싫어 아무개로 살래 잠시\n",
        "I'm sick and tired of my every day, keep it up 한 곡 더\n",
        "떠나질 못할 바엔\n",
        "창밖은 쳐다도 안 봐\n",
        "회까닥해서 추태를 부려도\n",
        "No worries at all 이미지 왜 챙겨 그래 봤자 우리끼린데\n",
        "Ooh 늦기 전에 막판 스퍼트 20대가 얼마 안 남았어\n",
        "편한 옷으로 갈아입어 you look nice, get 'em high\n",
        "얼핏 보면 그냥 코미디 이렇게 무해한 파티 처음이지?\n",
        "만감이 교차하는 새벽 2시경 술잔과 감정이 소용돌이쳐\n",
        "왜들 그리 다운돼있어? 뭐가 문제야 say something\n",
        "분위기가 겁나 싸해 요새는 이런 게 유행인가\n",
        "왜들 그리 재미없어? 아 그건 나도 마찬가지\n",
        "Tell me what I got to do 급한 대로 블루투스 켜\n",
        "아무 노래나 일단 틀어 아무거나 신나는 걸로\n",
        "아무렇게나 춤춰 아무렇지 않아 보이게\n",
        "아무 생각 하기 싫어 아무개로 살래 잠시\n",
        "I'm sick and tired of my every day, keep it up 한 곡 더\n",
        "아무 노래나 일단\n",
        "La-la-la, la-la-la, la-la-la-la\n",
        "La-la-la, la-la-la, la-la-la-la (You ain't gonna get a day like this)\n",
        "아무 노래 아무 노래 아무 노래나 틀어봐\n",
        "아무 노래 아무 노래 아무 노래나 틀어봐 (Yeah)\n",
        "아무 노래 (ooh) 아무 노래 아무 노래나 틀어봐\n",
        "아무 노래 아무 노래 아무 노래나 KOZ\n",
        "'''\n",
        "\n",
        "song = anysong.count('\\n')\n",
        "print(f'{song-1} 개의 문장으로 이루어짐')\n",
        "\n",
        "print(anysong.replace('\\n', ', ').split('\\n'))\n",
        "print('-'*50)\n",
        "\n",
        "str = input('찾으려는 단어를 입력하세요 : ')\n",
        "cnt = anysong.count(str)\n",
        "print(f\"'{str}'(은/는) {cnt} 번 언급됨.\")"
      ],
      "execution_count": null,
      "outputs": [
        {
          "output_type": "stream",
          "text": [
            "47 개의 문장으로 이루어짐\n",
            "[\", 왜들 그리 다운돼있어? 뭐가 문제야 say something, 분위기가 겁나 싸해 요새는 이런 게 유행인가, 왜들 그리 재미없어? 아 그건 나도 마찬가지, Tell me what I got to do 급한 대로 블루투스 켜, 아무 노래나 일단 틀어 아무거나 신나는 걸로, 아무렇게나 춤춰 아무렇지 않아 보이게, 아무 생각 하기 싫어 아무개로 살래 잠시, I'm sick and tired of my every day, keep it up 한 곡 더, 아무 노래나 일단 틀어 아무렴 어때 it's so boring, 아무래도 refresh가 시급한 듯해 쌓여가 스트레스가, 배꼽 빠질 만큼만 폭소하고 싶은 날이야, What up my dawgs? 어디야 너희 올 때 병맥주랑 까까 몇 개 사 와 uh, 클럽은 구미가 잘 안 당겨 우리 집 거실로 빨랑 모여, 외부인은 요령껏 차단 시켜 밤새 수다 떨 시간도 모자라, 누군 힘들어 죽겠고 누군 축제 괜히 싱숭생숭 I want my youth back, 좀 전까지 왁자지껄 하다 한 명 두 명씩 자릴 떠, 왜들 그리 다운돼있어? 뭐가 문제야 say something, 분위기가 겁나 싸해 요새는 이런 게 유행인가, 왜들 그리 재미없어? 아 그건 나도 마찬가지, Tell me what I got to do 급한 대로 블루투스 켜, 아무 노래나 일단 틀어 아무거나 신나는 걸로, 아무렇게나 춤춰 아무렇지 않아 보이게, 아무 생각 하기 싫어 아무개로 살래 잠시, I'm sick and tired of my every day, keep it up 한 곡 더, 떠나질 못할 바엔, 창밖은 쳐다도 안 봐, 회까닥해서 추태를 부려도, No worries at all 이미지 왜 챙겨 그래 봤자 우리끼린데, Ooh 늦기 전에 막판 스퍼트 20대가 얼마 안 남았어, 편한 옷으로 갈아입어 you look nice, get 'em high, 얼핏 보면 그냥 코미디 이렇게 무해한 파티 처음이지?, 만감이 교차하는 새벽 2시경 술잔과 감정이 소용돌이쳐, 왜들 그리 다운돼있어? 뭐가 문제야 say something, 분위기가 겁나 싸해 요새는 이런 게 유행인가, 왜들 그리 재미없어? 아 그건 나도 마찬가지, Tell me what I got to do 급한 대로 블루투스 켜, 아무 노래나 일단 틀어 아무거나 신나는 걸로, 아무렇게나 춤춰 아무렇지 않아 보이게, 아무 생각 하기 싫어 아무개로 살래 잠시, I'm sick and tired of my every day, keep it up 한 곡 더, 아무 노래나 일단, La-la-la, la-la-la, la-la-la-la, La-la-la, la-la-la, la-la-la-la (You ain't gonna get a day like this), 아무 노래 아무 노래 아무 노래나 틀어봐, 아무 노래 아무 노래 아무 노래나 틀어봐 (Yeah), 아무 노래 (ooh) 아무 노래 아무 노래나 틀어봐, 아무 노래 아무 노래 아무 노래나 KOZ, \"]\n",
            "--------------------------------------------------\n",
            "찾으려는 단어를 입력하세요 : 아무\n",
            "'아무'(은/는) 34 번 언급됨.\n"
          ],
          "name": "stdout"
        }
      ]
    },
    {
      "cell_type": "code",
      "metadata": {
        "id": "8d-N2ff0hWa4"
      },
      "source": [
        "lst = []"
      ],
      "execution_count": null,
      "outputs": []
    },
    {
      "cell_type": "code",
      "metadata": {
        "colab": {
          "base_uri": "https://localhost:8080/"
        },
        "id": "Cngo1XHPhu64",
        "outputId": "4977b0d1-78dc-402d-9f31-beed630b5c73"
      },
      "source": [
        "print(lst)"
      ],
      "execution_count": null,
      "outputs": [
        {
          "output_type": "stream",
          "text": [
            "[]\n"
          ],
          "name": "stdout"
        }
      ]
    },
    {
      "cell_type": "code",
      "metadata": {
        "colab": {
          "base_uri": "https://localhost:8080/"
        },
        "id": "5jS3L7OuiBOI",
        "outputId": "2cd5f79a-7e1f-4493-ba0c-ac2f767721a2"
      },
      "source": [
        "lst = [10, 20, 30]\n",
        "print(lst)"
      ],
      "execution_count": null,
      "outputs": [
        {
          "output_type": "stream",
          "text": [
            "[10, 20, 30]\n"
          ],
          "name": "stdout"
        }
      ]
    },
    {
      "cell_type": "code",
      "metadata": {
        "colab": {
          "base_uri": "https://localhost:8080/"
        },
        "id": "C4HIui72iDs4",
        "outputId": "eccd9986-a5dd-4add-b974-c14269c64e37"
      },
      "source": [
        "print(lst[:2])"
      ],
      "execution_count": null,
      "outputs": [
        {
          "output_type": "stream",
          "text": [
            "[10, 20]\n"
          ],
          "name": "stdout"
        }
      ]
    },
    {
      "cell_type": "code",
      "metadata": {
        "id": "i4G4AteViScN"
      },
      "source": [
        "lst1 = [10, 20]\n",
        "lst2 = [100, 200]"
      ],
      "execution_count": null,
      "outputs": []
    },
    {
      "cell_type": "code",
      "metadata": {
        "id": "f-Ktw3nwiWgc"
      },
      "source": [
        "lst3 = lst1 + lst2"
      ],
      "execution_count": null,
      "outputs": []
    },
    {
      "cell_type": "code",
      "metadata": {
        "colab": {
          "base_uri": "https://localhost:8080/"
        },
        "id": "5WSr2I3SiYfd",
        "outputId": "8c415636-9717-498e-99ef-44f365309389"
      },
      "source": [
        "lst3 * 3"
      ],
      "execution_count": null,
      "outputs": [
        {
          "output_type": "execute_result",
          "data": {
            "text/plain": [
              "[10, 20, 100, 200, 10, 20, 100, 200, 10, 20, 100, 200]"
            ]
          },
          "metadata": {
            "tags": []
          },
          "execution_count": 77
        }
      ]
    },
    {
      "cell_type": "code",
      "metadata": {
        "id": "q-NplRfzjHdd"
      },
      "source": [
        ""
      ],
      "execution_count": null,
      "outputs": []
    }
  ]
}